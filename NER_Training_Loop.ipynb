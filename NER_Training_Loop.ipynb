{
  "nbformat": 4,
  "nbformat_minor": 0,
  "metadata": {
    "colab": {
      "provenance": [],
      "mount_file_id": "1afR_w_kJshkW3cIpq8RI6a0wFce9FsWB",
      "authorship_tag": "ABX9TyMxvJ/Ao1B66SDZQ8UPkony",
      "include_colab_link": true
    },
    "kernelspec": {
      "name": "python3",
      "display_name": "Python 3"
    },
    "language_info": {
      "name": "python"
    },
    "gpuClass": "standard",
    "accelerator": "GPU",
    "widgets": {
      "application/vnd.jupyter.widget-state+json": {
        "9cfb53e01564408a917d834e4b04fc6c": {
          "model_module": "@jupyter-widgets/controls",
          "model_name": "HBoxModel",
          "model_module_version": "1.5.0",
          "state": {
            "_dom_classes": [],
            "_model_module": "@jupyter-widgets/controls",
            "_model_module_version": "1.5.0",
            "_model_name": "HBoxModel",
            "_view_count": null,
            "_view_module": "@jupyter-widgets/controls",
            "_view_module_version": "1.5.0",
            "_view_name": "HBoxView",
            "box_style": "",
            "children": [
              "IPY_MODEL_f99ad035ef8b4fc2ae2e3c06afdef80a",
              "IPY_MODEL_af86318c666648f9b4aa34849139558a",
              "IPY_MODEL_191c6f4e8621441ebcba24b06eadbe4f"
            ],
            "layout": "IPY_MODEL_d1ea3e5b9cb8403f95925cccf0718877"
          }
        },
        "f99ad035ef8b4fc2ae2e3c06afdef80a": {
          "model_module": "@jupyter-widgets/controls",
          "model_name": "HTMLModel",
          "model_module_version": "1.5.0",
          "state": {
            "_dom_classes": [],
            "_model_module": "@jupyter-widgets/controls",
            "_model_module_version": "1.5.0",
            "_model_name": "HTMLModel",
            "_view_count": null,
            "_view_module": "@jupyter-widgets/controls",
            "_view_module_version": "1.5.0",
            "_view_name": "HTMLView",
            "description": "",
            "description_tooltip": null,
            "layout": "IPY_MODEL_c8a7f024d272495fb6065d5af878597e",
            "placeholder": "​",
            "style": "IPY_MODEL_684fb3c449874fc99208bad934a74eaa",
            "value": "Map:  91%"
          }
        },
        "af86318c666648f9b4aa34849139558a": {
          "model_module": "@jupyter-widgets/controls",
          "model_name": "FloatProgressModel",
          "model_module_version": "1.5.0",
          "state": {
            "_dom_classes": [],
            "_model_module": "@jupyter-widgets/controls",
            "_model_module_version": "1.5.0",
            "_model_name": "FloatProgressModel",
            "_view_count": null,
            "_view_module": "@jupyter-widgets/controls",
            "_view_module_version": "1.5.0",
            "_view_name": "ProgressView",
            "bar_style": "",
            "description": "",
            "description_tooltip": null,
            "layout": "IPY_MODEL_85c8b15589014f8bb636113a914361c1",
            "max": 2201,
            "min": 0,
            "orientation": "horizontal",
            "style": "IPY_MODEL_e99364ca31484ce48714f9dfa1766798",
            "value": 2201
          }
        },
        "191c6f4e8621441ebcba24b06eadbe4f": {
          "model_module": "@jupyter-widgets/controls",
          "model_name": "HTMLModel",
          "model_module_version": "1.5.0",
          "state": {
            "_dom_classes": [],
            "_model_module": "@jupyter-widgets/controls",
            "_model_module_version": "1.5.0",
            "_model_name": "HTMLModel",
            "_view_count": null,
            "_view_module": "@jupyter-widgets/controls",
            "_view_module_version": "1.5.0",
            "_view_name": "HTMLView",
            "description": "",
            "description_tooltip": null,
            "layout": "IPY_MODEL_d45d34d5ae9b46b3a08156d5aade9587",
            "placeholder": "​",
            "style": "IPY_MODEL_43f9391756484de18ce37a69f38c7639",
            "value": " 2000/2201 [00:00&lt;00:00, 8061.49 examples/s]"
          }
        },
        "d1ea3e5b9cb8403f95925cccf0718877": {
          "model_module": "@jupyter-widgets/base",
          "model_name": "LayoutModel",
          "model_module_version": "1.2.0",
          "state": {
            "_model_module": "@jupyter-widgets/base",
            "_model_module_version": "1.2.0",
            "_model_name": "LayoutModel",
            "_view_count": null,
            "_view_module": "@jupyter-widgets/base",
            "_view_module_version": "1.2.0",
            "_view_name": "LayoutView",
            "align_content": null,
            "align_items": null,
            "align_self": null,
            "border": null,
            "bottom": null,
            "display": null,
            "flex": null,
            "flex_flow": null,
            "grid_area": null,
            "grid_auto_columns": null,
            "grid_auto_flow": null,
            "grid_auto_rows": null,
            "grid_column": null,
            "grid_gap": null,
            "grid_row": null,
            "grid_template_areas": null,
            "grid_template_columns": null,
            "grid_template_rows": null,
            "height": null,
            "justify_content": null,
            "justify_items": null,
            "left": null,
            "margin": null,
            "max_height": null,
            "max_width": null,
            "min_height": null,
            "min_width": null,
            "object_fit": null,
            "object_position": null,
            "order": null,
            "overflow": null,
            "overflow_x": null,
            "overflow_y": null,
            "padding": null,
            "right": null,
            "top": null,
            "visibility": "hidden",
            "width": null
          }
        },
        "c8a7f024d272495fb6065d5af878597e": {
          "model_module": "@jupyter-widgets/base",
          "model_name": "LayoutModel",
          "model_module_version": "1.2.0",
          "state": {
            "_model_module": "@jupyter-widgets/base",
            "_model_module_version": "1.2.0",
            "_model_name": "LayoutModel",
            "_view_count": null,
            "_view_module": "@jupyter-widgets/base",
            "_view_module_version": "1.2.0",
            "_view_name": "LayoutView",
            "align_content": null,
            "align_items": null,
            "align_self": null,
            "border": null,
            "bottom": null,
            "display": null,
            "flex": null,
            "flex_flow": null,
            "grid_area": null,
            "grid_auto_columns": null,
            "grid_auto_flow": null,
            "grid_auto_rows": null,
            "grid_column": null,
            "grid_gap": null,
            "grid_row": null,
            "grid_template_areas": null,
            "grid_template_columns": null,
            "grid_template_rows": null,
            "height": null,
            "justify_content": null,
            "justify_items": null,
            "left": null,
            "margin": null,
            "max_height": null,
            "max_width": null,
            "min_height": null,
            "min_width": null,
            "object_fit": null,
            "object_position": null,
            "order": null,
            "overflow": null,
            "overflow_x": null,
            "overflow_y": null,
            "padding": null,
            "right": null,
            "top": null,
            "visibility": null,
            "width": null
          }
        },
        "684fb3c449874fc99208bad934a74eaa": {
          "model_module": "@jupyter-widgets/controls",
          "model_name": "DescriptionStyleModel",
          "model_module_version": "1.5.0",
          "state": {
            "_model_module": "@jupyter-widgets/controls",
            "_model_module_version": "1.5.0",
            "_model_name": "DescriptionStyleModel",
            "_view_count": null,
            "_view_module": "@jupyter-widgets/base",
            "_view_module_version": "1.2.0",
            "_view_name": "StyleView",
            "description_width": ""
          }
        },
        "85c8b15589014f8bb636113a914361c1": {
          "model_module": "@jupyter-widgets/base",
          "model_name": "LayoutModel",
          "model_module_version": "1.2.0",
          "state": {
            "_model_module": "@jupyter-widgets/base",
            "_model_module_version": "1.2.0",
            "_model_name": "LayoutModel",
            "_view_count": null,
            "_view_module": "@jupyter-widgets/base",
            "_view_module_version": "1.2.0",
            "_view_name": "LayoutView",
            "align_content": null,
            "align_items": null,
            "align_self": null,
            "border": null,
            "bottom": null,
            "display": null,
            "flex": null,
            "flex_flow": null,
            "grid_area": null,
            "grid_auto_columns": null,
            "grid_auto_flow": null,
            "grid_auto_rows": null,
            "grid_column": null,
            "grid_gap": null,
            "grid_row": null,
            "grid_template_areas": null,
            "grid_template_columns": null,
            "grid_template_rows": null,
            "height": null,
            "justify_content": null,
            "justify_items": null,
            "left": null,
            "margin": null,
            "max_height": null,
            "max_width": null,
            "min_height": null,
            "min_width": null,
            "object_fit": null,
            "object_position": null,
            "order": null,
            "overflow": null,
            "overflow_x": null,
            "overflow_y": null,
            "padding": null,
            "right": null,
            "top": null,
            "visibility": null,
            "width": null
          }
        },
        "e99364ca31484ce48714f9dfa1766798": {
          "model_module": "@jupyter-widgets/controls",
          "model_name": "ProgressStyleModel",
          "model_module_version": "1.5.0",
          "state": {
            "_model_module": "@jupyter-widgets/controls",
            "_model_module_version": "1.5.0",
            "_model_name": "ProgressStyleModel",
            "_view_count": null,
            "_view_module": "@jupyter-widgets/base",
            "_view_module_version": "1.2.0",
            "_view_name": "StyleView",
            "bar_color": null,
            "description_width": ""
          }
        },
        "d45d34d5ae9b46b3a08156d5aade9587": {
          "model_module": "@jupyter-widgets/base",
          "model_name": "LayoutModel",
          "model_module_version": "1.2.0",
          "state": {
            "_model_module": "@jupyter-widgets/base",
            "_model_module_version": "1.2.0",
            "_model_name": "LayoutModel",
            "_view_count": null,
            "_view_module": "@jupyter-widgets/base",
            "_view_module_version": "1.2.0",
            "_view_name": "LayoutView",
            "align_content": null,
            "align_items": null,
            "align_self": null,
            "border": null,
            "bottom": null,
            "display": null,
            "flex": null,
            "flex_flow": null,
            "grid_area": null,
            "grid_auto_columns": null,
            "grid_auto_flow": null,
            "grid_auto_rows": null,
            "grid_column": null,
            "grid_gap": null,
            "grid_row": null,
            "grid_template_areas": null,
            "grid_template_columns": null,
            "grid_template_rows": null,
            "height": null,
            "justify_content": null,
            "justify_items": null,
            "left": null,
            "margin": null,
            "max_height": null,
            "max_width": null,
            "min_height": null,
            "min_width": null,
            "object_fit": null,
            "object_position": null,
            "order": null,
            "overflow": null,
            "overflow_x": null,
            "overflow_y": null,
            "padding": null,
            "right": null,
            "top": null,
            "visibility": null,
            "width": null
          }
        },
        "43f9391756484de18ce37a69f38c7639": {
          "model_module": "@jupyter-widgets/controls",
          "model_name": "DescriptionStyleModel",
          "model_module_version": "1.5.0",
          "state": {
            "_model_module": "@jupyter-widgets/controls",
            "_model_module_version": "1.5.0",
            "_model_name": "DescriptionStyleModel",
            "_view_count": null,
            "_view_module": "@jupyter-widgets/base",
            "_view_module_version": "1.2.0",
            "_view_name": "StyleView",
            "description_width": ""
          }
        },
        "f2ad572bfdc04bd295dfce7c1043f52a": {
          "model_module": "@jupyter-widgets/controls",
          "model_name": "HBoxModel",
          "model_module_version": "1.5.0",
          "state": {
            "_dom_classes": [],
            "_model_module": "@jupyter-widgets/controls",
            "_model_module_version": "1.5.0",
            "_model_name": "HBoxModel",
            "_view_count": null,
            "_view_module": "@jupyter-widgets/controls",
            "_view_module_version": "1.5.0",
            "_view_name": "HBoxView",
            "box_style": "",
            "children": [
              "IPY_MODEL_589cc264c5054b99b39f5048c93047b5",
              "IPY_MODEL_3385e43a590f4ec8920f5af46213a0a3",
              "IPY_MODEL_c4da1f58772846f29bf58643e84cf9a0"
            ],
            "layout": "IPY_MODEL_70695281a3774b64a9ead62149a56b38"
          }
        },
        "589cc264c5054b99b39f5048c93047b5": {
          "model_module": "@jupyter-widgets/controls",
          "model_name": "HTMLModel",
          "model_module_version": "1.5.0",
          "state": {
            "_dom_classes": [],
            "_model_module": "@jupyter-widgets/controls",
            "_model_module_version": "1.5.0",
            "_model_name": "HTMLModel",
            "_view_count": null,
            "_view_module": "@jupyter-widgets/controls",
            "_view_module_version": "1.5.0",
            "_view_name": "HTMLView",
            "description": "",
            "description_tooltip": null,
            "layout": "IPY_MODEL_a784566e9b2c4584956baaca5fecc464",
            "placeholder": "​",
            "style": "IPY_MODEL_f7b4ae87e9dd4889b91d01c4859be1b9",
            "value": "Map:   0%"
          }
        },
        "3385e43a590f4ec8920f5af46213a0a3": {
          "model_module": "@jupyter-widgets/controls",
          "model_name": "FloatProgressModel",
          "model_module_version": "1.5.0",
          "state": {
            "_dom_classes": [],
            "_model_module": "@jupyter-widgets/controls",
            "_model_module_version": "1.5.0",
            "_model_name": "FloatProgressModel",
            "_view_count": null,
            "_view_module": "@jupyter-widgets/controls",
            "_view_module_version": "1.5.0",
            "_view_name": "ProgressView",
            "bar_style": "",
            "description": "",
            "description_tooltip": null,
            "layout": "IPY_MODEL_b01d176322c547de98c8bcd5690ce0b1",
            "max": 551,
            "min": 0,
            "orientation": "horizontal",
            "style": "IPY_MODEL_c8e2a66e84894516a43feb2829022cf4",
            "value": 551
          }
        },
        "c4da1f58772846f29bf58643e84cf9a0": {
          "model_module": "@jupyter-widgets/controls",
          "model_name": "HTMLModel",
          "model_module_version": "1.5.0",
          "state": {
            "_dom_classes": [],
            "_model_module": "@jupyter-widgets/controls",
            "_model_module_version": "1.5.0",
            "_model_name": "HTMLModel",
            "_view_count": null,
            "_view_module": "@jupyter-widgets/controls",
            "_view_module_version": "1.5.0",
            "_view_name": "HTMLView",
            "description": "",
            "description_tooltip": null,
            "layout": "IPY_MODEL_ea74d1132d324185a7ec2c40f0b833e8",
            "placeholder": "​",
            "style": "IPY_MODEL_1fc1304add5a47b9b367a59cfdd2dd6b",
            "value": " 0/551 [00:00&lt;?, ? examples/s]"
          }
        },
        "70695281a3774b64a9ead62149a56b38": {
          "model_module": "@jupyter-widgets/base",
          "model_name": "LayoutModel",
          "model_module_version": "1.2.0",
          "state": {
            "_model_module": "@jupyter-widgets/base",
            "_model_module_version": "1.2.0",
            "_model_name": "LayoutModel",
            "_view_count": null,
            "_view_module": "@jupyter-widgets/base",
            "_view_module_version": "1.2.0",
            "_view_name": "LayoutView",
            "align_content": null,
            "align_items": null,
            "align_self": null,
            "border": null,
            "bottom": null,
            "display": null,
            "flex": null,
            "flex_flow": null,
            "grid_area": null,
            "grid_auto_columns": null,
            "grid_auto_flow": null,
            "grid_auto_rows": null,
            "grid_column": null,
            "grid_gap": null,
            "grid_row": null,
            "grid_template_areas": null,
            "grid_template_columns": null,
            "grid_template_rows": null,
            "height": null,
            "justify_content": null,
            "justify_items": null,
            "left": null,
            "margin": null,
            "max_height": null,
            "max_width": null,
            "min_height": null,
            "min_width": null,
            "object_fit": null,
            "object_position": null,
            "order": null,
            "overflow": null,
            "overflow_x": null,
            "overflow_y": null,
            "padding": null,
            "right": null,
            "top": null,
            "visibility": "hidden",
            "width": null
          }
        },
        "a784566e9b2c4584956baaca5fecc464": {
          "model_module": "@jupyter-widgets/base",
          "model_name": "LayoutModel",
          "model_module_version": "1.2.0",
          "state": {
            "_model_module": "@jupyter-widgets/base",
            "_model_module_version": "1.2.0",
            "_model_name": "LayoutModel",
            "_view_count": null,
            "_view_module": "@jupyter-widgets/base",
            "_view_module_version": "1.2.0",
            "_view_name": "LayoutView",
            "align_content": null,
            "align_items": null,
            "align_self": null,
            "border": null,
            "bottom": null,
            "display": null,
            "flex": null,
            "flex_flow": null,
            "grid_area": null,
            "grid_auto_columns": null,
            "grid_auto_flow": null,
            "grid_auto_rows": null,
            "grid_column": null,
            "grid_gap": null,
            "grid_row": null,
            "grid_template_areas": null,
            "grid_template_columns": null,
            "grid_template_rows": null,
            "height": null,
            "justify_content": null,
            "justify_items": null,
            "left": null,
            "margin": null,
            "max_height": null,
            "max_width": null,
            "min_height": null,
            "min_width": null,
            "object_fit": null,
            "object_position": null,
            "order": null,
            "overflow": null,
            "overflow_x": null,
            "overflow_y": null,
            "padding": null,
            "right": null,
            "top": null,
            "visibility": null,
            "width": null
          }
        },
        "f7b4ae87e9dd4889b91d01c4859be1b9": {
          "model_module": "@jupyter-widgets/controls",
          "model_name": "DescriptionStyleModel",
          "model_module_version": "1.5.0",
          "state": {
            "_model_module": "@jupyter-widgets/controls",
            "_model_module_version": "1.5.0",
            "_model_name": "DescriptionStyleModel",
            "_view_count": null,
            "_view_module": "@jupyter-widgets/base",
            "_view_module_version": "1.2.0",
            "_view_name": "StyleView",
            "description_width": ""
          }
        },
        "b01d176322c547de98c8bcd5690ce0b1": {
          "model_module": "@jupyter-widgets/base",
          "model_name": "LayoutModel",
          "model_module_version": "1.2.0",
          "state": {
            "_model_module": "@jupyter-widgets/base",
            "_model_module_version": "1.2.0",
            "_model_name": "LayoutModel",
            "_view_count": null,
            "_view_module": "@jupyter-widgets/base",
            "_view_module_version": "1.2.0",
            "_view_name": "LayoutView",
            "align_content": null,
            "align_items": null,
            "align_self": null,
            "border": null,
            "bottom": null,
            "display": null,
            "flex": null,
            "flex_flow": null,
            "grid_area": null,
            "grid_auto_columns": null,
            "grid_auto_flow": null,
            "grid_auto_rows": null,
            "grid_column": null,
            "grid_gap": null,
            "grid_row": null,
            "grid_template_areas": null,
            "grid_template_columns": null,
            "grid_template_rows": null,
            "height": null,
            "justify_content": null,
            "justify_items": null,
            "left": null,
            "margin": null,
            "max_height": null,
            "max_width": null,
            "min_height": null,
            "min_width": null,
            "object_fit": null,
            "object_position": null,
            "order": null,
            "overflow": null,
            "overflow_x": null,
            "overflow_y": null,
            "padding": null,
            "right": null,
            "top": null,
            "visibility": null,
            "width": null
          }
        },
        "c8e2a66e84894516a43feb2829022cf4": {
          "model_module": "@jupyter-widgets/controls",
          "model_name": "ProgressStyleModel",
          "model_module_version": "1.5.0",
          "state": {
            "_model_module": "@jupyter-widgets/controls",
            "_model_module_version": "1.5.0",
            "_model_name": "ProgressStyleModel",
            "_view_count": null,
            "_view_module": "@jupyter-widgets/base",
            "_view_module_version": "1.2.0",
            "_view_name": "StyleView",
            "bar_color": null,
            "description_width": ""
          }
        },
        "ea74d1132d324185a7ec2c40f0b833e8": {
          "model_module": "@jupyter-widgets/base",
          "model_name": "LayoutModel",
          "model_module_version": "1.2.0",
          "state": {
            "_model_module": "@jupyter-widgets/base",
            "_model_module_version": "1.2.0",
            "_model_name": "LayoutModel",
            "_view_count": null,
            "_view_module": "@jupyter-widgets/base",
            "_view_module_version": "1.2.0",
            "_view_name": "LayoutView",
            "align_content": null,
            "align_items": null,
            "align_self": null,
            "border": null,
            "bottom": null,
            "display": null,
            "flex": null,
            "flex_flow": null,
            "grid_area": null,
            "grid_auto_columns": null,
            "grid_auto_flow": null,
            "grid_auto_rows": null,
            "grid_column": null,
            "grid_gap": null,
            "grid_row": null,
            "grid_template_areas": null,
            "grid_template_columns": null,
            "grid_template_rows": null,
            "height": null,
            "justify_content": null,
            "justify_items": null,
            "left": null,
            "margin": null,
            "max_height": null,
            "max_width": null,
            "min_height": null,
            "min_width": null,
            "object_fit": null,
            "object_position": null,
            "order": null,
            "overflow": null,
            "overflow_x": null,
            "overflow_y": null,
            "padding": null,
            "right": null,
            "top": null,
            "visibility": null,
            "width": null
          }
        },
        "1fc1304add5a47b9b367a59cfdd2dd6b": {
          "model_module": "@jupyter-widgets/controls",
          "model_name": "DescriptionStyleModel",
          "model_module_version": "1.5.0",
          "state": {
            "_model_module": "@jupyter-widgets/controls",
            "_model_module_version": "1.5.0",
            "_model_name": "DescriptionStyleModel",
            "_view_count": null,
            "_view_module": "@jupyter-widgets/base",
            "_view_module_version": "1.2.0",
            "_view_name": "StyleView",
            "description_width": ""
          }
        },
        "cd8a50e0389d40a6b6340ba183c947c0": {
          "model_module": "@jupyter-widgets/controls",
          "model_name": "HBoxModel",
          "model_module_version": "1.5.0",
          "state": {
            "_dom_classes": [],
            "_model_module": "@jupyter-widgets/controls",
            "_model_module_version": "1.5.0",
            "_model_name": "HBoxModel",
            "_view_count": null,
            "_view_module": "@jupyter-widgets/controls",
            "_view_module_version": "1.5.0",
            "_view_name": "HBoxView",
            "box_style": "",
            "children": [
              "IPY_MODEL_540f9794dee34b6a846e2c7730022202",
              "IPY_MODEL_d5dce08ad7c745e8b9ed0f397cd084f7",
              "IPY_MODEL_8f816147856342ee9ef6add522c76ac6"
            ],
            "layout": "IPY_MODEL_c14f8defa60d47c3baf169f0b956c7ed"
          }
        },
        "540f9794dee34b6a846e2c7730022202": {
          "model_module": "@jupyter-widgets/controls",
          "model_name": "HTMLModel",
          "model_module_version": "1.5.0",
          "state": {
            "_dom_classes": [],
            "_model_module": "@jupyter-widgets/controls",
            "_model_module_version": "1.5.0",
            "_model_name": "HTMLModel",
            "_view_count": null,
            "_view_module": "@jupyter-widgets/controls",
            "_view_module_version": "1.5.0",
            "_view_name": "HTMLView",
            "description": "",
            "description_tooltip": null,
            "layout": "IPY_MODEL_cc2a51bd95794aeebf1b1f608ad89caa",
            "placeholder": "​",
            "style": "IPY_MODEL_ce77e31294974c3f99a335518d89e22f",
            "value": "100%"
          }
        },
        "d5dce08ad7c745e8b9ed0f397cd084f7": {
          "model_module": "@jupyter-widgets/controls",
          "model_name": "FloatProgressModel",
          "model_module_version": "1.5.0",
          "state": {
            "_dom_classes": [],
            "_model_module": "@jupyter-widgets/controls",
            "_model_module_version": "1.5.0",
            "_model_name": "FloatProgressModel",
            "_view_count": null,
            "_view_module": "@jupyter-widgets/controls",
            "_view_module_version": "1.5.0",
            "_view_name": "ProgressView",
            "bar_style": "",
            "description": "",
            "description_tooltip": null,
            "layout": "IPY_MODEL_fb30562f189449eaba51a5b8fce81d88",
            "max": 690,
            "min": 0,
            "orientation": "horizontal",
            "style": "IPY_MODEL_2df0ddc2ee2449ea9aa64fc09aed8509",
            "value": 690
          }
        },
        "8f816147856342ee9ef6add522c76ac6": {
          "model_module": "@jupyter-widgets/controls",
          "model_name": "HTMLModel",
          "model_module_version": "1.5.0",
          "state": {
            "_dom_classes": [],
            "_model_module": "@jupyter-widgets/controls",
            "_model_module_version": "1.5.0",
            "_model_name": "HTMLModel",
            "_view_count": null,
            "_view_module": "@jupyter-widgets/controls",
            "_view_module_version": "1.5.0",
            "_view_name": "HTMLView",
            "description": "",
            "description_tooltip": null,
            "layout": "IPY_MODEL_a61b5ae08271497aaa790360043c9b83",
            "placeholder": "​",
            "style": "IPY_MODEL_fa9df181abae48d394fe5fbafefa3404",
            "value": " 690/690 [03:02&lt;00:00,  4.13it/s]"
          }
        },
        "c14f8defa60d47c3baf169f0b956c7ed": {
          "model_module": "@jupyter-widgets/base",
          "model_name": "LayoutModel",
          "model_module_version": "1.2.0",
          "state": {
            "_model_module": "@jupyter-widgets/base",
            "_model_module_version": "1.2.0",
            "_model_name": "LayoutModel",
            "_view_count": null,
            "_view_module": "@jupyter-widgets/base",
            "_view_module_version": "1.2.0",
            "_view_name": "LayoutView",
            "align_content": null,
            "align_items": null,
            "align_self": null,
            "border": null,
            "bottom": null,
            "display": null,
            "flex": null,
            "flex_flow": null,
            "grid_area": null,
            "grid_auto_columns": null,
            "grid_auto_flow": null,
            "grid_auto_rows": null,
            "grid_column": null,
            "grid_gap": null,
            "grid_row": null,
            "grid_template_areas": null,
            "grid_template_columns": null,
            "grid_template_rows": null,
            "height": null,
            "justify_content": null,
            "justify_items": null,
            "left": null,
            "margin": null,
            "max_height": null,
            "max_width": null,
            "min_height": null,
            "min_width": null,
            "object_fit": null,
            "object_position": null,
            "order": null,
            "overflow": null,
            "overflow_x": null,
            "overflow_y": null,
            "padding": null,
            "right": null,
            "top": null,
            "visibility": null,
            "width": null
          }
        },
        "cc2a51bd95794aeebf1b1f608ad89caa": {
          "model_module": "@jupyter-widgets/base",
          "model_name": "LayoutModel",
          "model_module_version": "1.2.0",
          "state": {
            "_model_module": "@jupyter-widgets/base",
            "_model_module_version": "1.2.0",
            "_model_name": "LayoutModel",
            "_view_count": null,
            "_view_module": "@jupyter-widgets/base",
            "_view_module_version": "1.2.0",
            "_view_name": "LayoutView",
            "align_content": null,
            "align_items": null,
            "align_self": null,
            "border": null,
            "bottom": null,
            "display": null,
            "flex": null,
            "flex_flow": null,
            "grid_area": null,
            "grid_auto_columns": null,
            "grid_auto_flow": null,
            "grid_auto_rows": null,
            "grid_column": null,
            "grid_gap": null,
            "grid_row": null,
            "grid_template_areas": null,
            "grid_template_columns": null,
            "grid_template_rows": null,
            "height": null,
            "justify_content": null,
            "justify_items": null,
            "left": null,
            "margin": null,
            "max_height": null,
            "max_width": null,
            "min_height": null,
            "min_width": null,
            "object_fit": null,
            "object_position": null,
            "order": null,
            "overflow": null,
            "overflow_x": null,
            "overflow_y": null,
            "padding": null,
            "right": null,
            "top": null,
            "visibility": null,
            "width": null
          }
        },
        "ce77e31294974c3f99a335518d89e22f": {
          "model_module": "@jupyter-widgets/controls",
          "model_name": "DescriptionStyleModel",
          "model_module_version": "1.5.0",
          "state": {
            "_model_module": "@jupyter-widgets/controls",
            "_model_module_version": "1.5.0",
            "_model_name": "DescriptionStyleModel",
            "_view_count": null,
            "_view_module": "@jupyter-widgets/base",
            "_view_module_version": "1.2.0",
            "_view_name": "StyleView",
            "description_width": ""
          }
        },
        "fb30562f189449eaba51a5b8fce81d88": {
          "model_module": "@jupyter-widgets/base",
          "model_name": "LayoutModel",
          "model_module_version": "1.2.0",
          "state": {
            "_model_module": "@jupyter-widgets/base",
            "_model_module_version": "1.2.0",
            "_model_name": "LayoutModel",
            "_view_count": null,
            "_view_module": "@jupyter-widgets/base",
            "_view_module_version": "1.2.0",
            "_view_name": "LayoutView",
            "align_content": null,
            "align_items": null,
            "align_self": null,
            "border": null,
            "bottom": null,
            "display": null,
            "flex": null,
            "flex_flow": null,
            "grid_area": null,
            "grid_auto_columns": null,
            "grid_auto_flow": null,
            "grid_auto_rows": null,
            "grid_column": null,
            "grid_gap": null,
            "grid_row": null,
            "grid_template_areas": null,
            "grid_template_columns": null,
            "grid_template_rows": null,
            "height": null,
            "justify_content": null,
            "justify_items": null,
            "left": null,
            "margin": null,
            "max_height": null,
            "max_width": null,
            "min_height": null,
            "min_width": null,
            "object_fit": null,
            "object_position": null,
            "order": null,
            "overflow": null,
            "overflow_x": null,
            "overflow_y": null,
            "padding": null,
            "right": null,
            "top": null,
            "visibility": null,
            "width": null
          }
        },
        "2df0ddc2ee2449ea9aa64fc09aed8509": {
          "model_module": "@jupyter-widgets/controls",
          "model_name": "ProgressStyleModel",
          "model_module_version": "1.5.0",
          "state": {
            "_model_module": "@jupyter-widgets/controls",
            "_model_module_version": "1.5.0",
            "_model_name": "ProgressStyleModel",
            "_view_count": null,
            "_view_module": "@jupyter-widgets/base",
            "_view_module_version": "1.2.0",
            "_view_name": "StyleView",
            "bar_color": null,
            "description_width": ""
          }
        },
        "a61b5ae08271497aaa790360043c9b83": {
          "model_module": "@jupyter-widgets/base",
          "model_name": "LayoutModel",
          "model_module_version": "1.2.0",
          "state": {
            "_model_module": "@jupyter-widgets/base",
            "_model_module_version": "1.2.0",
            "_model_name": "LayoutModel",
            "_view_count": null,
            "_view_module": "@jupyter-widgets/base",
            "_view_module_version": "1.2.0",
            "_view_name": "LayoutView",
            "align_content": null,
            "align_items": null,
            "align_self": null,
            "border": null,
            "bottom": null,
            "display": null,
            "flex": null,
            "flex_flow": null,
            "grid_area": null,
            "grid_auto_columns": null,
            "grid_auto_flow": null,
            "grid_auto_rows": null,
            "grid_column": null,
            "grid_gap": null,
            "grid_row": null,
            "grid_template_areas": null,
            "grid_template_columns": null,
            "grid_template_rows": null,
            "height": null,
            "justify_content": null,
            "justify_items": null,
            "left": null,
            "margin": null,
            "max_height": null,
            "max_width": null,
            "min_height": null,
            "min_width": null,
            "object_fit": null,
            "object_position": null,
            "order": null,
            "overflow": null,
            "overflow_x": null,
            "overflow_y": null,
            "padding": null,
            "right": null,
            "top": null,
            "visibility": null,
            "width": null
          }
        },
        "fa9df181abae48d394fe5fbafefa3404": {
          "model_module": "@jupyter-widgets/controls",
          "model_name": "DescriptionStyleModel",
          "model_module_version": "1.5.0",
          "state": {
            "_model_module": "@jupyter-widgets/controls",
            "_model_module_version": "1.5.0",
            "_model_name": "DescriptionStyleModel",
            "_view_count": null,
            "_view_module": "@jupyter-widgets/base",
            "_view_module_version": "1.2.0",
            "_view_name": "StyleView",
            "description_width": ""
          }
        }
      }
    }
  },
  "cells": [
    {
      "cell_type": "markdown",
      "metadata": {
        "id": "view-in-github",
        "colab_type": "text"
      },
      "source": [
        "<a href=\"https://colab.research.google.com/github/sjpark0605/NLP-FYP/blob/main/NER_Training_Loop.ipynb\" target=\"_parent\"><img src=\"https://colab.research.google.com/assets/colab-badge.svg\" alt=\"Open In Colab\"/></a>"
      ]
    },
    {
      "cell_type": "code",
      "source": [
        "%%capture\n",
        "!pip install datasets evaluate transformers[sentencepiece] seqeval accelerate"
      ],
      "metadata": {
        "id": "G3HZIJi-AAy5"
      },
      "execution_count": null,
      "outputs": []
    },
    {
      "cell_type": "code",
      "source": [
        "# Imports for Data Processing\n",
        "import pandas as pd\n",
        "import torch\n",
        "from datasets import load_from_disk"
      ],
      "metadata": {
        "id": "7PE1VnZV_1Sv"
      },
      "execution_count": null,
      "outputs": []
    },
    {
      "cell_type": "code",
      "source": [
        "from google.colab import drive\n",
        "drive.mount('/content/drive')\n",
        "dataset_dir = '/content/drive/MyDrive/COMP0029/datasets/'"
      ],
      "metadata": {
        "id": "rKgXSkBWplXS",
        "colab": {
          "base_uri": "https://localhost:8080/"
        },
        "outputId": "04d467ae-e600-4fb6-c789-4ddf4470e145"
      },
      "execution_count": null,
      "outputs": [
        {
          "output_type": "stream",
          "name": "stdout",
          "text": [
            "Drive already mounted at /content/drive; to attempt to forcibly remount, call drive.mount(\"/content/drive\", force_remount=True).\n"
          ]
        }
      ]
    },
    {
      "cell_type": "code",
      "source": [
        "device = torch.device('cpu')\n",
        "\n",
        "if torch.cuda.is_available():\n",
        "  device = torch.device('cuda')"
      ],
      "metadata": {
        "id": "zHSLhrFb_5Vc"
      },
      "execution_count": null,
      "outputs": []
    },
    {
      "cell_type": "code",
      "source": [
        "corpus_datasets = load_from_disk(dataset_dir + 'english-recipe-ner')"
      ],
      "metadata": {
        "id": "j0nJqSTb_PrX"
      },
      "execution_count": null,
      "outputs": []
    },
    {
      "cell_type": "code",
      "source": [
        "ner_feature = corpus_datasets[\"train\"].features[\"ner_tags\"]\n",
        "label_names = ner_feature.feature.names\n",
        "pure_label_names = list(set(label.replace(\"-B\", \"\").replace(\"-I\", \"\") for label in label_names))"
      ],
      "metadata": {
        "id": "KD3BoplH_ZRZ"
      },
      "execution_count": null,
      "outputs": []
    },
    {
      "cell_type": "code",
      "source": [
        "from transformers import AutoTokenizer\n",
        "\n",
        "model_checkpoint = \"bert-base-cased\"\n",
        "tokenizer = AutoTokenizer.from_pretrained(model_checkpoint)"
      ],
      "metadata": {
        "id": "DcoF-PyT_amo"
      },
      "execution_count": null,
      "outputs": []
    },
    {
      "cell_type": "code",
      "source": [
        "# def align_labels_with_tokens(labels, word_ids):\n",
        "#   new_labels = []\n",
        "#   current_word = None\n",
        "#   for word_id in word_ids:\n",
        "#     if word_id != current_word:\n",
        "#       # Start of a new word!\n",
        "#       current_word = word_id\n",
        "#       label = -100 if word_id is None else labels[word_id]\n",
        "#       new_labels.append(label)\n",
        "#     elif word_id is None:\n",
        "#       # Special token\n",
        "#       new_labels.append(word_id)\n",
        "#     else:\n",
        "#       new_labels.append(labels[word_id])\n",
        "\n",
        "#       #new_labels.append(labels[word_id])\n",
        "#       # # Same word as previous token\n",
        "#       # label = labels[word_id]      \n",
        "#       # # If the label is XXX-B we change it to XXX-I\n",
        "#       # if label % 2 == 0 and label != 20:\n",
        "#       #   label += 1\n",
        "#       #   new_labels.append(label)\n",
        "\n",
        "#   if len(new_labels) != len(word_ids):\n",
        "#     print(\"FATAL LENGTH MATCHING ERROR\")\n",
        "\n",
        "#   return new_labels"
      ],
      "metadata": {
        "id": "erUvZBKH_dSg"
      },
      "execution_count": null,
      "outputs": []
    },
    {
      "cell_type": "code",
      "source": [
        "def align_labels_with_tokens(labels, word_ids):\n",
        "  new_labels = []\n",
        "\n",
        "  for word_id in word_ids:\n",
        "    if word_id is None:\n",
        "      new_labels.append(-100)\n",
        "    else:\n",
        "      new_labels.append(labels[word_id])\n",
        "\n",
        "  if len(new_labels) != len(word_ids):\n",
        "    print(\"FATAL LENGTH MATCHING ERROR\")\n",
        "\n",
        "  return new_labels"
      ],
      "metadata": {
        "id": "eqJPO0A2lqr4"
      },
      "execution_count": null,
      "outputs": []
    },
    {
      "cell_type": "code",
      "source": [
        "def tokenize_and_align_labels(examples):\n",
        "  tokenized_inputs = tokenizer(\n",
        "      examples[\"tokens\"], truncation=True, is_split_into_words=True, max_length=150\n",
        "  )\n",
        "  all_labels = examples[\"ner_tags\"]\n",
        "  new_labels = []\n",
        "  for i, labels in enumerate(all_labels):\n",
        "    word_ids = tokenized_inputs.word_ids(i)\n",
        "    new_labels.append(align_labels_with_tokens(labels, word_ids))\n",
        "\n",
        "  tokenized_inputs[\"labels\"] = new_labels\n",
        "  return tokenized_inputs"
      ],
      "metadata": {
        "id": "rl907k4K_foI"
      },
      "execution_count": null,
      "outputs": []
    },
    {
      "cell_type": "code",
      "source": [
        "tokenized_datasets = corpus_datasets.map(\n",
        "  tokenize_and_align_labels,\n",
        "  batched=True,\n",
        "  remove_columns=corpus_datasets[\"train\"].column_names,\n",
        ")"
      ],
      "metadata": {
        "id": "p33den5H_hD3",
        "colab": {
          "base_uri": "https://localhost:8080/",
          "height": 17,
          "referenced_widgets": [
            "9cfb53e01564408a917d834e4b04fc6c",
            "f99ad035ef8b4fc2ae2e3c06afdef80a",
            "af86318c666648f9b4aa34849139558a",
            "191c6f4e8621441ebcba24b06eadbe4f",
            "d1ea3e5b9cb8403f95925cccf0718877",
            "c8a7f024d272495fb6065d5af878597e",
            "684fb3c449874fc99208bad934a74eaa",
            "85c8b15589014f8bb636113a914361c1",
            "e99364ca31484ce48714f9dfa1766798",
            "d45d34d5ae9b46b3a08156d5aade9587",
            "43f9391756484de18ce37a69f38c7639",
            "f2ad572bfdc04bd295dfce7c1043f52a",
            "589cc264c5054b99b39f5048c93047b5",
            "3385e43a590f4ec8920f5af46213a0a3",
            "c4da1f58772846f29bf58643e84cf9a0",
            "70695281a3774b64a9ead62149a56b38",
            "a784566e9b2c4584956baaca5fecc464",
            "f7b4ae87e9dd4889b91d01c4859be1b9",
            "b01d176322c547de98c8bcd5690ce0b1",
            "c8e2a66e84894516a43feb2829022cf4",
            "ea74d1132d324185a7ec2c40f0b833e8",
            "1fc1304add5a47b9b367a59cfdd2dd6b"
          ]
        },
        "outputId": "3d0e9a1b-d21d-427c-ac28-970853a9b5c4"
      },
      "execution_count": null,
      "outputs": [
        {
          "output_type": "display_data",
          "data": {
            "text/plain": [
              "Map:   0%|          | 0/2201 [00:00<?, ? examples/s]"
            ],
            "application/vnd.jupyter.widget-view+json": {
              "version_major": 2,
              "version_minor": 0,
              "model_id": "9cfb53e01564408a917d834e4b04fc6c"
            }
          },
          "metadata": {}
        },
        {
          "output_type": "display_data",
          "data": {
            "text/plain": [
              "Map:   0%|          | 0/551 [00:00<?, ? examples/s]"
            ],
            "application/vnd.jupyter.widget-view+json": {
              "version_major": 2,
              "version_minor": 0,
              "model_id": "f2ad572bfdc04bd295dfce7c1043f52a"
            }
          },
          "metadata": {}
        }
      ]
    },
    {
      "cell_type": "code",
      "source": [
        "from transformers import DataCollatorForTokenClassification\n",
        "\n",
        "data_collator = DataCollatorForTokenClassification(tokenizer=tokenizer)"
      ],
      "metadata": {
        "id": "_DaodlKA_iLE"
      },
      "execution_count": null,
      "outputs": []
    },
    {
      "cell_type": "code",
      "source": [
        "import evaluate\n",
        "\n",
        "metric = evaluate.load(\"seqeval\")"
      ],
      "metadata": {
        "id": "O7KeYbxf_jXk"
      },
      "execution_count": null,
      "outputs": []
    },
    {
      "cell_type": "code",
      "source": [
        "id2label = {i: label for i, label in enumerate(label_names)}\n",
        "label2id = {v: k for k, v in id2label.items()}"
      ],
      "metadata": {
        "id": "CKhcoSG7_kxA"
      },
      "execution_count": null,
      "outputs": []
    },
    {
      "cell_type": "code",
      "source": [
        "from torch.utils.data import DataLoader\n",
        "\n",
        "train_dataloader = DataLoader(\n",
        "  tokenized_datasets[\"train\"],\n",
        "  shuffle=True,\n",
        "  collate_fn=data_collator,\n",
        "  batch_size=32,\n",
        ")\n",
        "\n",
        "eval_dataloader = DataLoader(\n",
        "  tokenized_datasets[\"valid\"], \n",
        "  collate_fn=data_collator, \n",
        "  batch_size=32,\n",
        ")"
      ],
      "metadata": {
        "id": "YINNhUWJ_l3e"
      },
      "execution_count": null,
      "outputs": []
    },
    {
      "cell_type": "code",
      "source": [
        "# Calculate Weights for Cross Entropy Loss\n",
        "num_labels = len(label_names)\n",
        "frequencies = [0] * num_labels\n",
        "\n",
        "for batch in train_dataloader:\n",
        "  for labels in batch['labels']:\n",
        "    for label in labels:\n",
        "      if label != -100:\n",
        "        frequencies[label] += 1\n",
        "\n",
        "weights = [0.] * num_labels\n",
        "\n",
        "total_samples = sum(frequencies)\n",
        "for i in range(num_labels):\n",
        "    weights[i] = total_samples / (num_labels * frequencies[i])\n",
        "\n",
        "weights = torch.tensor(weights)\n",
        "weights /= weights.sum()"
      ],
      "metadata": {
        "id": "9JqegDBpqWA1",
        "colab": {
          "base_uri": "https://localhost:8080/"
        },
        "outputId": "d98d2012-0c19-4281-c2ba-e1058e87ad04"
      },
      "execution_count": null,
      "outputs": [
        {
          "output_type": "stream",
          "name": "stderr",
          "text": [
            "You're using a BertTokenizerFast tokenizer. Please note that with a fast tokenizer, using the `__call__` method is faster than using a method to encode the text followed by a call to the `pad` method to get a padded encoding.\n"
          ]
        },
        {
          "output_type": "stream",
          "name": "stdout",
          "text": [
            "[6064, 623, 145, 155, 247, 66, 11, 8, 512, 830, 6020, 1270, 518, 302, 1105, 304, 879, 308, 1929, 522, 15287]\n",
            "tensor([6.0928e-04, 5.9305e-03, 2.5481e-02, 2.3837e-02, 1.4958e-02, 5.5980e-02,\n",
            "        3.3588e-01, 4.6184e-01, 7.2162e-03, 4.4514e-03, 6.1374e-04, 2.9092e-03,\n",
            "        7.1326e-03, 1.2234e-02, 3.3436e-03, 1.2154e-02, 4.2033e-03, 1.1996e-02,\n",
            "        1.9153e-03, 7.0779e-03, 2.4169e-04])\n"
          ]
        }
      ]
    },
    {
      "cell_type": "code",
      "source": [
        "from transformers import AutoModelForTokenClassification\n",
        "\n",
        "ner_model = AutoModelForTokenClassification.from_pretrained(\n",
        "  model_checkpoint,\n",
        "  id2label=id2label,\n",
        "  label2id=label2id,\n",
        ")"
      ],
      "metadata": {
        "id": "A6LF07gg_nAp",
        "colab": {
          "base_uri": "https://localhost:8080/"
        },
        "outputId": "8ce80def-ec8d-409d-ca0e-804e660c0235"
      },
      "execution_count": null,
      "outputs": [
        {
          "output_type": "stream",
          "name": "stderr",
          "text": [
            "Some weights of the model checkpoint at bert-base-cased were not used when initializing BertForTokenClassification: ['cls.predictions.transform.LayerNorm.bias', 'cls.predictions.transform.dense.bias', 'cls.predictions.bias', 'cls.predictions.decoder.weight', 'cls.predictions.transform.LayerNorm.weight', 'cls.predictions.transform.dense.weight', 'cls.seq_relationship.bias', 'cls.seq_relationship.weight']\n",
            "- This IS expected if you are initializing BertForTokenClassification from the checkpoint of a model trained on another task or with another architecture (e.g. initializing a BertForSequenceClassification model from a BertForPreTraining model).\n",
            "- This IS NOT expected if you are initializing BertForTokenClassification from the checkpoint of a model that you expect to be exactly identical (initializing a BertForSequenceClassification model from a BertForSequenceClassification model).\n",
            "Some weights of BertForTokenClassification were not initialized from the model checkpoint at bert-base-cased and are newly initialized: ['classifier.bias', 'classifier.weight']\n",
            "You should probably TRAIN this model on a down-stream task to be able to use it for predictions and inference.\n"
          ]
        }
      ]
    },
    {
      "cell_type": "code",
      "source": [
        "from torch.optim import AdamW\n",
        "\n",
        "param_optimizer = list(ner_model.named_parameters())\n",
        "no_decay = ['bias', 'gamma', 'beta']\n",
        "optimizer_grouped_parameters = [\n",
        "    {'params': [p for n, p in param_optimizer if not any(nd in n for nd in no_decay)],\n",
        "      'weight_decay_rate': 0.01},\n",
        "    {'params': [p for n, p in param_optimizer if any(nd in n for nd in no_decay)],\n",
        "      'weight_decay_rate': 0.0}\n",
        "]\n",
        "\n",
        "optimizer = AdamW(\n",
        "    optimizer_grouped_parameters,\n",
        "    lr=3e-5,\n",
        "    eps=1e-8\n",
        ")\n",
        "\n",
        "# optimizer = AdamW(ner_model.parameters(), lr=3e-5, eps=1e-8, weight_decay=0.1)"
      ],
      "metadata": {
        "id": "_7GsMotG_oPe"
      },
      "execution_count": null,
      "outputs": []
    },
    {
      "cell_type": "code",
      "source": [
        "from accelerate import Accelerator\n",
        "\n",
        "accelerator = Accelerator()\n",
        "ner_model, optimizer, train_dataloader, eval_dataloader = accelerator.prepare(\n",
        "  ner_model, optimizer, train_dataloader, eval_dataloader\n",
        ")"
      ],
      "metadata": {
        "id": "LZ3Bkxfe_pnL"
      },
      "execution_count": null,
      "outputs": []
    },
    {
      "cell_type": "code",
      "source": [
        "print(len(train_dataloader))"
      ],
      "metadata": {
        "id": "cw1JUtJk_qyL",
        "colab": {
          "base_uri": "https://localhost:8080/"
        },
        "outputId": "cb73c3a2-14e6-4390-811f-9fdb63d0098c"
      },
      "execution_count": null,
      "outputs": [
        {
          "output_type": "stream",
          "name": "stdout",
          "text": [
            "69\n"
          ]
        }
      ]
    },
    {
      "cell_type": "code",
      "source": [
        "from transformers import get_scheduler\n",
        "\n",
        "num_train_epochs = 10\n",
        "num_update_steps_per_epoch = len(train_dataloader)\n",
        "num_training_steps = num_train_epochs * num_update_steps_per_epoch\n",
        "\n",
        "lr_scheduler = get_scheduler(\n",
        "  \"linear\",\n",
        "  optimizer=optimizer,\n",
        "  num_warmup_steps=0,\n",
        "  num_training_steps=num_training_steps,\n",
        ")"
      ],
      "metadata": {
        "id": "Qv0ASRqJ_r2D"
      },
      "execution_count": null,
      "outputs": []
    },
    {
      "cell_type": "code",
      "source": [
        "def postprocess(predictions, labels):\n",
        "    predictions = predictions.detach().cpu().clone().numpy()\n",
        "    labels = labels.detach().cpu().clone().numpy()\n",
        "\n",
        "    # Remove ignored index (special tokens) and convert to labels\n",
        "    true_labels = [[label_names[l] for l in label if l != -100] for label in labels]\n",
        "    true_predictions = [\n",
        "        [label_names[p] for (p, l) in zip(prediction, label) if l != -100]\n",
        "        for prediction, label in zip(predictions, labels)\n",
        "    ]\n",
        "    return true_predictions, true_labels"
      ],
      "metadata": {
        "id": "oTIKB_Kw_s3a"
      },
      "execution_count": null,
      "outputs": []
    },
    {
      "cell_type": "code",
      "source": [
        "from tqdm.auto import tqdm\n",
        "from torch import nn\n",
        "import torch\n",
        "\n",
        "progress_bar = tqdm(range(num_training_steps))\n",
        "\n",
        "for epoch in range(num_train_epochs):\n",
        "    \n",
        "    # Training\n",
        "    train_loss_val = 0\n",
        "\n",
        "    ner_model.train()\n",
        "    for batch in train_dataloader:\n",
        "        labels = batch.get(\"labels\")\n",
        "\n",
        "        outputs = ner_model(**batch)\n",
        "\n",
        "        logits = outputs.get(\"logits\")\n",
        "        loss = outputs.loss\n",
        "\n",
        "        train_loss_val += loss.item()\n",
        "\n",
        "        accelerator.backward(loss)\n",
        "\n",
        "        optimizer.step()\n",
        "        lr_scheduler.step()\n",
        "        optimizer.zero_grad()\n",
        "        progress_bar.update(1)\n",
        "\n",
        "    print(f\"Training Loss: {train_loss_val / len(train_dataloader)}\")\n",
        "\n",
        "    # Evaluation\n",
        "    eval_loss_val = 0\n",
        "\n",
        "    ner_model.eval()\n",
        "    for batch in eval_dataloader:\n",
        "        with torch.no_grad():\n",
        "            outputs = ner_model(**batch)\n",
        "            \n",
        "        eval_loss_val += outputs.get(\"loss\").item()\n",
        "\n",
        "        predictions = outputs.logits.argmax(dim=-1)\n",
        "        labels = batch[\"labels\"]\n",
        "\n",
        "        # Necessary to pad predictions and labels for being gathered\n",
        "        predictions = accelerator.pad_across_processes(predictions, dim=1, pad_index=-100)\n",
        "        labels = accelerator.pad_across_processes(labels, dim=1, pad_index=-100)\n",
        "\n",
        "        predictions_gathered = accelerator.gather(predictions)\n",
        "        labels_gathered = accelerator.gather(labels)\n",
        "\n",
        "        true_predictions, true_labels = postprocess(predictions_gathered, labels_gathered)\n",
        "        metric.add_batch(predictions=true_predictions, references=true_labels)\n",
        "\n",
        "\n",
        "    print(f\"Validation Loss: {eval_loss_val / len(eval_dataloader)}\")\n",
        "\n",
        "    results = metric.compute(suffix=True)\n",
        "    print(\n",
        "        f\"epoch {epoch}:\",\n",
        "        {\n",
        "            f\"overall_{key}\": results[f\"overall_{key}\"]\n",
        "            for key in [\"precision\", \"recall\", \"f1\", \"accuracy\"]\n",
        "        },\n",
        "        \"\\n\"\n",
        "    )"
      ],
      "metadata": {
        "id": "4w6kJWo7_wnU",
        "colab": {
          "base_uri": "https://localhost:8080/",
          "height": 819,
          "referenced_widgets": [
            "cd8a50e0389d40a6b6340ba183c947c0",
            "540f9794dee34b6a846e2c7730022202",
            "d5dce08ad7c745e8b9ed0f397cd084f7",
            "8f816147856342ee9ef6add522c76ac6",
            "c14f8defa60d47c3baf169f0b956c7ed",
            "cc2a51bd95794aeebf1b1f608ad89caa",
            "ce77e31294974c3f99a335518d89e22f",
            "fb30562f189449eaba51a5b8fce81d88",
            "2df0ddc2ee2449ea9aa64fc09aed8509",
            "a61b5ae08271497aaa790360043c9b83",
            "fa9df181abae48d394fe5fbafefa3404"
          ]
        },
        "outputId": "9018d7be-deee-44e9-a822-bcf081887647"
      },
      "execution_count": null,
      "outputs": [
        {
          "output_type": "display_data",
          "data": {
            "text/plain": [
              "  0%|          | 0/690 [00:00<?, ?it/s]"
            ],
            "application/vnd.jupyter.widget-view+json": {
              "version_major": 2,
              "version_minor": 0,
              "model_id": "cd8a50e0389d40a6b6340ba183c947c0"
            }
          },
          "metadata": {}
        },
        {
          "output_type": "stream",
          "name": "stdout",
          "text": [
            "Training Loss: 1.0164752922196318\n",
            "Validation Loss: 0.38953473170598346\n"
          ]
        },
        {
          "output_type": "stream",
          "name": "stderr",
          "text": [
            "/usr/local/lib/python3.9/dist-packages/seqeval/metrics/v1.py:57: UndefinedMetricWarning: Precision and F-score are ill-defined and being set to 0.0 in labels with no predicted samples. Use `zero_division` parameter to control this behavior.\n",
            "  _warn_prf(average, modifier, msg_start, len(result))\n"
          ]
        },
        {
          "output_type": "stream",
          "name": "stdout",
          "text": [
            "epoch 0: {'overall_precision': 0.8101574628520737, 'overall_recall': 0.8563056727613689, 'overall_f1': 0.8325925925925927, 'overall_accuracy': 0.8928097345132744} \n",
            "\n",
            "Training Loss: 0.3225571701060171\n",
            "Validation Loss: 0.2820766758587625\n",
            "epoch 1: {'overall_precision': 0.8609906414060716, 'overall_recall': 0.8842006563525551, 'overall_f1': 0.8724413091245519, 'overall_accuracy': 0.9179203539823009} \n",
            "\n",
            "Training Loss: 0.22057598872461182\n",
            "Validation Loss: 0.27001895010471344\n",
            "epoch 2: {'overall_precision': 0.8756607676396231, 'overall_recall': 0.8931082981715893, 'overall_f1': 0.8842984797493327, 'overall_accuracy': 0.923783185840708} \n",
            "\n",
            "Training Loss: 0.16937695044106332\n",
            "Validation Loss: 0.2647460682524575\n",
            "epoch 3: {'overall_precision': 0.8812471343420449, 'overall_recall': 0.9010782934833568, 'overall_f1': 0.8910523875753361, 'overall_accuracy': 0.927212389380531} \n",
            "\n",
            "Training Loss: 0.1306333093755487\n",
            "Validation Loss: 0.2665892475181156\n",
            "epoch 4: {'overall_precision': 0.8867006487488415, 'overall_recall': 0.897093295827473, 'overall_f1': 0.8918666977394547, 'overall_accuracy': 0.9275442477876106} \n",
            "\n",
            "Training Loss: 0.10612323016360187\n",
            "Validation Loss: 0.2770191091630194\n",
            "epoch 5: {'overall_precision': 0.8862745098039215, 'overall_recall': 0.9006094702297234, 'overall_f1': 0.8933844901755609, 'overall_accuracy': 0.9280973451327433} \n",
            "\n",
            "Training Loss: 0.08760825274647147\n",
            "Validation Loss: 0.28457149200969273\n",
            "epoch 6: {'overall_precision': 0.8921363952679193, 'overall_recall': 0.9015471167369902, 'overall_f1': 0.8968170689052117, 'overall_accuracy': 0.9289823008849557} \n",
            "\n",
            "Training Loss: 0.07533580464297447\n",
            "Validation Loss: 0.292143309281932\n",
            "epoch 7: {'overall_precision': 0.8916666666666667, 'overall_recall': 0.9029535864978903, 'overall_f1': 0.8972746331236897, 'overall_accuracy': 0.9307522123893806} \n",
            "\n",
            "Training Loss: 0.06673440763699835\n",
            "Validation Loss: 0.29850146174430847\n",
            "epoch 8: {'overall_precision': 0.8907330567081605, 'overall_recall': 0.9057665260196905, 'overall_f1': 0.898186889818689, 'overall_accuracy': 0.9307522123893806} \n",
            "\n",
            "Training Loss: 0.0635060687697884\n",
            "Validation Loss: 0.29728759825229645\n",
            "epoch 9: {'overall_precision': 0.8920480813684697, 'overall_recall': 0.9045944678856072, 'overall_f1': 0.8982774674115458, 'overall_accuracy': 0.930641592920354} \n",
            "\n"
          ]
        }
      ]
    },
    {
      "cell_type": "code",
      "source": [
        "import numpy as np\n",
        "\n",
        "def evaluate(dataloader_val):\n",
        "\n",
        "    ner_model.eval()\n",
        "    \n",
        "    loss_val_total = 0\n",
        "    predictions, true_vals = [], []\n",
        "    \n",
        "    for batch in dataloader_val:\n",
        "        inputs = {\n",
        "                  'input_ids':      batch['input_ids'],\n",
        "                  'attention_mask': batch['attention_mask'],\n",
        "                  'labels':         batch['labels'],\n",
        "                 }\n",
        "\n",
        "        with torch.no_grad():        \n",
        "            outputs = ner_model(**inputs)\n",
        "            \n",
        "        loss = outputs.get(\"loss\")\n",
        "        logits = outputs.get(\"logits\")\n",
        "        loss_val_total += loss.item()\n",
        "\n",
        "        logits = logits.detach().cpu().numpy()\n",
        "        label_ids = inputs['labels'].cpu().numpy()\n",
        "        predictions.append(logits)\n",
        "        true_vals.append(label_ids)\n",
        "    \n",
        "    loss_val_avg = loss_val_total/len(dataloader_val) \n",
        "\n",
        "    flat_predictions = []\n",
        "    flat_true_vals = []\n",
        "\n",
        "    for prediction, true_val in zip(predictions, true_vals):\n",
        "      for p, t in zip(prediction, true_val):\n",
        "        for p_item, t_item in zip(p, t):\n",
        "          if t_item != -100:\n",
        "            flat_predictions.append(p_item)\n",
        "            flat_true_vals.append(t_item)\n",
        "            \n",
        "    return loss_val_avg, flat_predictions, flat_true_vals"
      ],
      "metadata": {
        "id": "E_Rv8JwCbrUf"
      },
      "execution_count": null,
      "outputs": []
    },
    {
      "cell_type": "code",
      "source": [
        "from sklearn.metrics import classification_report\n",
        "\n",
        "_, predictions, true_vals = evaluate(eval_dataloader)\n",
        "\n",
        "labeled_preds = np.argmax(predictions, axis=1)\n",
        "labeled_preds = [id2label[prediction].replace(\"-I\", \"\").replace(\"-B\", \"\") for prediction in labeled_preds]\n",
        "labeled_trues = [id2label[true].replace(\"-I\", \"\").replace(\"-B\", \"\") for true in true_vals]\n",
        "print(classification_report(labeled_preds, labeled_trues))"
      ],
      "metadata": {
        "colab": {
          "base_uri": "https://localhost:8080/"
        },
        "id": "XSY2AUcRelUJ",
        "outputId": "d042051a-37ae-4f8c-9878-37ede53b9cf5"
      },
      "execution_count": null,
      "outputs": [
        {
          "output_type": "stream",
          "name": "stdout",
          "text": [
            "              precision    recall  f1-score   support\n",
            "\n",
            "          Ac       0.95      0.96      0.96      1672\n",
            "         Ac2       0.56      0.45      0.50        74\n",
            "          Af       0.57      0.73      0.64        77\n",
            "          At       0.80      1.00      0.89         4\n",
            "           D       0.97      0.99      0.98       381\n",
            "           F       0.96      0.97      0.97      1705\n",
            "           O       0.96      0.96      0.96      3647\n",
            "           Q       0.92      0.79      0.85       194\n",
            "          Sf       0.75      0.77      0.76       328\n",
            "          St       0.86      0.88      0.87       345\n",
            "           T       0.97      0.91      0.94       613\n",
            "\n",
            "    accuracy                           0.94      9040\n",
            "   macro avg       0.84      0.85      0.85      9040\n",
            "weighted avg       0.94      0.94      0.94      9040\n",
            "\n"
          ]
        }
      ]
    }
  ]
}