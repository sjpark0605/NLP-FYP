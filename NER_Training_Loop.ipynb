{
  "nbformat": 4,
  "nbformat_minor": 0,
  "metadata": {
    "colab": {
      "provenance": [],
      "mount_file_id": "1afR_w_kJshkW3cIpq8RI6a0wFce9FsWB",
      "authorship_tag": "ABX9TyOVJrSLPyC6z69oUHdYtSj/",
      "include_colab_link": true
    },
    "kernelspec": {
      "name": "python3",
      "display_name": "Python 3"
    },
    "language_info": {
      "name": "python"
    },
    "gpuClass": "standard",
    "accelerator": "GPU",
    "widgets": {
      "application/vnd.jupyter.widget-state+json": {
        "1340dc0a9f334ca581dec48bb80d6bdd": {
          "model_module": "@jupyter-widgets/controls",
          "model_name": "HBoxModel",
          "model_module_version": "1.5.0",
          "state": {
            "_dom_classes": [],
            "_model_module": "@jupyter-widgets/controls",
            "_model_module_version": "1.5.0",
            "_model_name": "HBoxModel",
            "_view_count": null,
            "_view_module": "@jupyter-widgets/controls",
            "_view_module_version": "1.5.0",
            "_view_name": "HBoxView",
            "box_style": "",
            "children": [
              "IPY_MODEL_6c2fb014fec74fc0a46cd9fce60da26b",
              "IPY_MODEL_13fde419989a487b93787734bdb0a189",
              "IPY_MODEL_655884bd52f349faba0a6bd6e537a165"
            ],
            "layout": "IPY_MODEL_971e968ff9af42a19cf32e45fcd49944"
          }
        },
        "6c2fb014fec74fc0a46cd9fce60da26b": {
          "model_module": "@jupyter-widgets/controls",
          "model_name": "HTMLModel",
          "model_module_version": "1.5.0",
          "state": {
            "_dom_classes": [],
            "_model_module": "@jupyter-widgets/controls",
            "_model_module_version": "1.5.0",
            "_model_name": "HTMLModel",
            "_view_count": null,
            "_view_module": "@jupyter-widgets/controls",
            "_view_module_version": "1.5.0",
            "_view_name": "HTMLView",
            "description": "",
            "description_tooltip": null,
            "layout": "IPY_MODEL_4ec52f538d284886853283096eed480f",
            "placeholder": "​",
            "style": "IPY_MODEL_786bc439e8984bcc870afaa9aff36156",
            "value": "Map:  91%"
          }
        },
        "13fde419989a487b93787734bdb0a189": {
          "model_module": "@jupyter-widgets/controls",
          "model_name": "FloatProgressModel",
          "model_module_version": "1.5.0",
          "state": {
            "_dom_classes": [],
            "_model_module": "@jupyter-widgets/controls",
            "_model_module_version": "1.5.0",
            "_model_name": "FloatProgressModel",
            "_view_count": null,
            "_view_module": "@jupyter-widgets/controls",
            "_view_module_version": "1.5.0",
            "_view_name": "ProgressView",
            "bar_style": "",
            "description": "",
            "description_tooltip": null,
            "layout": "IPY_MODEL_2486a854740d4bab8d9437562740d278",
            "max": 2201,
            "min": 0,
            "orientation": "horizontal",
            "style": "IPY_MODEL_f932c2fdb32b45948fff4a69fbd2ba43",
            "value": 2201
          }
        },
        "655884bd52f349faba0a6bd6e537a165": {
          "model_module": "@jupyter-widgets/controls",
          "model_name": "HTMLModel",
          "model_module_version": "1.5.0",
          "state": {
            "_dom_classes": [],
            "_model_module": "@jupyter-widgets/controls",
            "_model_module_version": "1.5.0",
            "_model_name": "HTMLModel",
            "_view_count": null,
            "_view_module": "@jupyter-widgets/controls",
            "_view_module_version": "1.5.0",
            "_view_name": "HTMLView",
            "description": "",
            "description_tooltip": null,
            "layout": "IPY_MODEL_9c8085a1424a44e99f1308c4e9c19552",
            "placeholder": "​",
            "style": "IPY_MODEL_67d310fd01e3405894dffca299e28123",
            "value": " 2000/2201 [00:00&lt;00:00, 5747.89 examples/s]"
          }
        },
        "971e968ff9af42a19cf32e45fcd49944": {
          "model_module": "@jupyter-widgets/base",
          "model_name": "LayoutModel",
          "model_module_version": "1.2.0",
          "state": {
            "_model_module": "@jupyter-widgets/base",
            "_model_module_version": "1.2.0",
            "_model_name": "LayoutModel",
            "_view_count": null,
            "_view_module": "@jupyter-widgets/base",
            "_view_module_version": "1.2.0",
            "_view_name": "LayoutView",
            "align_content": null,
            "align_items": null,
            "align_self": null,
            "border": null,
            "bottom": null,
            "display": null,
            "flex": null,
            "flex_flow": null,
            "grid_area": null,
            "grid_auto_columns": null,
            "grid_auto_flow": null,
            "grid_auto_rows": null,
            "grid_column": null,
            "grid_gap": null,
            "grid_row": null,
            "grid_template_areas": null,
            "grid_template_columns": null,
            "grid_template_rows": null,
            "height": null,
            "justify_content": null,
            "justify_items": null,
            "left": null,
            "margin": null,
            "max_height": null,
            "max_width": null,
            "min_height": null,
            "min_width": null,
            "object_fit": null,
            "object_position": null,
            "order": null,
            "overflow": null,
            "overflow_x": null,
            "overflow_y": null,
            "padding": null,
            "right": null,
            "top": null,
            "visibility": "hidden",
            "width": null
          }
        },
        "4ec52f538d284886853283096eed480f": {
          "model_module": "@jupyter-widgets/base",
          "model_name": "LayoutModel",
          "model_module_version": "1.2.0",
          "state": {
            "_model_module": "@jupyter-widgets/base",
            "_model_module_version": "1.2.0",
            "_model_name": "LayoutModel",
            "_view_count": null,
            "_view_module": "@jupyter-widgets/base",
            "_view_module_version": "1.2.0",
            "_view_name": "LayoutView",
            "align_content": null,
            "align_items": null,
            "align_self": null,
            "border": null,
            "bottom": null,
            "display": null,
            "flex": null,
            "flex_flow": null,
            "grid_area": null,
            "grid_auto_columns": null,
            "grid_auto_flow": null,
            "grid_auto_rows": null,
            "grid_column": null,
            "grid_gap": null,
            "grid_row": null,
            "grid_template_areas": null,
            "grid_template_columns": null,
            "grid_template_rows": null,
            "height": null,
            "justify_content": null,
            "justify_items": null,
            "left": null,
            "margin": null,
            "max_height": null,
            "max_width": null,
            "min_height": null,
            "min_width": null,
            "object_fit": null,
            "object_position": null,
            "order": null,
            "overflow": null,
            "overflow_x": null,
            "overflow_y": null,
            "padding": null,
            "right": null,
            "top": null,
            "visibility": null,
            "width": null
          }
        },
        "786bc439e8984bcc870afaa9aff36156": {
          "model_module": "@jupyter-widgets/controls",
          "model_name": "DescriptionStyleModel",
          "model_module_version": "1.5.0",
          "state": {
            "_model_module": "@jupyter-widgets/controls",
            "_model_module_version": "1.5.0",
            "_model_name": "DescriptionStyleModel",
            "_view_count": null,
            "_view_module": "@jupyter-widgets/base",
            "_view_module_version": "1.2.0",
            "_view_name": "StyleView",
            "description_width": ""
          }
        },
        "2486a854740d4bab8d9437562740d278": {
          "model_module": "@jupyter-widgets/base",
          "model_name": "LayoutModel",
          "model_module_version": "1.2.0",
          "state": {
            "_model_module": "@jupyter-widgets/base",
            "_model_module_version": "1.2.0",
            "_model_name": "LayoutModel",
            "_view_count": null,
            "_view_module": "@jupyter-widgets/base",
            "_view_module_version": "1.2.0",
            "_view_name": "LayoutView",
            "align_content": null,
            "align_items": null,
            "align_self": null,
            "border": null,
            "bottom": null,
            "display": null,
            "flex": null,
            "flex_flow": null,
            "grid_area": null,
            "grid_auto_columns": null,
            "grid_auto_flow": null,
            "grid_auto_rows": null,
            "grid_column": null,
            "grid_gap": null,
            "grid_row": null,
            "grid_template_areas": null,
            "grid_template_columns": null,
            "grid_template_rows": null,
            "height": null,
            "justify_content": null,
            "justify_items": null,
            "left": null,
            "margin": null,
            "max_height": null,
            "max_width": null,
            "min_height": null,
            "min_width": null,
            "object_fit": null,
            "object_position": null,
            "order": null,
            "overflow": null,
            "overflow_x": null,
            "overflow_y": null,
            "padding": null,
            "right": null,
            "top": null,
            "visibility": null,
            "width": null
          }
        },
        "f932c2fdb32b45948fff4a69fbd2ba43": {
          "model_module": "@jupyter-widgets/controls",
          "model_name": "ProgressStyleModel",
          "model_module_version": "1.5.0",
          "state": {
            "_model_module": "@jupyter-widgets/controls",
            "_model_module_version": "1.5.0",
            "_model_name": "ProgressStyleModel",
            "_view_count": null,
            "_view_module": "@jupyter-widgets/base",
            "_view_module_version": "1.2.0",
            "_view_name": "StyleView",
            "bar_color": null,
            "description_width": ""
          }
        },
        "9c8085a1424a44e99f1308c4e9c19552": {
          "model_module": "@jupyter-widgets/base",
          "model_name": "LayoutModel",
          "model_module_version": "1.2.0",
          "state": {
            "_model_module": "@jupyter-widgets/base",
            "_model_module_version": "1.2.0",
            "_model_name": "LayoutModel",
            "_view_count": null,
            "_view_module": "@jupyter-widgets/base",
            "_view_module_version": "1.2.0",
            "_view_name": "LayoutView",
            "align_content": null,
            "align_items": null,
            "align_self": null,
            "border": null,
            "bottom": null,
            "display": null,
            "flex": null,
            "flex_flow": null,
            "grid_area": null,
            "grid_auto_columns": null,
            "grid_auto_flow": null,
            "grid_auto_rows": null,
            "grid_column": null,
            "grid_gap": null,
            "grid_row": null,
            "grid_template_areas": null,
            "grid_template_columns": null,
            "grid_template_rows": null,
            "height": null,
            "justify_content": null,
            "justify_items": null,
            "left": null,
            "margin": null,
            "max_height": null,
            "max_width": null,
            "min_height": null,
            "min_width": null,
            "object_fit": null,
            "object_position": null,
            "order": null,
            "overflow": null,
            "overflow_x": null,
            "overflow_y": null,
            "padding": null,
            "right": null,
            "top": null,
            "visibility": null,
            "width": null
          }
        },
        "67d310fd01e3405894dffca299e28123": {
          "model_module": "@jupyter-widgets/controls",
          "model_name": "DescriptionStyleModel",
          "model_module_version": "1.5.0",
          "state": {
            "_model_module": "@jupyter-widgets/controls",
            "_model_module_version": "1.5.0",
            "_model_name": "DescriptionStyleModel",
            "_view_count": null,
            "_view_module": "@jupyter-widgets/base",
            "_view_module_version": "1.2.0",
            "_view_name": "StyleView",
            "description_width": ""
          }
        },
        "dc705ff7c6624eaca1b74d9603fac756": {
          "model_module": "@jupyter-widgets/controls",
          "model_name": "HBoxModel",
          "model_module_version": "1.5.0",
          "state": {
            "_dom_classes": [],
            "_model_module": "@jupyter-widgets/controls",
            "_model_module_version": "1.5.0",
            "_model_name": "HBoxModel",
            "_view_count": null,
            "_view_module": "@jupyter-widgets/controls",
            "_view_module_version": "1.5.0",
            "_view_name": "HBoxView",
            "box_style": "",
            "children": [
              "IPY_MODEL_e555282d4f544a098a0167c1e1245c81",
              "IPY_MODEL_cd90801c57914f25b8bb2ea7e3a8e889",
              "IPY_MODEL_bd7ba9a8f12a4bceb7b678f31c2a0753"
            ],
            "layout": "IPY_MODEL_7750e3d98ae5476ab33d3a94df7f8c4a"
          }
        },
        "e555282d4f544a098a0167c1e1245c81": {
          "model_module": "@jupyter-widgets/controls",
          "model_name": "HTMLModel",
          "model_module_version": "1.5.0",
          "state": {
            "_dom_classes": [],
            "_model_module": "@jupyter-widgets/controls",
            "_model_module_version": "1.5.0",
            "_model_name": "HTMLModel",
            "_view_count": null,
            "_view_module": "@jupyter-widgets/controls",
            "_view_module_version": "1.5.0",
            "_view_name": "HTMLView",
            "description": "",
            "description_tooltip": null,
            "layout": "IPY_MODEL_7d172f75a4814a7997e1af27ede137d1",
            "placeholder": "​",
            "style": "IPY_MODEL_fb6a47503f3d4cec9cca517d4af6bb68",
            "value": "Map:   0%"
          }
        },
        "cd90801c57914f25b8bb2ea7e3a8e889": {
          "model_module": "@jupyter-widgets/controls",
          "model_name": "FloatProgressModel",
          "model_module_version": "1.5.0",
          "state": {
            "_dom_classes": [],
            "_model_module": "@jupyter-widgets/controls",
            "_model_module_version": "1.5.0",
            "_model_name": "FloatProgressModel",
            "_view_count": null,
            "_view_module": "@jupyter-widgets/controls",
            "_view_module_version": "1.5.0",
            "_view_name": "ProgressView",
            "bar_style": "",
            "description": "",
            "description_tooltip": null,
            "layout": "IPY_MODEL_a91fce6b7c594281b3aa7e51fe5dc8ca",
            "max": 551,
            "min": 0,
            "orientation": "horizontal",
            "style": "IPY_MODEL_7e2f502f902a415ca755ddbe1a0ed186",
            "value": 551
          }
        },
        "bd7ba9a8f12a4bceb7b678f31c2a0753": {
          "model_module": "@jupyter-widgets/controls",
          "model_name": "HTMLModel",
          "model_module_version": "1.5.0",
          "state": {
            "_dom_classes": [],
            "_model_module": "@jupyter-widgets/controls",
            "_model_module_version": "1.5.0",
            "_model_name": "HTMLModel",
            "_view_count": null,
            "_view_module": "@jupyter-widgets/controls",
            "_view_module_version": "1.5.0",
            "_view_name": "HTMLView",
            "description": "",
            "description_tooltip": null,
            "layout": "IPY_MODEL_c05ae389daf243b38232a9572a911086",
            "placeholder": "​",
            "style": "IPY_MODEL_3eb96f73f14a45a2b43dc2e635795980",
            "value": " 0/551 [00:00&lt;?, ? examples/s]"
          }
        },
        "7750e3d98ae5476ab33d3a94df7f8c4a": {
          "model_module": "@jupyter-widgets/base",
          "model_name": "LayoutModel",
          "model_module_version": "1.2.0",
          "state": {
            "_model_module": "@jupyter-widgets/base",
            "_model_module_version": "1.2.0",
            "_model_name": "LayoutModel",
            "_view_count": null,
            "_view_module": "@jupyter-widgets/base",
            "_view_module_version": "1.2.0",
            "_view_name": "LayoutView",
            "align_content": null,
            "align_items": null,
            "align_self": null,
            "border": null,
            "bottom": null,
            "display": null,
            "flex": null,
            "flex_flow": null,
            "grid_area": null,
            "grid_auto_columns": null,
            "grid_auto_flow": null,
            "grid_auto_rows": null,
            "grid_column": null,
            "grid_gap": null,
            "grid_row": null,
            "grid_template_areas": null,
            "grid_template_columns": null,
            "grid_template_rows": null,
            "height": null,
            "justify_content": null,
            "justify_items": null,
            "left": null,
            "margin": null,
            "max_height": null,
            "max_width": null,
            "min_height": null,
            "min_width": null,
            "object_fit": null,
            "object_position": null,
            "order": null,
            "overflow": null,
            "overflow_x": null,
            "overflow_y": null,
            "padding": null,
            "right": null,
            "top": null,
            "visibility": "hidden",
            "width": null
          }
        },
        "7d172f75a4814a7997e1af27ede137d1": {
          "model_module": "@jupyter-widgets/base",
          "model_name": "LayoutModel",
          "model_module_version": "1.2.0",
          "state": {
            "_model_module": "@jupyter-widgets/base",
            "_model_module_version": "1.2.0",
            "_model_name": "LayoutModel",
            "_view_count": null,
            "_view_module": "@jupyter-widgets/base",
            "_view_module_version": "1.2.0",
            "_view_name": "LayoutView",
            "align_content": null,
            "align_items": null,
            "align_self": null,
            "border": null,
            "bottom": null,
            "display": null,
            "flex": null,
            "flex_flow": null,
            "grid_area": null,
            "grid_auto_columns": null,
            "grid_auto_flow": null,
            "grid_auto_rows": null,
            "grid_column": null,
            "grid_gap": null,
            "grid_row": null,
            "grid_template_areas": null,
            "grid_template_columns": null,
            "grid_template_rows": null,
            "height": null,
            "justify_content": null,
            "justify_items": null,
            "left": null,
            "margin": null,
            "max_height": null,
            "max_width": null,
            "min_height": null,
            "min_width": null,
            "object_fit": null,
            "object_position": null,
            "order": null,
            "overflow": null,
            "overflow_x": null,
            "overflow_y": null,
            "padding": null,
            "right": null,
            "top": null,
            "visibility": null,
            "width": null
          }
        },
        "fb6a47503f3d4cec9cca517d4af6bb68": {
          "model_module": "@jupyter-widgets/controls",
          "model_name": "DescriptionStyleModel",
          "model_module_version": "1.5.0",
          "state": {
            "_model_module": "@jupyter-widgets/controls",
            "_model_module_version": "1.5.0",
            "_model_name": "DescriptionStyleModel",
            "_view_count": null,
            "_view_module": "@jupyter-widgets/base",
            "_view_module_version": "1.2.0",
            "_view_name": "StyleView",
            "description_width": ""
          }
        },
        "a91fce6b7c594281b3aa7e51fe5dc8ca": {
          "model_module": "@jupyter-widgets/base",
          "model_name": "LayoutModel",
          "model_module_version": "1.2.0",
          "state": {
            "_model_module": "@jupyter-widgets/base",
            "_model_module_version": "1.2.0",
            "_model_name": "LayoutModel",
            "_view_count": null,
            "_view_module": "@jupyter-widgets/base",
            "_view_module_version": "1.2.0",
            "_view_name": "LayoutView",
            "align_content": null,
            "align_items": null,
            "align_self": null,
            "border": null,
            "bottom": null,
            "display": null,
            "flex": null,
            "flex_flow": null,
            "grid_area": null,
            "grid_auto_columns": null,
            "grid_auto_flow": null,
            "grid_auto_rows": null,
            "grid_column": null,
            "grid_gap": null,
            "grid_row": null,
            "grid_template_areas": null,
            "grid_template_columns": null,
            "grid_template_rows": null,
            "height": null,
            "justify_content": null,
            "justify_items": null,
            "left": null,
            "margin": null,
            "max_height": null,
            "max_width": null,
            "min_height": null,
            "min_width": null,
            "object_fit": null,
            "object_position": null,
            "order": null,
            "overflow": null,
            "overflow_x": null,
            "overflow_y": null,
            "padding": null,
            "right": null,
            "top": null,
            "visibility": null,
            "width": null
          }
        },
        "7e2f502f902a415ca755ddbe1a0ed186": {
          "model_module": "@jupyter-widgets/controls",
          "model_name": "ProgressStyleModel",
          "model_module_version": "1.5.0",
          "state": {
            "_model_module": "@jupyter-widgets/controls",
            "_model_module_version": "1.5.0",
            "_model_name": "ProgressStyleModel",
            "_view_count": null,
            "_view_module": "@jupyter-widgets/base",
            "_view_module_version": "1.2.0",
            "_view_name": "StyleView",
            "bar_color": null,
            "description_width": ""
          }
        },
        "c05ae389daf243b38232a9572a911086": {
          "model_module": "@jupyter-widgets/base",
          "model_name": "LayoutModel",
          "model_module_version": "1.2.0",
          "state": {
            "_model_module": "@jupyter-widgets/base",
            "_model_module_version": "1.2.0",
            "_model_name": "LayoutModel",
            "_view_count": null,
            "_view_module": "@jupyter-widgets/base",
            "_view_module_version": "1.2.0",
            "_view_name": "LayoutView",
            "align_content": null,
            "align_items": null,
            "align_self": null,
            "border": null,
            "bottom": null,
            "display": null,
            "flex": null,
            "flex_flow": null,
            "grid_area": null,
            "grid_auto_columns": null,
            "grid_auto_flow": null,
            "grid_auto_rows": null,
            "grid_column": null,
            "grid_gap": null,
            "grid_row": null,
            "grid_template_areas": null,
            "grid_template_columns": null,
            "grid_template_rows": null,
            "height": null,
            "justify_content": null,
            "justify_items": null,
            "left": null,
            "margin": null,
            "max_height": null,
            "max_width": null,
            "min_height": null,
            "min_width": null,
            "object_fit": null,
            "object_position": null,
            "order": null,
            "overflow": null,
            "overflow_x": null,
            "overflow_y": null,
            "padding": null,
            "right": null,
            "top": null,
            "visibility": null,
            "width": null
          }
        },
        "3eb96f73f14a45a2b43dc2e635795980": {
          "model_module": "@jupyter-widgets/controls",
          "model_name": "DescriptionStyleModel",
          "model_module_version": "1.5.0",
          "state": {
            "_model_module": "@jupyter-widgets/controls",
            "_model_module_version": "1.5.0",
            "_model_name": "DescriptionStyleModel",
            "_view_count": null,
            "_view_module": "@jupyter-widgets/base",
            "_view_module_version": "1.2.0",
            "_view_name": "StyleView",
            "description_width": ""
          }
        },
        "d99a92006d264864bea4e0ea1d3d734a": {
          "model_module": "@jupyter-widgets/controls",
          "model_name": "HBoxModel",
          "model_module_version": "1.5.0",
          "state": {
            "_dom_classes": [],
            "_model_module": "@jupyter-widgets/controls",
            "_model_module_version": "1.5.0",
            "_model_name": "HBoxModel",
            "_view_count": null,
            "_view_module": "@jupyter-widgets/controls",
            "_view_module_version": "1.5.0",
            "_view_name": "HBoxView",
            "box_style": "",
            "children": [
              "IPY_MODEL_d697dd2a6c7344b7ad7ddebb867caf41",
              "IPY_MODEL_2076176b995845c28b07a5696a402f77",
              "IPY_MODEL_afdb5a9ad89d4022bad5e46d7b0c1d3d"
            ],
            "layout": "IPY_MODEL_820ad89ad5a34008a81a77015e79d3e9"
          }
        },
        "d697dd2a6c7344b7ad7ddebb867caf41": {
          "model_module": "@jupyter-widgets/controls",
          "model_name": "HTMLModel",
          "model_module_version": "1.5.0",
          "state": {
            "_dom_classes": [],
            "_model_module": "@jupyter-widgets/controls",
            "_model_module_version": "1.5.0",
            "_model_name": "HTMLModel",
            "_view_count": null,
            "_view_module": "@jupyter-widgets/controls",
            "_view_module_version": "1.5.0",
            "_view_name": "HTMLView",
            "description": "",
            "description_tooltip": null,
            "layout": "IPY_MODEL_f2f932ed7ca04f0cb1d62dac7b138da3",
            "placeholder": "​",
            "style": "IPY_MODEL_090eb280ddf84a72a31d348bea350bca",
            "value": "100%"
          }
        },
        "2076176b995845c28b07a5696a402f77": {
          "model_module": "@jupyter-widgets/controls",
          "model_name": "FloatProgressModel",
          "model_module_version": "1.5.0",
          "state": {
            "_dom_classes": [],
            "_model_module": "@jupyter-widgets/controls",
            "_model_module_version": "1.5.0",
            "_model_name": "FloatProgressModel",
            "_view_count": null,
            "_view_module": "@jupyter-widgets/controls",
            "_view_module_version": "1.5.0",
            "_view_name": "ProgressView",
            "bar_style": "",
            "description": "",
            "description_tooltip": null,
            "layout": "IPY_MODEL_7fb088a636a14c94886d2cb864cc1732",
            "max": 690,
            "min": 0,
            "orientation": "horizontal",
            "style": "IPY_MODEL_21dc761b4c7647618fa04ef86c266393",
            "value": 690
          }
        },
        "afdb5a9ad89d4022bad5e46d7b0c1d3d": {
          "model_module": "@jupyter-widgets/controls",
          "model_name": "HTMLModel",
          "model_module_version": "1.5.0",
          "state": {
            "_dom_classes": [],
            "_model_module": "@jupyter-widgets/controls",
            "_model_module_version": "1.5.0",
            "_model_name": "HTMLModel",
            "_view_count": null,
            "_view_module": "@jupyter-widgets/controls",
            "_view_module_version": "1.5.0",
            "_view_name": "HTMLView",
            "description": "",
            "description_tooltip": null,
            "layout": "IPY_MODEL_ff8f8d082833406aab36e713b6d21aba",
            "placeholder": "​",
            "style": "IPY_MODEL_238766ff65c14f8bbdb58f030047b8bc",
            "value": " 690/690 [03:06&lt;00:00,  4.43it/s]"
          }
        },
        "820ad89ad5a34008a81a77015e79d3e9": {
          "model_module": "@jupyter-widgets/base",
          "model_name": "LayoutModel",
          "model_module_version": "1.2.0",
          "state": {
            "_model_module": "@jupyter-widgets/base",
            "_model_module_version": "1.2.0",
            "_model_name": "LayoutModel",
            "_view_count": null,
            "_view_module": "@jupyter-widgets/base",
            "_view_module_version": "1.2.0",
            "_view_name": "LayoutView",
            "align_content": null,
            "align_items": null,
            "align_self": null,
            "border": null,
            "bottom": null,
            "display": null,
            "flex": null,
            "flex_flow": null,
            "grid_area": null,
            "grid_auto_columns": null,
            "grid_auto_flow": null,
            "grid_auto_rows": null,
            "grid_column": null,
            "grid_gap": null,
            "grid_row": null,
            "grid_template_areas": null,
            "grid_template_columns": null,
            "grid_template_rows": null,
            "height": null,
            "justify_content": null,
            "justify_items": null,
            "left": null,
            "margin": null,
            "max_height": null,
            "max_width": null,
            "min_height": null,
            "min_width": null,
            "object_fit": null,
            "object_position": null,
            "order": null,
            "overflow": null,
            "overflow_x": null,
            "overflow_y": null,
            "padding": null,
            "right": null,
            "top": null,
            "visibility": null,
            "width": null
          }
        },
        "f2f932ed7ca04f0cb1d62dac7b138da3": {
          "model_module": "@jupyter-widgets/base",
          "model_name": "LayoutModel",
          "model_module_version": "1.2.0",
          "state": {
            "_model_module": "@jupyter-widgets/base",
            "_model_module_version": "1.2.0",
            "_model_name": "LayoutModel",
            "_view_count": null,
            "_view_module": "@jupyter-widgets/base",
            "_view_module_version": "1.2.0",
            "_view_name": "LayoutView",
            "align_content": null,
            "align_items": null,
            "align_self": null,
            "border": null,
            "bottom": null,
            "display": null,
            "flex": null,
            "flex_flow": null,
            "grid_area": null,
            "grid_auto_columns": null,
            "grid_auto_flow": null,
            "grid_auto_rows": null,
            "grid_column": null,
            "grid_gap": null,
            "grid_row": null,
            "grid_template_areas": null,
            "grid_template_columns": null,
            "grid_template_rows": null,
            "height": null,
            "justify_content": null,
            "justify_items": null,
            "left": null,
            "margin": null,
            "max_height": null,
            "max_width": null,
            "min_height": null,
            "min_width": null,
            "object_fit": null,
            "object_position": null,
            "order": null,
            "overflow": null,
            "overflow_x": null,
            "overflow_y": null,
            "padding": null,
            "right": null,
            "top": null,
            "visibility": null,
            "width": null
          }
        },
        "090eb280ddf84a72a31d348bea350bca": {
          "model_module": "@jupyter-widgets/controls",
          "model_name": "DescriptionStyleModel",
          "model_module_version": "1.5.0",
          "state": {
            "_model_module": "@jupyter-widgets/controls",
            "_model_module_version": "1.5.0",
            "_model_name": "DescriptionStyleModel",
            "_view_count": null,
            "_view_module": "@jupyter-widgets/base",
            "_view_module_version": "1.2.0",
            "_view_name": "StyleView",
            "description_width": ""
          }
        },
        "7fb088a636a14c94886d2cb864cc1732": {
          "model_module": "@jupyter-widgets/base",
          "model_name": "LayoutModel",
          "model_module_version": "1.2.0",
          "state": {
            "_model_module": "@jupyter-widgets/base",
            "_model_module_version": "1.2.0",
            "_model_name": "LayoutModel",
            "_view_count": null,
            "_view_module": "@jupyter-widgets/base",
            "_view_module_version": "1.2.0",
            "_view_name": "LayoutView",
            "align_content": null,
            "align_items": null,
            "align_self": null,
            "border": null,
            "bottom": null,
            "display": null,
            "flex": null,
            "flex_flow": null,
            "grid_area": null,
            "grid_auto_columns": null,
            "grid_auto_flow": null,
            "grid_auto_rows": null,
            "grid_column": null,
            "grid_gap": null,
            "grid_row": null,
            "grid_template_areas": null,
            "grid_template_columns": null,
            "grid_template_rows": null,
            "height": null,
            "justify_content": null,
            "justify_items": null,
            "left": null,
            "margin": null,
            "max_height": null,
            "max_width": null,
            "min_height": null,
            "min_width": null,
            "object_fit": null,
            "object_position": null,
            "order": null,
            "overflow": null,
            "overflow_x": null,
            "overflow_y": null,
            "padding": null,
            "right": null,
            "top": null,
            "visibility": null,
            "width": null
          }
        },
        "21dc761b4c7647618fa04ef86c266393": {
          "model_module": "@jupyter-widgets/controls",
          "model_name": "ProgressStyleModel",
          "model_module_version": "1.5.0",
          "state": {
            "_model_module": "@jupyter-widgets/controls",
            "_model_module_version": "1.5.0",
            "_model_name": "ProgressStyleModel",
            "_view_count": null,
            "_view_module": "@jupyter-widgets/base",
            "_view_module_version": "1.2.0",
            "_view_name": "StyleView",
            "bar_color": null,
            "description_width": ""
          }
        },
        "ff8f8d082833406aab36e713b6d21aba": {
          "model_module": "@jupyter-widgets/base",
          "model_name": "LayoutModel",
          "model_module_version": "1.2.0",
          "state": {
            "_model_module": "@jupyter-widgets/base",
            "_model_module_version": "1.2.0",
            "_model_name": "LayoutModel",
            "_view_count": null,
            "_view_module": "@jupyter-widgets/base",
            "_view_module_version": "1.2.0",
            "_view_name": "LayoutView",
            "align_content": null,
            "align_items": null,
            "align_self": null,
            "border": null,
            "bottom": null,
            "display": null,
            "flex": null,
            "flex_flow": null,
            "grid_area": null,
            "grid_auto_columns": null,
            "grid_auto_flow": null,
            "grid_auto_rows": null,
            "grid_column": null,
            "grid_gap": null,
            "grid_row": null,
            "grid_template_areas": null,
            "grid_template_columns": null,
            "grid_template_rows": null,
            "height": null,
            "justify_content": null,
            "justify_items": null,
            "left": null,
            "margin": null,
            "max_height": null,
            "max_width": null,
            "min_height": null,
            "min_width": null,
            "object_fit": null,
            "object_position": null,
            "order": null,
            "overflow": null,
            "overflow_x": null,
            "overflow_y": null,
            "padding": null,
            "right": null,
            "top": null,
            "visibility": null,
            "width": null
          }
        },
        "238766ff65c14f8bbdb58f030047b8bc": {
          "model_module": "@jupyter-widgets/controls",
          "model_name": "DescriptionStyleModel",
          "model_module_version": "1.5.0",
          "state": {
            "_model_module": "@jupyter-widgets/controls",
            "_model_module_version": "1.5.0",
            "_model_name": "DescriptionStyleModel",
            "_view_count": null,
            "_view_module": "@jupyter-widgets/base",
            "_view_module_version": "1.2.0",
            "_view_name": "StyleView",
            "description_width": ""
          }
        }
      }
    }
  },
  "cells": [
    {
      "cell_type": "markdown",
      "metadata": {
        "id": "view-in-github",
        "colab_type": "text"
      },
      "source": [
        "<a href=\"https://colab.research.google.com/github/sjpark0605/NLP-FYP/blob/main/NER_Training_Loop.ipynb\" target=\"_parent\"><img src=\"https://colab.research.google.com/assets/colab-badge.svg\" alt=\"Open In Colab\"/></a>"
      ]
    },
    {
      "cell_type": "code",
      "source": [
        "%%capture\n",
        "!pip install datasets evaluate transformers[sentencepiece] seqeval accelerate"
      ],
      "metadata": {
        "id": "G3HZIJi-AAy5"
      },
      "execution_count": 47,
      "outputs": []
    },
    {
      "cell_type": "code",
      "source": [
        "# Imports for Data Processing\n",
        "import pandas as pd\n",
        "import torch\n",
        "from datasets import load_from_disk"
      ],
      "metadata": {
        "id": "7PE1VnZV_1Sv"
      },
      "execution_count": 48,
      "outputs": []
    },
    {
      "cell_type": "code",
      "source": [
        "from google.colab import drive\n",
        "drive.mount('/content/drive')\n",
        "dataset_dir = '/content/drive/MyDrive/COMP0029/datasets/'"
      ],
      "metadata": {
        "id": "rKgXSkBWplXS",
        "colab": {
          "base_uri": "https://localhost:8080/"
        },
        "outputId": "c9660340-9acb-4425-8f6b-1cb90e851f83"
      },
      "execution_count": 49,
      "outputs": [
        {
          "output_type": "stream",
          "name": "stdout",
          "text": [
            "Drive already mounted at /content/drive; to attempt to forcibly remount, call drive.mount(\"/content/drive\", force_remount=True).\n"
          ]
        }
      ]
    },
    {
      "cell_type": "code",
      "source": [
        "device = torch.device('cpu')\n",
        "\n",
        "if torch.cuda.is_available():\n",
        "  device = torch.device('cuda')"
      ],
      "metadata": {
        "id": "zHSLhrFb_5Vc"
      },
      "execution_count": 50,
      "outputs": []
    },
    {
      "cell_type": "code",
      "source": [
        "corpus_datasets = load_from_disk(dataset_dir + 'english-recipe-ner')"
      ],
      "metadata": {
        "id": "j0nJqSTb_PrX"
      },
      "execution_count": 51,
      "outputs": []
    },
    {
      "cell_type": "code",
      "source": [
        "ner_feature = corpus_datasets[\"train\"].features[\"ner_tags\"]\n",
        "label_names = ner_feature.feature.names\n",
        "pure_label_names = list(set(label.replace(\"-B\", \"\").replace(\"-I\", \"\") for label in label_names))"
      ],
      "metadata": {
        "id": "KD3BoplH_ZRZ"
      },
      "execution_count": 52,
      "outputs": []
    },
    {
      "cell_type": "code",
      "source": [
        "from transformers import AutoTokenizer\n",
        "\n",
        "model_checkpoint = \"bert-base-cased\"\n",
        "tokenizer = AutoTokenizer.from_pretrained(model_checkpoint)"
      ],
      "metadata": {
        "id": "DcoF-PyT_amo"
      },
      "execution_count": 53,
      "outputs": []
    },
    {
      "cell_type": "code",
      "source": [
        "def align_labels_with_tokens(labels, word_ids):\n",
        "  new_labels = []\n",
        "  current_word = None\n",
        "  for word_id in word_ids:\n",
        "    if word_id != current_word:\n",
        "      # Start of a new word!\n",
        "      current_word = word_id\n",
        "      label = -100 if word_id is None else labels[word_id]\n",
        "      new_labels.append(label)\n",
        "    elif word_id is None:\n",
        "      # Special token\n",
        "      new_labels.append(-100)\n",
        "    else:\n",
        "      new_labels.append(-100)\n",
        "\n",
        "      #new_labels.append(labels[word_id])\n",
        "      # # Same word as previous token\n",
        "      # label = labels[word_id]      \n",
        "      # # If the label is XXX-B we change it to XXX-I\n",
        "      # if label % 2 == 0 and label != 20:\n",
        "      #   label += 1\n",
        "      #   new_labels.append(label)\n",
        "\n",
        "  return new_labels"
      ],
      "metadata": {
        "id": "erUvZBKH_dSg"
      },
      "execution_count": 54,
      "outputs": []
    },
    {
      "cell_type": "code",
      "source": [
        "def tokenize_and_align_labels(examples):\n",
        "  tokenized_inputs = tokenizer(\n",
        "      examples[\"tokens\"], truncation=True, is_split_into_words=True, max_length=75\n",
        "  )\n",
        "  all_labels = examples[\"ner_tags\"]\n",
        "  new_labels = []\n",
        "  for i, labels in enumerate(all_labels):\n",
        "    word_ids = tokenized_inputs.word_ids(i)\n",
        "    new_labels.append(align_labels_with_tokens(labels, word_ids))\n",
        "\n",
        "  tokenized_inputs[\"labels\"] = new_labels\n",
        "  return tokenized_inputs"
      ],
      "metadata": {
        "id": "rl907k4K_foI"
      },
      "execution_count": 55,
      "outputs": []
    },
    {
      "cell_type": "code",
      "source": [
        "tokenized_datasets = corpus_datasets.map(\n",
        "  tokenize_and_align_labels,\n",
        "  batched=True,\n",
        "  remove_columns=corpus_datasets[\"train\"].column_names,\n",
        ")"
      ],
      "metadata": {
        "id": "p33den5H_hD3",
        "colab": {
          "base_uri": "https://localhost:8080/",
          "height": 17,
          "referenced_widgets": [
            "1340dc0a9f334ca581dec48bb80d6bdd",
            "6c2fb014fec74fc0a46cd9fce60da26b",
            "13fde419989a487b93787734bdb0a189",
            "655884bd52f349faba0a6bd6e537a165",
            "971e968ff9af42a19cf32e45fcd49944",
            "4ec52f538d284886853283096eed480f",
            "786bc439e8984bcc870afaa9aff36156",
            "2486a854740d4bab8d9437562740d278",
            "f932c2fdb32b45948fff4a69fbd2ba43",
            "9c8085a1424a44e99f1308c4e9c19552",
            "67d310fd01e3405894dffca299e28123",
            "dc705ff7c6624eaca1b74d9603fac756",
            "e555282d4f544a098a0167c1e1245c81",
            "cd90801c57914f25b8bb2ea7e3a8e889",
            "bd7ba9a8f12a4bceb7b678f31c2a0753",
            "7750e3d98ae5476ab33d3a94df7f8c4a",
            "7d172f75a4814a7997e1af27ede137d1",
            "fb6a47503f3d4cec9cca517d4af6bb68",
            "a91fce6b7c594281b3aa7e51fe5dc8ca",
            "7e2f502f902a415ca755ddbe1a0ed186",
            "c05ae389daf243b38232a9572a911086",
            "3eb96f73f14a45a2b43dc2e635795980"
          ]
        },
        "outputId": "8e3393c7-bdaf-4692-b1d0-a58fa8ae7e3d"
      },
      "execution_count": 56,
      "outputs": [
        {
          "output_type": "display_data",
          "data": {
            "text/plain": [
              "Map:   0%|          | 0/2201 [00:00<?, ? examples/s]"
            ],
            "application/vnd.jupyter.widget-view+json": {
              "version_major": 2,
              "version_minor": 0,
              "model_id": "1340dc0a9f334ca581dec48bb80d6bdd"
            }
          },
          "metadata": {}
        },
        {
          "output_type": "display_data",
          "data": {
            "text/plain": [
              "Map:   0%|          | 0/551 [00:00<?, ? examples/s]"
            ],
            "application/vnd.jupyter.widget-view+json": {
              "version_major": 2,
              "version_minor": 0,
              "model_id": "dc705ff7c6624eaca1b74d9603fac756"
            }
          },
          "metadata": {}
        }
      ]
    },
    {
      "cell_type": "code",
      "source": [
        "from transformers import DataCollatorForTokenClassification\n",
        "\n",
        "data_collator = DataCollatorForTokenClassification(tokenizer=tokenizer)"
      ],
      "metadata": {
        "id": "_DaodlKA_iLE"
      },
      "execution_count": 57,
      "outputs": []
    },
    {
      "cell_type": "code",
      "source": [
        "import evaluate\n",
        "\n",
        "metric = evaluate.load(\"seqeval\")"
      ],
      "metadata": {
        "id": "O7KeYbxf_jXk"
      },
      "execution_count": 58,
      "outputs": []
    },
    {
      "cell_type": "code",
      "source": [
        "id2label = {i: label for i, label in enumerate(label_names)}\n",
        "label2id = {v: k for k, v in id2label.items()}"
      ],
      "metadata": {
        "id": "CKhcoSG7_kxA"
      },
      "execution_count": 59,
      "outputs": []
    },
    {
      "cell_type": "code",
      "source": [
        "from torch.utils.data import DataLoader\n",
        "\n",
        "train_dataloader = DataLoader(\n",
        "  tokenized_datasets[\"train\"],\n",
        "  shuffle=True,\n",
        "  collate_fn=data_collator,\n",
        "  batch_size=32,\n",
        ")\n",
        "\n",
        "eval_dataloader = DataLoader(\n",
        "  tokenized_datasets[\"valid\"], \n",
        "  collate_fn=data_collator, \n",
        "  batch_size=32,\n",
        ")"
      ],
      "metadata": {
        "id": "YINNhUWJ_l3e"
      },
      "execution_count": 60,
      "outputs": []
    },
    {
      "cell_type": "code",
      "source": [
        "# Calculate Weights for DataLoader\n",
        "num_labels = len(label_names)\n",
        "frequencies = [0] * num_labels\n",
        "\n",
        "for batch in train_dataloader:\n",
        "  for labels in batch['labels']:\n",
        "    for label in labels:\n",
        "      if label != -100:\n",
        "        frequencies[label] += 1\n",
        "\n",
        "weights = [0.] * num_labels\n",
        "\n",
        "total_samples = sum(frequencies)\n",
        "for i in range(num_labels):\n",
        "    weights[i] = total_samples / (num_labels * frequencies[i])\n",
        "\n",
        "weights = torch.tensor(weights)\n",
        "weights /= weights.sum()\n",
        "\n",
        "print(weights)"
      ],
      "metadata": {
        "id": "9JqegDBpqWA1",
        "colab": {
          "base_uri": "https://localhost:8080/"
        },
        "outputId": "11f7fe11-dc22-471a-be93-ad5b21aa17e2"
      },
      "execution_count": 61,
      "outputs": [
        {
          "output_type": "stream",
          "name": "stderr",
          "text": [
            "You're using a BertTokenizerFast tokenizer. Please note that with a fast tokenizer, using the `__call__` method is faster than using a method to encode the text followed by a call to the `pad` method to get a padded encoding.\n"
          ]
        },
        {
          "output_type": "stream",
          "name": "stdout",
          "text": [
            "tensor([8.9126e-04, 6.3804e-03, 2.4547e-02, 2.9213e-02, 1.7412e-02, 6.2013e-02,\n",
            "        3.2134e-01, 4.4184e-01, 7.9254e-03, 4.5375e-03, 9.0310e-04, 3.5849e-03,\n",
            "        8.8368e-03, 2.3565e-02, 4.2231e-03, 1.4083e-02, 5.2600e-03, 1.2901e-02,\n",
            "        2.3803e-03, 7.9254e-03, 2.3680e-04])\n"
          ]
        }
      ]
    },
    {
      "cell_type": "code",
      "source": [
        "from transformers import AutoModelForTokenClassification\n",
        "\n",
        "ner_model = AutoModelForTokenClassification.from_pretrained(\n",
        "  model_checkpoint,\n",
        "  id2label=id2label,\n",
        "  label2id=label2id,\n",
        ")"
      ],
      "metadata": {
        "id": "A6LF07gg_nAp",
        "colab": {
          "base_uri": "https://localhost:8080/"
        },
        "outputId": "257566a4-00a8-4c99-d913-8f79bd2fd154"
      },
      "execution_count": 62,
      "outputs": [
        {
          "output_type": "stream",
          "name": "stderr",
          "text": [
            "Some weights of the model checkpoint at bert-base-cased were not used when initializing BertForTokenClassification: ['cls.predictions.transform.LayerNorm.bias', 'cls.predictions.transform.dense.bias', 'cls.predictions.bias', 'cls.predictions.decoder.weight', 'cls.predictions.transform.LayerNorm.weight', 'cls.predictions.transform.dense.weight', 'cls.seq_relationship.bias', 'cls.seq_relationship.weight']\n",
            "- This IS expected if you are initializing BertForTokenClassification from the checkpoint of a model trained on another task or with another architecture (e.g. initializing a BertForSequenceClassification model from a BertForPreTraining model).\n",
            "- This IS NOT expected if you are initializing BertForTokenClassification from the checkpoint of a model that you expect to be exactly identical (initializing a BertForSequenceClassification model from a BertForSequenceClassification model).\n",
            "Some weights of BertForTokenClassification were not initialized from the model checkpoint at bert-base-cased and are newly initialized: ['classifier.bias', 'classifier.weight']\n",
            "You should probably TRAIN this model on a down-stream task to be able to use it for predictions and inference.\n"
          ]
        }
      ]
    },
    {
      "cell_type": "code",
      "source": [
        "from torch.optim import AdamW\n",
        "\n",
        "optimizer = AdamW(ner_model.parameters(), lr=3e-5, eps=1e-8, weight_decay=0.1)"
      ],
      "metadata": {
        "id": "_7GsMotG_oPe"
      },
      "execution_count": 63,
      "outputs": []
    },
    {
      "cell_type": "code",
      "source": [
        "from accelerate import Accelerator\n",
        "\n",
        "accelerator = Accelerator()\n",
        "ner_model, optimizer, train_dataloader, eval_dataloader = accelerator.prepare(\n",
        "  ner_model, optimizer, train_dataloader, eval_dataloader\n",
        ")"
      ],
      "metadata": {
        "id": "LZ3Bkxfe_pnL"
      },
      "execution_count": 64,
      "outputs": []
    },
    {
      "cell_type": "code",
      "source": [
        "print(len(train_dataloader))"
      ],
      "metadata": {
        "id": "cw1JUtJk_qyL",
        "colab": {
          "base_uri": "https://localhost:8080/"
        },
        "outputId": "d3678ca6-bfaf-455f-bd00-760f8b81fd5d"
      },
      "execution_count": 65,
      "outputs": [
        {
          "output_type": "stream",
          "name": "stdout",
          "text": [
            "69\n"
          ]
        }
      ]
    },
    {
      "cell_type": "code",
      "source": [
        "from transformers import get_scheduler\n",
        "\n",
        "num_train_epochs = 10\n",
        "num_update_steps_per_epoch = len(train_dataloader)\n",
        "num_training_steps = num_train_epochs * num_update_steps_per_epoch\n",
        "\n",
        "lr_scheduler = get_scheduler(\n",
        "  \"linear\",\n",
        "  optimizer=optimizer,\n",
        "  num_warmup_steps=0,\n",
        "  num_training_steps=num_training_steps,\n",
        ")"
      ],
      "metadata": {
        "id": "Qv0ASRqJ_r2D"
      },
      "execution_count": 66,
      "outputs": []
    },
    {
      "cell_type": "code",
      "source": [
        "def postprocess(predictions, labels):\n",
        "    predictions = predictions.detach().cpu().clone().numpy()\n",
        "    labels = labels.detach().cpu().clone().numpy()\n",
        "\n",
        "    # Remove ignored index (special tokens) and convert to labels\n",
        "    true_labels = [[label_names[l] for l in label if l != -100] for label in labels]\n",
        "    true_predictions = [\n",
        "        [label_names[p] for (p, l) in zip(prediction, label) if l != -100]\n",
        "        for prediction, label in zip(predictions, labels)\n",
        "    ]\n",
        "    return true_predictions, true_labels"
      ],
      "metadata": {
        "id": "oTIKB_Kw_s3a"
      },
      "execution_count": 67,
      "outputs": []
    },
    {
      "cell_type": "code",
      "source": [
        "from tqdm.auto import tqdm\n",
        "from torch import nn\n",
        "import torch\n",
        "\n",
        "progress_bar = tqdm(range(num_training_steps))\n",
        "\n",
        "for epoch in range(num_train_epochs):\n",
        "    \n",
        "    # Training\n",
        "    train_loss_val = 0\n",
        "\n",
        "    ner_model.train()\n",
        "    for batch in train_dataloader:\n",
        "        labels = batch.get(\"labels\")\n",
        "\n",
        "        # # Custom Loss\n",
        "        # labels = batch.get(\"labels\")\n",
        "        # outputs = ner_model(**batch)\n",
        "        # logits = outputs.get(\"logits\")\n",
        "        # # compute custom loss (suppose one has 3 labels with different weights)\n",
        "        # loss_fct = torch.nn.CrossEntropyLoss(weight=weights.to(device))\n",
        "        # loss = loss_fct(logits.view(-1, ner_model.config.num_labels), labels.view(-1))\n",
        "        # # End of Custom Loss\n",
        "\n",
        "        outputs = ner_model(**batch)\n",
        "\n",
        "        logits = outputs.get(\"logits\")\n",
        "        loss = outputs.loss\n",
        "\n",
        "        train_loss_val += loss.item()\n",
        "\n",
        "        accelerator.backward(loss)\n",
        "\n",
        "        optimizer.step()\n",
        "        lr_scheduler.step()\n",
        "        optimizer.zero_grad()\n",
        "        progress_bar.update(1)\n",
        "\n",
        "    print(f\"Training Loss: {train_loss_val / len(train_dataloader)}\")\n",
        "\n",
        "    # Evaluation\n",
        "    eval_loss_val = 0\n",
        "\n",
        "    ner_model.eval()\n",
        "    for batch in eval_dataloader:\n",
        "        with torch.no_grad():\n",
        "            outputs = ner_model(**batch)\n",
        "            \n",
        "        eval_loss_val += outputs.get(\"loss\").item()\n",
        "\n",
        "        predictions = outputs.logits.argmax(dim=-1)\n",
        "        labels = batch[\"labels\"]\n",
        "\n",
        "        # Necessary to pad predictions and labels for being gathered\n",
        "        predictions = accelerator.pad_across_processes(predictions, dim=1, pad_index=-100)\n",
        "        labels = accelerator.pad_across_processes(labels, dim=1, pad_index=-100)\n",
        "\n",
        "        predictions_gathered = accelerator.gather(predictions)\n",
        "        labels_gathered = accelerator.gather(labels)\n",
        "\n",
        "        true_predictions, true_labels = postprocess(predictions_gathered, labels_gathered)\n",
        "        metric.add_batch(predictions=true_predictions, references=true_labels)\n",
        "\n",
        "\n",
        "    print(f\"Validation Loss: {eval_loss_val / len(eval_dataloader)}\")\n",
        "\n",
        "    results = metric.compute(suffix=True)\n",
        "    print(\n",
        "        f\"epoch {epoch}:\",\n",
        "        {\n",
        "            f\"overall_{key}\": results[f\"overall_{key}\"]\n",
        "            for key in [\"precision\", \"recall\", \"f1\", \"accuracy\"]\n",
        "        },\n",
        "        \"\\n\"\n",
        "    )"
      ],
      "metadata": {
        "id": "4w6kJWo7_wnU",
        "colab": {
          "base_uri": "https://localhost:8080/",
          "height": 783,
          "referenced_widgets": [
            "d99a92006d264864bea4e0ea1d3d734a",
            "d697dd2a6c7344b7ad7ddebb867caf41",
            "2076176b995845c28b07a5696a402f77",
            "afdb5a9ad89d4022bad5e46d7b0c1d3d",
            "820ad89ad5a34008a81a77015e79d3e9",
            "f2f932ed7ca04f0cb1d62dac7b138da3",
            "090eb280ddf84a72a31d348bea350bca",
            "7fb088a636a14c94886d2cb864cc1732",
            "21dc761b4c7647618fa04ef86c266393",
            "ff8f8d082833406aab36e713b6d21aba",
            "238766ff65c14f8bbdb58f030047b8bc"
          ]
        },
        "outputId": "55e9cef9-ef17-4982-8221-c1a966419fe6"
      },
      "execution_count": 68,
      "outputs": [
        {
          "output_type": "display_data",
          "data": {
            "text/plain": [
              "  0%|          | 0/690 [00:00<?, ?it/s]"
            ],
            "application/vnd.jupyter.widget-view+json": {
              "version_major": 2,
              "version_minor": 0,
              "model_id": "d99a92006d264864bea4e0ea1d3d734a"
            }
          },
          "metadata": {}
        },
        {
          "output_type": "stream",
          "name": "stdout",
          "text": [
            "Training Loss: 0.9305899233921714\n",
            "Validation Loss: 0.3523300058311886\n",
            "epoch 0: {'overall_precision': 0.8018565941101152, 'overall_recall': 0.8394772117962467, 'overall_f1': 0.8202357563850687, 'overall_accuracy': 0.9036208732694355} \n",
            "\n",
            "Training Loss: 0.3059661243704782\n",
            "Validation Loss: 0.2561356880598598\n",
            "epoch 1: {'overall_precision': 0.8458049886621315, 'overall_recall': 0.875, 'overall_f1': 0.8601548344589031, 'overall_accuracy': 0.9239882854100107} \n",
            "\n",
            "Training Loss: 0.20484370738267899\n",
            "Validation Loss: 0.2491388867298762\n",
            "epoch 2: {'overall_precision': 0.8609206660137121, 'overall_recall': 0.8837131367292225, 'overall_f1': 0.8721680171986108, 'overall_accuracy': 0.9274494142705005} \n",
            "\n",
            "Training Loss: 0.15507678968318994\n",
            "Validation Loss: 0.24344073401557076\n",
            "epoch 3: {'overall_precision': 0.8683519369665135, 'overall_recall': 0.8863941018766756, 'overall_f1': 0.8772802653399668, 'overall_accuracy': 0.9306443024494143} \n",
            "\n",
            "Training Loss: 0.12116050374680672\n",
            "Validation Loss: 0.25361259778340656\n",
            "epoch 4: {'overall_precision': 0.8750413223140496, 'overall_recall': 0.8870643431635389, 'overall_f1': 0.8810118156099185, 'overall_accuracy': 0.9333067092651757} \n",
            "\n",
            "Training Loss: 0.09452106020804765\n",
            "Validation Loss: 0.26937565621402526\n",
            "epoch 5: {'overall_precision': 0.8742159128425223, 'overall_recall': 0.8873994638069705, 'overall_f1': 0.8807583568933977, 'overall_accuracy': 0.93024494142705} \n",
            "\n",
            "Training Loss: 0.07916879594541978\n",
            "Validation Loss: 0.27902202556530636\n",
            "epoch 6: {'overall_precision': 0.8780568407138136, 'overall_recall': 0.8904155495978552, 'overall_f1': 0.8841930116472546, 'overall_accuracy': 0.9322417465388712} \n",
            "\n",
            "Training Loss: 0.06638616736492385\n",
            "Validation Loss: 0.28276533053980935\n",
            "epoch 7: {'overall_precision': 0.881770145310436, 'overall_recall': 0.8947721179624665, 'overall_f1': 0.8882235528942115, 'overall_accuracy': 0.9333067092651757} \n",
            "\n",
            "Training Loss: 0.05677322759900404\n",
            "Validation Loss: 0.29070740855402416\n",
            "epoch 8: {'overall_precision': 0.8795776971296602, 'overall_recall': 0.8934316353887399, 'overall_f1': 0.886450540315877, 'overall_accuracy': 0.9326411075612353} \n",
            "\n",
            "Training Loss: 0.052183373709735664\n",
            "Validation Loss: 0.29122496396303177\n",
            "epoch 9: {'overall_precision': 0.8805674694820191, 'overall_recall': 0.8944369973190348, 'overall_f1': 0.887448046550291, 'overall_accuracy': 0.9331735889243876} \n",
            "\n"
          ]
        }
      ]
    },
    {
      "cell_type": "code",
      "source": [
        "# Evaluation Metric of Final Iteration\n",
        "for label in pure_label_names:\n",
        "    if label != \"O\" and label != \"At\":\n",
        "      print(\n",
        "          f\"{label}:\",\n",
        "          {\n",
        "              key: results[label][key]\n",
        "              for key in [\"precision\", \"recall\", \"f1\"]\n",
        "          },\n",
        "      )"
      ],
      "metadata": {
        "id": "9dm0Pg8k_ykE",
        "colab": {
          "base_uri": "https://localhost:8080/"
        },
        "outputId": "eb24a9c6-e3a1-44d2-d8c4-66c484958824"
      },
      "execution_count": 69,
      "outputs": [
        {
          "output_type": "stream",
          "name": "stdout",
          "text": [
            "Ac2: {'precision': 0.3611111111111111, 'recall': 0.4482758620689655, 'f1': 0.39999999999999997}\n",
            "D: {'precision': 0.9230769230769231, 'recall': 0.9375, 'f1': 0.9302325581395349}\n",
            "T: {'precision': 0.9190600522193212, 'recall': 0.946236559139785, 'f1': 0.9324503311258278}\n",
            "Q: {'precision': 0.7448979591836735, 'recall': 0.7934782608695652, 'f1': 0.7684210526315789}\n",
            "St: {'precision': 0.8494623655913979, 'recall': 0.8144329896907216, 'f1': 0.8315789473684212}\n",
            "Ac: {'precision': 0.9226856561546287, 'recall': 0.9255102040816326, 'f1': 0.924095771777891}\n",
            "Sf: {'precision': 0.6837209302325581, 'recall': 0.75, 'f1': 0.7153284671532846}\n",
            "F: {'precision': 0.9135932560590094, 'recall': 0.9342672413793104, 'f1': 0.9238145977623867}\n",
            "Af: {'precision': 0.6122448979591837, 'recall': 0.4838709677419355, 'f1': 0.5405405405405406}\n"
          ]
        }
      ]
    }
  ]
}