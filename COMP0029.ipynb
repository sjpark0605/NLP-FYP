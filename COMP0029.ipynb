{
  "nbformat": 4,
  "nbformat_minor": 0,
  "metadata": {
    "colab": {
      "provenance": [],
      "machine_shape": "hm",
      "authorship_tag": "ABX9TyNe2OeHpFuT+LaLUpbrcTuF",
      "include_colab_link": true
    },
    "kernelspec": {
      "name": "python3",
      "display_name": "Python 3"
    },
    "language_info": {
      "name": "python"
    },
    "gpuClass": "premium",
    "accelerator": "GPU",
    "widgets": {
      "application/vnd.jupyter.widget-state+json": {
        "7e7a6b4c6dc0486297ff7689068a8d2d": {
          "model_module": "@jupyter-widgets/controls",
          "model_name": "HBoxModel",
          "model_module_version": "1.5.0",
          "state": {
            "_dom_classes": [],
            "_model_module": "@jupyter-widgets/controls",
            "_model_module_version": "1.5.0",
            "_model_name": "HBoxModel",
            "_view_count": null,
            "_view_module": "@jupyter-widgets/controls",
            "_view_module_version": "1.5.0",
            "_view_name": "HBoxView",
            "box_style": "",
            "children": [
              "IPY_MODEL_ff3ff4ec73fd47ffa30d8da6634e1243",
              "IPY_MODEL_c3af006459024ad8aa958788fa765e57",
              "IPY_MODEL_c693ceb76ddb4ae984de0e3a00de24f4"
            ],
            "layout": "IPY_MODEL_ac26217d52ff409798bf3fd34816cc2f"
          }
        },
        "ff3ff4ec73fd47ffa30d8da6634e1243": {
          "model_module": "@jupyter-widgets/controls",
          "model_name": "HTMLModel",
          "model_module_version": "1.5.0",
          "state": {
            "_dom_classes": [],
            "_model_module": "@jupyter-widgets/controls",
            "_model_module_version": "1.5.0",
            "_model_name": "HTMLModel",
            "_view_count": null,
            "_view_module": "@jupyter-widgets/controls",
            "_view_module_version": "1.5.0",
            "_view_name": "HTMLView",
            "description": "",
            "description_tooltip": null,
            "layout": "IPY_MODEL_17351b8d3ef949ec9ccbcc2294824839",
            "placeholder": "​",
            "style": "IPY_MODEL_6a6544a5b9c24beb8b8ad81a6325a5b9",
            "value": "Casting the dataset:  73%"
          }
        },
        "c3af006459024ad8aa958788fa765e57": {
          "model_module": "@jupyter-widgets/controls",
          "model_name": "FloatProgressModel",
          "model_module_version": "1.5.0",
          "state": {
            "_dom_classes": [],
            "_model_module": "@jupyter-widgets/controls",
            "_model_module_version": "1.5.0",
            "_model_name": "FloatProgressModel",
            "_view_count": null,
            "_view_module": "@jupyter-widgets/controls",
            "_view_module_version": "1.5.0",
            "_view_name": "ProgressView",
            "bar_style": "",
            "description": "",
            "description_tooltip": null,
            "layout": "IPY_MODEL_409b00059b0e4f4383ba5ad249e891e6",
            "max": 2752,
            "min": 0,
            "orientation": "horizontal",
            "style": "IPY_MODEL_1359d646023c42dcacee51c8872262f9",
            "value": 2752
          }
        },
        "c693ceb76ddb4ae984de0e3a00de24f4": {
          "model_module": "@jupyter-widgets/controls",
          "model_name": "HTMLModel",
          "model_module_version": "1.5.0",
          "state": {
            "_dom_classes": [],
            "_model_module": "@jupyter-widgets/controls",
            "_model_module_version": "1.5.0",
            "_model_name": "HTMLModel",
            "_view_count": null,
            "_view_module": "@jupyter-widgets/controls",
            "_view_module_version": "1.5.0",
            "_view_name": "HTMLView",
            "description": "",
            "description_tooltip": null,
            "layout": "IPY_MODEL_67738f3440f046c389a10f350c28c465",
            "placeholder": "​",
            "style": "IPY_MODEL_6fa2233ccc524084bff811755c5e9b7f",
            "value": " 2000/2752 [00:00&lt;00:00, 7582.67 examples/s]"
          }
        },
        "ac26217d52ff409798bf3fd34816cc2f": {
          "model_module": "@jupyter-widgets/base",
          "model_name": "LayoutModel",
          "model_module_version": "1.2.0",
          "state": {
            "_model_module": "@jupyter-widgets/base",
            "_model_module_version": "1.2.0",
            "_model_name": "LayoutModel",
            "_view_count": null,
            "_view_module": "@jupyter-widgets/base",
            "_view_module_version": "1.2.0",
            "_view_name": "LayoutView",
            "align_content": null,
            "align_items": null,
            "align_self": null,
            "border": null,
            "bottom": null,
            "display": null,
            "flex": null,
            "flex_flow": null,
            "grid_area": null,
            "grid_auto_columns": null,
            "grid_auto_flow": null,
            "grid_auto_rows": null,
            "grid_column": null,
            "grid_gap": null,
            "grid_row": null,
            "grid_template_areas": null,
            "grid_template_columns": null,
            "grid_template_rows": null,
            "height": null,
            "justify_content": null,
            "justify_items": null,
            "left": null,
            "margin": null,
            "max_height": null,
            "max_width": null,
            "min_height": null,
            "min_width": null,
            "object_fit": null,
            "object_position": null,
            "order": null,
            "overflow": null,
            "overflow_x": null,
            "overflow_y": null,
            "padding": null,
            "right": null,
            "top": null,
            "visibility": "hidden",
            "width": null
          }
        },
        "17351b8d3ef949ec9ccbcc2294824839": {
          "model_module": "@jupyter-widgets/base",
          "model_name": "LayoutModel",
          "model_module_version": "1.2.0",
          "state": {
            "_model_module": "@jupyter-widgets/base",
            "_model_module_version": "1.2.0",
            "_model_name": "LayoutModel",
            "_view_count": null,
            "_view_module": "@jupyter-widgets/base",
            "_view_module_version": "1.2.0",
            "_view_name": "LayoutView",
            "align_content": null,
            "align_items": null,
            "align_self": null,
            "border": null,
            "bottom": null,
            "display": null,
            "flex": null,
            "flex_flow": null,
            "grid_area": null,
            "grid_auto_columns": null,
            "grid_auto_flow": null,
            "grid_auto_rows": null,
            "grid_column": null,
            "grid_gap": null,
            "grid_row": null,
            "grid_template_areas": null,
            "grid_template_columns": null,
            "grid_template_rows": null,
            "height": null,
            "justify_content": null,
            "justify_items": null,
            "left": null,
            "margin": null,
            "max_height": null,
            "max_width": null,
            "min_height": null,
            "min_width": null,
            "object_fit": null,
            "object_position": null,
            "order": null,
            "overflow": null,
            "overflow_x": null,
            "overflow_y": null,
            "padding": null,
            "right": null,
            "top": null,
            "visibility": null,
            "width": null
          }
        },
        "6a6544a5b9c24beb8b8ad81a6325a5b9": {
          "model_module": "@jupyter-widgets/controls",
          "model_name": "DescriptionStyleModel",
          "model_module_version": "1.5.0",
          "state": {
            "_model_module": "@jupyter-widgets/controls",
            "_model_module_version": "1.5.0",
            "_model_name": "DescriptionStyleModel",
            "_view_count": null,
            "_view_module": "@jupyter-widgets/base",
            "_view_module_version": "1.2.0",
            "_view_name": "StyleView",
            "description_width": ""
          }
        },
        "409b00059b0e4f4383ba5ad249e891e6": {
          "model_module": "@jupyter-widgets/base",
          "model_name": "LayoutModel",
          "model_module_version": "1.2.0",
          "state": {
            "_model_module": "@jupyter-widgets/base",
            "_model_module_version": "1.2.0",
            "_model_name": "LayoutModel",
            "_view_count": null,
            "_view_module": "@jupyter-widgets/base",
            "_view_module_version": "1.2.0",
            "_view_name": "LayoutView",
            "align_content": null,
            "align_items": null,
            "align_self": null,
            "border": null,
            "bottom": null,
            "display": null,
            "flex": null,
            "flex_flow": null,
            "grid_area": null,
            "grid_auto_columns": null,
            "grid_auto_flow": null,
            "grid_auto_rows": null,
            "grid_column": null,
            "grid_gap": null,
            "grid_row": null,
            "grid_template_areas": null,
            "grid_template_columns": null,
            "grid_template_rows": null,
            "height": null,
            "justify_content": null,
            "justify_items": null,
            "left": null,
            "margin": null,
            "max_height": null,
            "max_width": null,
            "min_height": null,
            "min_width": null,
            "object_fit": null,
            "object_position": null,
            "order": null,
            "overflow": null,
            "overflow_x": null,
            "overflow_y": null,
            "padding": null,
            "right": null,
            "top": null,
            "visibility": null,
            "width": null
          }
        },
        "1359d646023c42dcacee51c8872262f9": {
          "model_module": "@jupyter-widgets/controls",
          "model_name": "ProgressStyleModel",
          "model_module_version": "1.5.0",
          "state": {
            "_model_module": "@jupyter-widgets/controls",
            "_model_module_version": "1.5.0",
            "_model_name": "ProgressStyleModel",
            "_view_count": null,
            "_view_module": "@jupyter-widgets/base",
            "_view_module_version": "1.2.0",
            "_view_name": "StyleView",
            "bar_color": null,
            "description_width": ""
          }
        },
        "67738f3440f046c389a10f350c28c465": {
          "model_module": "@jupyter-widgets/base",
          "model_name": "LayoutModel",
          "model_module_version": "1.2.0",
          "state": {
            "_model_module": "@jupyter-widgets/base",
            "_model_module_version": "1.2.0",
            "_model_name": "LayoutModel",
            "_view_count": null,
            "_view_module": "@jupyter-widgets/base",
            "_view_module_version": "1.2.0",
            "_view_name": "LayoutView",
            "align_content": null,
            "align_items": null,
            "align_self": null,
            "border": null,
            "bottom": null,
            "display": null,
            "flex": null,
            "flex_flow": null,
            "grid_area": null,
            "grid_auto_columns": null,
            "grid_auto_flow": null,
            "grid_auto_rows": null,
            "grid_column": null,
            "grid_gap": null,
            "grid_row": null,
            "grid_template_areas": null,
            "grid_template_columns": null,
            "grid_template_rows": null,
            "height": null,
            "justify_content": null,
            "justify_items": null,
            "left": null,
            "margin": null,
            "max_height": null,
            "max_width": null,
            "min_height": null,
            "min_width": null,
            "object_fit": null,
            "object_position": null,
            "order": null,
            "overflow": null,
            "overflow_x": null,
            "overflow_y": null,
            "padding": null,
            "right": null,
            "top": null,
            "visibility": null,
            "width": null
          }
        },
        "6fa2233ccc524084bff811755c5e9b7f": {
          "model_module": "@jupyter-widgets/controls",
          "model_name": "DescriptionStyleModel",
          "model_module_version": "1.5.0",
          "state": {
            "_model_module": "@jupyter-widgets/controls",
            "_model_module_version": "1.5.0",
            "_model_name": "DescriptionStyleModel",
            "_view_count": null,
            "_view_module": "@jupyter-widgets/base",
            "_view_module_version": "1.2.0",
            "_view_name": "StyleView",
            "description_width": ""
          }
        },
        "5ef1d9ef49804e4ab00aab466d184f8b": {
          "model_module": "@jupyter-widgets/controls",
          "model_name": "HBoxModel",
          "model_module_version": "1.5.0",
          "state": {
            "_dom_classes": [],
            "_model_module": "@jupyter-widgets/controls",
            "_model_module_version": "1.5.0",
            "_model_name": "HBoxModel",
            "_view_count": null,
            "_view_module": "@jupyter-widgets/controls",
            "_view_module_version": "1.5.0",
            "_view_name": "HBoxView",
            "box_style": "",
            "children": [
              "IPY_MODEL_b907df724040491c9de32a8ec7eb0342",
              "IPY_MODEL_8628b1cc88b84ad98952c49b78374556",
              "IPY_MODEL_bdf1734cb8e142049bf3da2e56ceb0c5"
            ],
            "layout": "IPY_MODEL_4637fde5142d4192bcbb98840b16a921"
          }
        },
        "b907df724040491c9de32a8ec7eb0342": {
          "model_module": "@jupyter-widgets/controls",
          "model_name": "HTMLModel",
          "model_module_version": "1.5.0",
          "state": {
            "_dom_classes": [],
            "_model_module": "@jupyter-widgets/controls",
            "_model_module_version": "1.5.0",
            "_model_name": "HTMLModel",
            "_view_count": null,
            "_view_module": "@jupyter-widgets/controls",
            "_view_module_version": "1.5.0",
            "_view_name": "HTMLView",
            "description": "",
            "description_tooltip": null,
            "layout": "IPY_MODEL_3b48f4cfd4544cc5bf263306b5f15c80",
            "placeholder": "​",
            "style": "IPY_MODEL_42351b2880f74e4aba664e05bd2899b5",
            "value": "Casting the dataset:  73%"
          }
        },
        "8628b1cc88b84ad98952c49b78374556": {
          "model_module": "@jupyter-widgets/controls",
          "model_name": "FloatProgressModel",
          "model_module_version": "1.5.0",
          "state": {
            "_dom_classes": [],
            "_model_module": "@jupyter-widgets/controls",
            "_model_module_version": "1.5.0",
            "_model_name": "FloatProgressModel",
            "_view_count": null,
            "_view_module": "@jupyter-widgets/controls",
            "_view_module_version": "1.5.0",
            "_view_name": "ProgressView",
            "bar_style": "",
            "description": "",
            "description_tooltip": null,
            "layout": "IPY_MODEL_caf1d58dad8f40378cd4765dd2417a1b",
            "max": 2752,
            "min": 0,
            "orientation": "horizontal",
            "style": "IPY_MODEL_2ceadcd186ae487cb40c60f224c2daa2",
            "value": 2752
          }
        },
        "bdf1734cb8e142049bf3da2e56ceb0c5": {
          "model_module": "@jupyter-widgets/controls",
          "model_name": "HTMLModel",
          "model_module_version": "1.5.0",
          "state": {
            "_dom_classes": [],
            "_model_module": "@jupyter-widgets/controls",
            "_model_module_version": "1.5.0",
            "_model_name": "HTMLModel",
            "_view_count": null,
            "_view_module": "@jupyter-widgets/controls",
            "_view_module_version": "1.5.0",
            "_view_name": "HTMLView",
            "description": "",
            "description_tooltip": null,
            "layout": "IPY_MODEL_942947f1ecd54c3fb0e77fc601db569f",
            "placeholder": "​",
            "style": "IPY_MODEL_87cf18672ef94a059f942997198322cd",
            "value": " 2000/2752 [00:00&lt;00:00, 18654.99 examples/s]"
          }
        },
        "4637fde5142d4192bcbb98840b16a921": {
          "model_module": "@jupyter-widgets/base",
          "model_name": "LayoutModel",
          "model_module_version": "1.2.0",
          "state": {
            "_model_module": "@jupyter-widgets/base",
            "_model_module_version": "1.2.0",
            "_model_name": "LayoutModel",
            "_view_count": null,
            "_view_module": "@jupyter-widgets/base",
            "_view_module_version": "1.2.0",
            "_view_name": "LayoutView",
            "align_content": null,
            "align_items": null,
            "align_self": null,
            "border": null,
            "bottom": null,
            "display": null,
            "flex": null,
            "flex_flow": null,
            "grid_area": null,
            "grid_auto_columns": null,
            "grid_auto_flow": null,
            "grid_auto_rows": null,
            "grid_column": null,
            "grid_gap": null,
            "grid_row": null,
            "grid_template_areas": null,
            "grid_template_columns": null,
            "grid_template_rows": null,
            "height": null,
            "justify_content": null,
            "justify_items": null,
            "left": null,
            "margin": null,
            "max_height": null,
            "max_width": null,
            "min_height": null,
            "min_width": null,
            "object_fit": null,
            "object_position": null,
            "order": null,
            "overflow": null,
            "overflow_x": null,
            "overflow_y": null,
            "padding": null,
            "right": null,
            "top": null,
            "visibility": "hidden",
            "width": null
          }
        },
        "3b48f4cfd4544cc5bf263306b5f15c80": {
          "model_module": "@jupyter-widgets/base",
          "model_name": "LayoutModel",
          "model_module_version": "1.2.0",
          "state": {
            "_model_module": "@jupyter-widgets/base",
            "_model_module_version": "1.2.0",
            "_model_name": "LayoutModel",
            "_view_count": null,
            "_view_module": "@jupyter-widgets/base",
            "_view_module_version": "1.2.0",
            "_view_name": "LayoutView",
            "align_content": null,
            "align_items": null,
            "align_self": null,
            "border": null,
            "bottom": null,
            "display": null,
            "flex": null,
            "flex_flow": null,
            "grid_area": null,
            "grid_auto_columns": null,
            "grid_auto_flow": null,
            "grid_auto_rows": null,
            "grid_column": null,
            "grid_gap": null,
            "grid_row": null,
            "grid_template_areas": null,
            "grid_template_columns": null,
            "grid_template_rows": null,
            "height": null,
            "justify_content": null,
            "justify_items": null,
            "left": null,
            "margin": null,
            "max_height": null,
            "max_width": null,
            "min_height": null,
            "min_width": null,
            "object_fit": null,
            "object_position": null,
            "order": null,
            "overflow": null,
            "overflow_x": null,
            "overflow_y": null,
            "padding": null,
            "right": null,
            "top": null,
            "visibility": null,
            "width": null
          }
        },
        "42351b2880f74e4aba664e05bd2899b5": {
          "model_module": "@jupyter-widgets/controls",
          "model_name": "DescriptionStyleModel",
          "model_module_version": "1.5.0",
          "state": {
            "_model_module": "@jupyter-widgets/controls",
            "_model_module_version": "1.5.0",
            "_model_name": "DescriptionStyleModel",
            "_view_count": null,
            "_view_module": "@jupyter-widgets/base",
            "_view_module_version": "1.2.0",
            "_view_name": "StyleView",
            "description_width": ""
          }
        },
        "caf1d58dad8f40378cd4765dd2417a1b": {
          "model_module": "@jupyter-widgets/base",
          "model_name": "LayoutModel",
          "model_module_version": "1.2.0",
          "state": {
            "_model_module": "@jupyter-widgets/base",
            "_model_module_version": "1.2.0",
            "_model_name": "LayoutModel",
            "_view_count": null,
            "_view_module": "@jupyter-widgets/base",
            "_view_module_version": "1.2.0",
            "_view_name": "LayoutView",
            "align_content": null,
            "align_items": null,
            "align_self": null,
            "border": null,
            "bottom": null,
            "display": null,
            "flex": null,
            "flex_flow": null,
            "grid_area": null,
            "grid_auto_columns": null,
            "grid_auto_flow": null,
            "grid_auto_rows": null,
            "grid_column": null,
            "grid_gap": null,
            "grid_row": null,
            "grid_template_areas": null,
            "grid_template_columns": null,
            "grid_template_rows": null,
            "height": null,
            "justify_content": null,
            "justify_items": null,
            "left": null,
            "margin": null,
            "max_height": null,
            "max_width": null,
            "min_height": null,
            "min_width": null,
            "object_fit": null,
            "object_position": null,
            "order": null,
            "overflow": null,
            "overflow_x": null,
            "overflow_y": null,
            "padding": null,
            "right": null,
            "top": null,
            "visibility": null,
            "width": null
          }
        },
        "2ceadcd186ae487cb40c60f224c2daa2": {
          "model_module": "@jupyter-widgets/controls",
          "model_name": "ProgressStyleModel",
          "model_module_version": "1.5.0",
          "state": {
            "_model_module": "@jupyter-widgets/controls",
            "_model_module_version": "1.5.0",
            "_model_name": "ProgressStyleModel",
            "_view_count": null,
            "_view_module": "@jupyter-widgets/base",
            "_view_module_version": "1.2.0",
            "_view_name": "StyleView",
            "bar_color": null,
            "description_width": ""
          }
        },
        "942947f1ecd54c3fb0e77fc601db569f": {
          "model_module": "@jupyter-widgets/base",
          "model_name": "LayoutModel",
          "model_module_version": "1.2.0",
          "state": {
            "_model_module": "@jupyter-widgets/base",
            "_model_module_version": "1.2.0",
            "_model_name": "LayoutModel",
            "_view_count": null,
            "_view_module": "@jupyter-widgets/base",
            "_view_module_version": "1.2.0",
            "_view_name": "LayoutView",
            "align_content": null,
            "align_items": null,
            "align_self": null,
            "border": null,
            "bottom": null,
            "display": null,
            "flex": null,
            "flex_flow": null,
            "grid_area": null,
            "grid_auto_columns": null,
            "grid_auto_flow": null,
            "grid_auto_rows": null,
            "grid_column": null,
            "grid_gap": null,
            "grid_row": null,
            "grid_template_areas": null,
            "grid_template_columns": null,
            "grid_template_rows": null,
            "height": null,
            "justify_content": null,
            "justify_items": null,
            "left": null,
            "margin": null,
            "max_height": null,
            "max_width": null,
            "min_height": null,
            "min_width": null,
            "object_fit": null,
            "object_position": null,
            "order": null,
            "overflow": null,
            "overflow_x": null,
            "overflow_y": null,
            "padding": null,
            "right": null,
            "top": null,
            "visibility": null,
            "width": null
          }
        },
        "87cf18672ef94a059f942997198322cd": {
          "model_module": "@jupyter-widgets/controls",
          "model_name": "DescriptionStyleModel",
          "model_module_version": "1.5.0",
          "state": {
            "_model_module": "@jupyter-widgets/controls",
            "_model_module_version": "1.5.0",
            "_model_name": "DescriptionStyleModel",
            "_view_count": null,
            "_view_module": "@jupyter-widgets/base",
            "_view_module_version": "1.2.0",
            "_view_name": "StyleView",
            "description_width": ""
          }
        },
        "1fc76f84cd7c47fd8e76d4522ab89c5c": {
          "model_module": "@jupyter-widgets/controls",
          "model_name": "HBoxModel",
          "model_module_version": "1.5.0",
          "state": {
            "_dom_classes": [],
            "_model_module": "@jupyter-widgets/controls",
            "_model_module_version": "1.5.0",
            "_model_name": "HBoxModel",
            "_view_count": null,
            "_view_module": "@jupyter-widgets/controls",
            "_view_module_version": "1.5.0",
            "_view_name": "HBoxView",
            "box_style": "",
            "children": [
              "IPY_MODEL_3cfee73d06d8432d9b73b565b03e7541",
              "IPY_MODEL_6e03593b423142ccb04276d13e982566",
              "IPY_MODEL_e37be28129404fd2a9f53e256bdb093e"
            ],
            "layout": "IPY_MODEL_0f3f4b451f4d439589121aed29978e54"
          }
        },
        "3cfee73d06d8432d9b73b565b03e7541": {
          "model_module": "@jupyter-widgets/controls",
          "model_name": "HTMLModel",
          "model_module_version": "1.5.0",
          "state": {
            "_dom_classes": [],
            "_model_module": "@jupyter-widgets/controls",
            "_model_module_version": "1.5.0",
            "_model_name": "HTMLModel",
            "_view_count": null,
            "_view_module": "@jupyter-widgets/controls",
            "_view_module_version": "1.5.0",
            "_view_name": "HTMLView",
            "description": "",
            "description_tooltip": null,
            "layout": "IPY_MODEL_ef771842aac649b48741c30dec1fee3b",
            "placeholder": "​",
            "style": "IPY_MODEL_2ee2fde0378847ab9ee4f73d01afc174",
            "value": "Map:  91%"
          }
        },
        "6e03593b423142ccb04276d13e982566": {
          "model_module": "@jupyter-widgets/controls",
          "model_name": "FloatProgressModel",
          "model_module_version": "1.5.0",
          "state": {
            "_dom_classes": [],
            "_model_module": "@jupyter-widgets/controls",
            "_model_module_version": "1.5.0",
            "_model_name": "FloatProgressModel",
            "_view_count": null,
            "_view_module": "@jupyter-widgets/controls",
            "_view_module_version": "1.5.0",
            "_view_name": "ProgressView",
            "bar_style": "",
            "description": "",
            "description_tooltip": null,
            "layout": "IPY_MODEL_0dede1c72ec04065ab646e8b16752e63",
            "max": 2201,
            "min": 0,
            "orientation": "horizontal",
            "style": "IPY_MODEL_f4d2d5729dc24aa39bc4c78889cf490d",
            "value": 2201
          }
        },
        "e37be28129404fd2a9f53e256bdb093e": {
          "model_module": "@jupyter-widgets/controls",
          "model_name": "HTMLModel",
          "model_module_version": "1.5.0",
          "state": {
            "_dom_classes": [],
            "_model_module": "@jupyter-widgets/controls",
            "_model_module_version": "1.5.0",
            "_model_name": "HTMLModel",
            "_view_count": null,
            "_view_module": "@jupyter-widgets/controls",
            "_view_module_version": "1.5.0",
            "_view_name": "HTMLView",
            "description": "",
            "description_tooltip": null,
            "layout": "IPY_MODEL_bada83b0e7a849e7ab5243809dcce2f0",
            "placeholder": "​",
            "style": "IPY_MODEL_e3f80140dea84e4bb8b2702897c72d29",
            "value": " 2000/2201 [00:00&lt;00:00, 13298.51 examples/s]"
          }
        },
        "0f3f4b451f4d439589121aed29978e54": {
          "model_module": "@jupyter-widgets/base",
          "model_name": "LayoutModel",
          "model_module_version": "1.2.0",
          "state": {
            "_model_module": "@jupyter-widgets/base",
            "_model_module_version": "1.2.0",
            "_model_name": "LayoutModel",
            "_view_count": null,
            "_view_module": "@jupyter-widgets/base",
            "_view_module_version": "1.2.0",
            "_view_name": "LayoutView",
            "align_content": null,
            "align_items": null,
            "align_self": null,
            "border": null,
            "bottom": null,
            "display": null,
            "flex": null,
            "flex_flow": null,
            "grid_area": null,
            "grid_auto_columns": null,
            "grid_auto_flow": null,
            "grid_auto_rows": null,
            "grid_column": null,
            "grid_gap": null,
            "grid_row": null,
            "grid_template_areas": null,
            "grid_template_columns": null,
            "grid_template_rows": null,
            "height": null,
            "justify_content": null,
            "justify_items": null,
            "left": null,
            "margin": null,
            "max_height": null,
            "max_width": null,
            "min_height": null,
            "min_width": null,
            "object_fit": null,
            "object_position": null,
            "order": null,
            "overflow": null,
            "overflow_x": null,
            "overflow_y": null,
            "padding": null,
            "right": null,
            "top": null,
            "visibility": "hidden",
            "width": null
          }
        },
        "ef771842aac649b48741c30dec1fee3b": {
          "model_module": "@jupyter-widgets/base",
          "model_name": "LayoutModel",
          "model_module_version": "1.2.0",
          "state": {
            "_model_module": "@jupyter-widgets/base",
            "_model_module_version": "1.2.0",
            "_model_name": "LayoutModel",
            "_view_count": null,
            "_view_module": "@jupyter-widgets/base",
            "_view_module_version": "1.2.0",
            "_view_name": "LayoutView",
            "align_content": null,
            "align_items": null,
            "align_self": null,
            "border": null,
            "bottom": null,
            "display": null,
            "flex": null,
            "flex_flow": null,
            "grid_area": null,
            "grid_auto_columns": null,
            "grid_auto_flow": null,
            "grid_auto_rows": null,
            "grid_column": null,
            "grid_gap": null,
            "grid_row": null,
            "grid_template_areas": null,
            "grid_template_columns": null,
            "grid_template_rows": null,
            "height": null,
            "justify_content": null,
            "justify_items": null,
            "left": null,
            "margin": null,
            "max_height": null,
            "max_width": null,
            "min_height": null,
            "min_width": null,
            "object_fit": null,
            "object_position": null,
            "order": null,
            "overflow": null,
            "overflow_x": null,
            "overflow_y": null,
            "padding": null,
            "right": null,
            "top": null,
            "visibility": null,
            "width": null
          }
        },
        "2ee2fde0378847ab9ee4f73d01afc174": {
          "model_module": "@jupyter-widgets/controls",
          "model_name": "DescriptionStyleModel",
          "model_module_version": "1.5.0",
          "state": {
            "_model_module": "@jupyter-widgets/controls",
            "_model_module_version": "1.5.0",
            "_model_name": "DescriptionStyleModel",
            "_view_count": null,
            "_view_module": "@jupyter-widgets/base",
            "_view_module_version": "1.2.0",
            "_view_name": "StyleView",
            "description_width": ""
          }
        },
        "0dede1c72ec04065ab646e8b16752e63": {
          "model_module": "@jupyter-widgets/base",
          "model_name": "LayoutModel",
          "model_module_version": "1.2.0",
          "state": {
            "_model_module": "@jupyter-widgets/base",
            "_model_module_version": "1.2.0",
            "_model_name": "LayoutModel",
            "_view_count": null,
            "_view_module": "@jupyter-widgets/base",
            "_view_module_version": "1.2.0",
            "_view_name": "LayoutView",
            "align_content": null,
            "align_items": null,
            "align_self": null,
            "border": null,
            "bottom": null,
            "display": null,
            "flex": null,
            "flex_flow": null,
            "grid_area": null,
            "grid_auto_columns": null,
            "grid_auto_flow": null,
            "grid_auto_rows": null,
            "grid_column": null,
            "grid_gap": null,
            "grid_row": null,
            "grid_template_areas": null,
            "grid_template_columns": null,
            "grid_template_rows": null,
            "height": null,
            "justify_content": null,
            "justify_items": null,
            "left": null,
            "margin": null,
            "max_height": null,
            "max_width": null,
            "min_height": null,
            "min_width": null,
            "object_fit": null,
            "object_position": null,
            "order": null,
            "overflow": null,
            "overflow_x": null,
            "overflow_y": null,
            "padding": null,
            "right": null,
            "top": null,
            "visibility": null,
            "width": null
          }
        },
        "f4d2d5729dc24aa39bc4c78889cf490d": {
          "model_module": "@jupyter-widgets/controls",
          "model_name": "ProgressStyleModel",
          "model_module_version": "1.5.0",
          "state": {
            "_model_module": "@jupyter-widgets/controls",
            "_model_module_version": "1.5.0",
            "_model_name": "ProgressStyleModel",
            "_view_count": null,
            "_view_module": "@jupyter-widgets/base",
            "_view_module_version": "1.2.0",
            "_view_name": "StyleView",
            "bar_color": null,
            "description_width": ""
          }
        },
        "bada83b0e7a849e7ab5243809dcce2f0": {
          "model_module": "@jupyter-widgets/base",
          "model_name": "LayoutModel",
          "model_module_version": "1.2.0",
          "state": {
            "_model_module": "@jupyter-widgets/base",
            "_model_module_version": "1.2.0",
            "_model_name": "LayoutModel",
            "_view_count": null,
            "_view_module": "@jupyter-widgets/base",
            "_view_module_version": "1.2.0",
            "_view_name": "LayoutView",
            "align_content": null,
            "align_items": null,
            "align_self": null,
            "border": null,
            "bottom": null,
            "display": null,
            "flex": null,
            "flex_flow": null,
            "grid_area": null,
            "grid_auto_columns": null,
            "grid_auto_flow": null,
            "grid_auto_rows": null,
            "grid_column": null,
            "grid_gap": null,
            "grid_row": null,
            "grid_template_areas": null,
            "grid_template_columns": null,
            "grid_template_rows": null,
            "height": null,
            "justify_content": null,
            "justify_items": null,
            "left": null,
            "margin": null,
            "max_height": null,
            "max_width": null,
            "min_height": null,
            "min_width": null,
            "object_fit": null,
            "object_position": null,
            "order": null,
            "overflow": null,
            "overflow_x": null,
            "overflow_y": null,
            "padding": null,
            "right": null,
            "top": null,
            "visibility": null,
            "width": null
          }
        },
        "e3f80140dea84e4bb8b2702897c72d29": {
          "model_module": "@jupyter-widgets/controls",
          "model_name": "DescriptionStyleModel",
          "model_module_version": "1.5.0",
          "state": {
            "_model_module": "@jupyter-widgets/controls",
            "_model_module_version": "1.5.0",
            "_model_name": "DescriptionStyleModel",
            "_view_count": null,
            "_view_module": "@jupyter-widgets/base",
            "_view_module_version": "1.2.0",
            "_view_name": "StyleView",
            "description_width": ""
          }
        },
        "af051b75293544b999d71a28f7877fa1": {
          "model_module": "@jupyter-widgets/controls",
          "model_name": "HBoxModel",
          "model_module_version": "1.5.0",
          "state": {
            "_dom_classes": [],
            "_model_module": "@jupyter-widgets/controls",
            "_model_module_version": "1.5.0",
            "_model_name": "HBoxModel",
            "_view_count": null,
            "_view_module": "@jupyter-widgets/controls",
            "_view_module_version": "1.5.0",
            "_view_name": "HBoxView",
            "box_style": "",
            "children": [
              "IPY_MODEL_0cea11a9fdef44e7b68e6271dd8c03b4",
              "IPY_MODEL_d217dd594d72481cbe31623af50d06b1",
              "IPY_MODEL_911804f79b3f4085961c2be39a9d20ab"
            ],
            "layout": "IPY_MODEL_5401bb8335154633afb492e7611ea197"
          }
        },
        "0cea11a9fdef44e7b68e6271dd8c03b4": {
          "model_module": "@jupyter-widgets/controls",
          "model_name": "HTMLModel",
          "model_module_version": "1.5.0",
          "state": {
            "_dom_classes": [],
            "_model_module": "@jupyter-widgets/controls",
            "_model_module_version": "1.5.0",
            "_model_name": "HTMLModel",
            "_view_count": null,
            "_view_module": "@jupyter-widgets/controls",
            "_view_module_version": "1.5.0",
            "_view_name": "HTMLView",
            "description": "",
            "description_tooltip": null,
            "layout": "IPY_MODEL_3a239c24c3e543debaf20a5b517abac6",
            "placeholder": "​",
            "style": "IPY_MODEL_1c366bd7417a448889c3fd0a31285314",
            "value": "Map:   0%"
          }
        },
        "d217dd594d72481cbe31623af50d06b1": {
          "model_module": "@jupyter-widgets/controls",
          "model_name": "FloatProgressModel",
          "model_module_version": "1.5.0",
          "state": {
            "_dom_classes": [],
            "_model_module": "@jupyter-widgets/controls",
            "_model_module_version": "1.5.0",
            "_model_name": "FloatProgressModel",
            "_view_count": null,
            "_view_module": "@jupyter-widgets/controls",
            "_view_module_version": "1.5.0",
            "_view_name": "ProgressView",
            "bar_style": "",
            "description": "",
            "description_tooltip": null,
            "layout": "IPY_MODEL_7dd9e93cd7f249c483e6530e42e26d29",
            "max": 551,
            "min": 0,
            "orientation": "horizontal",
            "style": "IPY_MODEL_65a5f45898284217840bd7660270bb3b",
            "value": 551
          }
        },
        "911804f79b3f4085961c2be39a9d20ab": {
          "model_module": "@jupyter-widgets/controls",
          "model_name": "HTMLModel",
          "model_module_version": "1.5.0",
          "state": {
            "_dom_classes": [],
            "_model_module": "@jupyter-widgets/controls",
            "_model_module_version": "1.5.0",
            "_model_name": "HTMLModel",
            "_view_count": null,
            "_view_module": "@jupyter-widgets/controls",
            "_view_module_version": "1.5.0",
            "_view_name": "HTMLView",
            "description": "",
            "description_tooltip": null,
            "layout": "IPY_MODEL_9a42adcc88294a95b6ddf7edc7bd1aa8",
            "placeholder": "​",
            "style": "IPY_MODEL_1b181ed417f04960b4f26ecd3d2cd44e",
            "value": " 0/551 [00:00&lt;?, ? examples/s]"
          }
        },
        "5401bb8335154633afb492e7611ea197": {
          "model_module": "@jupyter-widgets/base",
          "model_name": "LayoutModel",
          "model_module_version": "1.2.0",
          "state": {
            "_model_module": "@jupyter-widgets/base",
            "_model_module_version": "1.2.0",
            "_model_name": "LayoutModel",
            "_view_count": null,
            "_view_module": "@jupyter-widgets/base",
            "_view_module_version": "1.2.0",
            "_view_name": "LayoutView",
            "align_content": null,
            "align_items": null,
            "align_self": null,
            "border": null,
            "bottom": null,
            "display": null,
            "flex": null,
            "flex_flow": null,
            "grid_area": null,
            "grid_auto_columns": null,
            "grid_auto_flow": null,
            "grid_auto_rows": null,
            "grid_column": null,
            "grid_gap": null,
            "grid_row": null,
            "grid_template_areas": null,
            "grid_template_columns": null,
            "grid_template_rows": null,
            "height": null,
            "justify_content": null,
            "justify_items": null,
            "left": null,
            "margin": null,
            "max_height": null,
            "max_width": null,
            "min_height": null,
            "min_width": null,
            "object_fit": null,
            "object_position": null,
            "order": null,
            "overflow": null,
            "overflow_x": null,
            "overflow_y": null,
            "padding": null,
            "right": null,
            "top": null,
            "visibility": "hidden",
            "width": null
          }
        },
        "3a239c24c3e543debaf20a5b517abac6": {
          "model_module": "@jupyter-widgets/base",
          "model_name": "LayoutModel",
          "model_module_version": "1.2.0",
          "state": {
            "_model_module": "@jupyter-widgets/base",
            "_model_module_version": "1.2.0",
            "_model_name": "LayoutModel",
            "_view_count": null,
            "_view_module": "@jupyter-widgets/base",
            "_view_module_version": "1.2.0",
            "_view_name": "LayoutView",
            "align_content": null,
            "align_items": null,
            "align_self": null,
            "border": null,
            "bottom": null,
            "display": null,
            "flex": null,
            "flex_flow": null,
            "grid_area": null,
            "grid_auto_columns": null,
            "grid_auto_flow": null,
            "grid_auto_rows": null,
            "grid_column": null,
            "grid_gap": null,
            "grid_row": null,
            "grid_template_areas": null,
            "grid_template_columns": null,
            "grid_template_rows": null,
            "height": null,
            "justify_content": null,
            "justify_items": null,
            "left": null,
            "margin": null,
            "max_height": null,
            "max_width": null,
            "min_height": null,
            "min_width": null,
            "object_fit": null,
            "object_position": null,
            "order": null,
            "overflow": null,
            "overflow_x": null,
            "overflow_y": null,
            "padding": null,
            "right": null,
            "top": null,
            "visibility": null,
            "width": null
          }
        },
        "1c366bd7417a448889c3fd0a31285314": {
          "model_module": "@jupyter-widgets/controls",
          "model_name": "DescriptionStyleModel",
          "model_module_version": "1.5.0",
          "state": {
            "_model_module": "@jupyter-widgets/controls",
            "_model_module_version": "1.5.0",
            "_model_name": "DescriptionStyleModel",
            "_view_count": null,
            "_view_module": "@jupyter-widgets/base",
            "_view_module_version": "1.2.0",
            "_view_name": "StyleView",
            "description_width": ""
          }
        },
        "7dd9e93cd7f249c483e6530e42e26d29": {
          "model_module": "@jupyter-widgets/base",
          "model_name": "LayoutModel",
          "model_module_version": "1.2.0",
          "state": {
            "_model_module": "@jupyter-widgets/base",
            "_model_module_version": "1.2.0",
            "_model_name": "LayoutModel",
            "_view_count": null,
            "_view_module": "@jupyter-widgets/base",
            "_view_module_version": "1.2.0",
            "_view_name": "LayoutView",
            "align_content": null,
            "align_items": null,
            "align_self": null,
            "border": null,
            "bottom": null,
            "display": null,
            "flex": null,
            "flex_flow": null,
            "grid_area": null,
            "grid_auto_columns": null,
            "grid_auto_flow": null,
            "grid_auto_rows": null,
            "grid_column": null,
            "grid_gap": null,
            "grid_row": null,
            "grid_template_areas": null,
            "grid_template_columns": null,
            "grid_template_rows": null,
            "height": null,
            "justify_content": null,
            "justify_items": null,
            "left": null,
            "margin": null,
            "max_height": null,
            "max_width": null,
            "min_height": null,
            "min_width": null,
            "object_fit": null,
            "object_position": null,
            "order": null,
            "overflow": null,
            "overflow_x": null,
            "overflow_y": null,
            "padding": null,
            "right": null,
            "top": null,
            "visibility": null,
            "width": null
          }
        },
        "65a5f45898284217840bd7660270bb3b": {
          "model_module": "@jupyter-widgets/controls",
          "model_name": "ProgressStyleModel",
          "model_module_version": "1.5.0",
          "state": {
            "_model_module": "@jupyter-widgets/controls",
            "_model_module_version": "1.5.0",
            "_model_name": "ProgressStyleModel",
            "_view_count": null,
            "_view_module": "@jupyter-widgets/base",
            "_view_module_version": "1.2.0",
            "_view_name": "StyleView",
            "bar_color": null,
            "description_width": ""
          }
        },
        "9a42adcc88294a95b6ddf7edc7bd1aa8": {
          "model_module": "@jupyter-widgets/base",
          "model_name": "LayoutModel",
          "model_module_version": "1.2.0",
          "state": {
            "_model_module": "@jupyter-widgets/base",
            "_model_module_version": "1.2.0",
            "_model_name": "LayoutModel",
            "_view_count": null,
            "_view_module": "@jupyter-widgets/base",
            "_view_module_version": "1.2.0",
            "_view_name": "LayoutView",
            "align_content": null,
            "align_items": null,
            "align_self": null,
            "border": null,
            "bottom": null,
            "display": null,
            "flex": null,
            "flex_flow": null,
            "grid_area": null,
            "grid_auto_columns": null,
            "grid_auto_flow": null,
            "grid_auto_rows": null,
            "grid_column": null,
            "grid_gap": null,
            "grid_row": null,
            "grid_template_areas": null,
            "grid_template_columns": null,
            "grid_template_rows": null,
            "height": null,
            "justify_content": null,
            "justify_items": null,
            "left": null,
            "margin": null,
            "max_height": null,
            "max_width": null,
            "min_height": null,
            "min_width": null,
            "object_fit": null,
            "object_position": null,
            "order": null,
            "overflow": null,
            "overflow_x": null,
            "overflow_y": null,
            "padding": null,
            "right": null,
            "top": null,
            "visibility": null,
            "width": null
          }
        },
        "1b181ed417f04960b4f26ecd3d2cd44e": {
          "model_module": "@jupyter-widgets/controls",
          "model_name": "DescriptionStyleModel",
          "model_module_version": "1.5.0",
          "state": {
            "_model_module": "@jupyter-widgets/controls",
            "_model_module_version": "1.5.0",
            "_model_name": "DescriptionStyleModel",
            "_view_count": null,
            "_view_module": "@jupyter-widgets/base",
            "_view_module_version": "1.2.0",
            "_view_name": "StyleView",
            "description_width": ""
          }
        },
        "c586d9ade6664de4a85bdf9d290d799e": {
          "model_module": "@jupyter-widgets/controls",
          "model_name": "HBoxModel",
          "model_module_version": "1.5.0",
          "state": {
            "_dom_classes": [],
            "_model_module": "@jupyter-widgets/controls",
            "_model_module_version": "1.5.0",
            "_model_name": "HBoxModel",
            "_view_count": null,
            "_view_module": "@jupyter-widgets/controls",
            "_view_module_version": "1.5.0",
            "_view_name": "HBoxView",
            "box_style": "",
            "children": [
              "IPY_MODEL_df4bcd1ed7444cef895d10e5618acf1b",
              "IPY_MODEL_f0d9728a324e4c44bc3e03efc38c624f",
              "IPY_MODEL_732b8653ed4f4914be44ebe167e28825"
            ],
            "layout": "IPY_MODEL_2ea3efe70f354f9fb8eb6bc0cf4dd13b"
          }
        },
        "df4bcd1ed7444cef895d10e5618acf1b": {
          "model_module": "@jupyter-widgets/controls",
          "model_name": "HTMLModel",
          "model_module_version": "1.5.0",
          "state": {
            "_dom_classes": [],
            "_model_module": "@jupyter-widgets/controls",
            "_model_module_version": "1.5.0",
            "_model_name": "HTMLModel",
            "_view_count": null,
            "_view_module": "@jupyter-widgets/controls",
            "_view_module_version": "1.5.0",
            "_view_name": "HTMLView",
            "description": "",
            "description_tooltip": null,
            "layout": "IPY_MODEL_48c76806dd5f4bfc96d76f6bc6f6ea4f",
            "placeholder": "​",
            "style": "IPY_MODEL_b8e5c8fb8ff546818074d1996e131aa3",
            "value": "100%"
          }
        },
        "f0d9728a324e4c44bc3e03efc38c624f": {
          "model_module": "@jupyter-widgets/controls",
          "model_name": "FloatProgressModel",
          "model_module_version": "1.5.0",
          "state": {
            "_dom_classes": [],
            "_model_module": "@jupyter-widgets/controls",
            "_model_module_version": "1.5.0",
            "_model_name": "FloatProgressModel",
            "_view_count": null,
            "_view_module": "@jupyter-widgets/controls",
            "_view_module_version": "1.5.0",
            "_view_name": "ProgressView",
            "bar_style": "success",
            "description": "",
            "description_tooltip": null,
            "layout": "IPY_MODEL_70bb6eb5a2d74d3995fbff110a9d90cc",
            "max": 1380,
            "min": 0,
            "orientation": "horizontal",
            "style": "IPY_MODEL_fd335e8a54d84d21a08fb4a58ff35275",
            "value": 1380
          }
        },
        "732b8653ed4f4914be44ebe167e28825": {
          "model_module": "@jupyter-widgets/controls",
          "model_name": "HTMLModel",
          "model_module_version": "1.5.0",
          "state": {
            "_dom_classes": [],
            "_model_module": "@jupyter-widgets/controls",
            "_model_module_version": "1.5.0",
            "_model_name": "HTMLModel",
            "_view_count": null,
            "_view_module": "@jupyter-widgets/controls",
            "_view_module_version": "1.5.0",
            "_view_name": "HTMLView",
            "description": "",
            "description_tooltip": null,
            "layout": "IPY_MODEL_bbdb9b652fe347b8b347909d2a97a8db",
            "placeholder": "​",
            "style": "IPY_MODEL_ce5996344e5e4ec4bc4219eb16b12f41",
            "value": " 1380/1380 [05:13&lt;00:00, 13.49it/s]"
          }
        },
        "2ea3efe70f354f9fb8eb6bc0cf4dd13b": {
          "model_module": "@jupyter-widgets/base",
          "model_name": "LayoutModel",
          "model_module_version": "1.2.0",
          "state": {
            "_model_module": "@jupyter-widgets/base",
            "_model_module_version": "1.2.0",
            "_model_name": "LayoutModel",
            "_view_count": null,
            "_view_module": "@jupyter-widgets/base",
            "_view_module_version": "1.2.0",
            "_view_name": "LayoutView",
            "align_content": null,
            "align_items": null,
            "align_self": null,
            "border": null,
            "bottom": null,
            "display": null,
            "flex": null,
            "flex_flow": null,
            "grid_area": null,
            "grid_auto_columns": null,
            "grid_auto_flow": null,
            "grid_auto_rows": null,
            "grid_column": null,
            "grid_gap": null,
            "grid_row": null,
            "grid_template_areas": null,
            "grid_template_columns": null,
            "grid_template_rows": null,
            "height": null,
            "justify_content": null,
            "justify_items": null,
            "left": null,
            "margin": null,
            "max_height": null,
            "max_width": null,
            "min_height": null,
            "min_width": null,
            "object_fit": null,
            "object_position": null,
            "order": null,
            "overflow": null,
            "overflow_x": null,
            "overflow_y": null,
            "padding": null,
            "right": null,
            "top": null,
            "visibility": null,
            "width": null
          }
        },
        "48c76806dd5f4bfc96d76f6bc6f6ea4f": {
          "model_module": "@jupyter-widgets/base",
          "model_name": "LayoutModel",
          "model_module_version": "1.2.0",
          "state": {
            "_model_module": "@jupyter-widgets/base",
            "_model_module_version": "1.2.0",
            "_model_name": "LayoutModel",
            "_view_count": null,
            "_view_module": "@jupyter-widgets/base",
            "_view_module_version": "1.2.0",
            "_view_name": "LayoutView",
            "align_content": null,
            "align_items": null,
            "align_self": null,
            "border": null,
            "bottom": null,
            "display": null,
            "flex": null,
            "flex_flow": null,
            "grid_area": null,
            "grid_auto_columns": null,
            "grid_auto_flow": null,
            "grid_auto_rows": null,
            "grid_column": null,
            "grid_gap": null,
            "grid_row": null,
            "grid_template_areas": null,
            "grid_template_columns": null,
            "grid_template_rows": null,
            "height": null,
            "justify_content": null,
            "justify_items": null,
            "left": null,
            "margin": null,
            "max_height": null,
            "max_width": null,
            "min_height": null,
            "min_width": null,
            "object_fit": null,
            "object_position": null,
            "order": null,
            "overflow": null,
            "overflow_x": null,
            "overflow_y": null,
            "padding": null,
            "right": null,
            "top": null,
            "visibility": null,
            "width": null
          }
        },
        "b8e5c8fb8ff546818074d1996e131aa3": {
          "model_module": "@jupyter-widgets/controls",
          "model_name": "DescriptionStyleModel",
          "model_module_version": "1.5.0",
          "state": {
            "_model_module": "@jupyter-widgets/controls",
            "_model_module_version": "1.5.0",
            "_model_name": "DescriptionStyleModel",
            "_view_count": null,
            "_view_module": "@jupyter-widgets/base",
            "_view_module_version": "1.2.0",
            "_view_name": "StyleView",
            "description_width": ""
          }
        },
        "70bb6eb5a2d74d3995fbff110a9d90cc": {
          "model_module": "@jupyter-widgets/base",
          "model_name": "LayoutModel",
          "model_module_version": "1.2.0",
          "state": {
            "_model_module": "@jupyter-widgets/base",
            "_model_module_version": "1.2.0",
            "_model_name": "LayoutModel",
            "_view_count": null,
            "_view_module": "@jupyter-widgets/base",
            "_view_module_version": "1.2.0",
            "_view_name": "LayoutView",
            "align_content": null,
            "align_items": null,
            "align_self": null,
            "border": null,
            "bottom": null,
            "display": null,
            "flex": null,
            "flex_flow": null,
            "grid_area": null,
            "grid_auto_columns": null,
            "grid_auto_flow": null,
            "grid_auto_rows": null,
            "grid_column": null,
            "grid_gap": null,
            "grid_row": null,
            "grid_template_areas": null,
            "grid_template_columns": null,
            "grid_template_rows": null,
            "height": null,
            "justify_content": null,
            "justify_items": null,
            "left": null,
            "margin": null,
            "max_height": null,
            "max_width": null,
            "min_height": null,
            "min_width": null,
            "object_fit": null,
            "object_position": null,
            "order": null,
            "overflow": null,
            "overflow_x": null,
            "overflow_y": null,
            "padding": null,
            "right": null,
            "top": null,
            "visibility": null,
            "width": null
          }
        },
        "fd335e8a54d84d21a08fb4a58ff35275": {
          "model_module": "@jupyter-widgets/controls",
          "model_name": "ProgressStyleModel",
          "model_module_version": "1.5.0",
          "state": {
            "_model_module": "@jupyter-widgets/controls",
            "_model_module_version": "1.5.0",
            "_model_name": "ProgressStyleModel",
            "_view_count": null,
            "_view_module": "@jupyter-widgets/base",
            "_view_module_version": "1.2.0",
            "_view_name": "StyleView",
            "bar_color": null,
            "description_width": ""
          }
        },
        "bbdb9b652fe347b8b347909d2a97a8db": {
          "model_module": "@jupyter-widgets/base",
          "model_name": "LayoutModel",
          "model_module_version": "1.2.0",
          "state": {
            "_model_module": "@jupyter-widgets/base",
            "_model_module_version": "1.2.0",
            "_model_name": "LayoutModel",
            "_view_count": null,
            "_view_module": "@jupyter-widgets/base",
            "_view_module_version": "1.2.0",
            "_view_name": "LayoutView",
            "align_content": null,
            "align_items": null,
            "align_self": null,
            "border": null,
            "bottom": null,
            "display": null,
            "flex": null,
            "flex_flow": null,
            "grid_area": null,
            "grid_auto_columns": null,
            "grid_auto_flow": null,
            "grid_auto_rows": null,
            "grid_column": null,
            "grid_gap": null,
            "grid_row": null,
            "grid_template_areas": null,
            "grid_template_columns": null,
            "grid_template_rows": null,
            "height": null,
            "justify_content": null,
            "justify_items": null,
            "left": null,
            "margin": null,
            "max_height": null,
            "max_width": null,
            "min_height": null,
            "min_width": null,
            "object_fit": null,
            "object_position": null,
            "order": null,
            "overflow": null,
            "overflow_x": null,
            "overflow_y": null,
            "padding": null,
            "right": null,
            "top": null,
            "visibility": null,
            "width": null
          }
        },
        "ce5996344e5e4ec4bc4219eb16b12f41": {
          "model_module": "@jupyter-widgets/controls",
          "model_name": "DescriptionStyleModel",
          "model_module_version": "1.5.0",
          "state": {
            "_model_module": "@jupyter-widgets/controls",
            "_model_module_version": "1.5.0",
            "_model_name": "DescriptionStyleModel",
            "_view_count": null,
            "_view_module": "@jupyter-widgets/base",
            "_view_module_version": "1.2.0",
            "_view_name": "StyleView",
            "description_width": ""
          }
        },
        "6ad24b22c8ea48d68b1a8b4d9fe455ad": {
          "model_module": "@jupyter-widgets/controls",
          "model_name": "HBoxModel",
          "model_module_version": "1.5.0",
          "state": {
            "_dom_classes": [],
            "_model_module": "@jupyter-widgets/controls",
            "_model_module_version": "1.5.0",
            "_model_name": "HBoxModel",
            "_view_count": null,
            "_view_module": "@jupyter-widgets/controls",
            "_view_module_version": "1.5.0",
            "_view_name": "HBoxView",
            "box_style": "",
            "children": [
              "IPY_MODEL_5310682a41154631bc1b6a24dcf06266",
              "IPY_MODEL_a7875591375d43dc8c3a1382a2854c77",
              "IPY_MODEL_ce9e9fd63f2343098076ae91c2a9a296"
            ],
            "layout": "IPY_MODEL_04b5a507efd348fbbc4b6a2ab6696ed8"
          }
        },
        "5310682a41154631bc1b6a24dcf06266": {
          "model_module": "@jupyter-widgets/controls",
          "model_name": "HTMLModel",
          "model_module_version": "1.5.0",
          "state": {
            "_dom_classes": [],
            "_model_module": "@jupyter-widgets/controls",
            "_model_module_version": "1.5.0",
            "_model_name": "HTMLModel",
            "_view_count": null,
            "_view_module": "@jupyter-widgets/controls",
            "_view_module_version": "1.5.0",
            "_view_name": "HTMLView",
            "description": "",
            "description_tooltip": null,
            "layout": "IPY_MODEL_6fbd8e801a774b40a67ff74ab7089c4e",
            "placeholder": "​",
            "style": "IPY_MODEL_2b787bc6ca334b1dae82fa7bb48413c7",
            "value": "Casting to class labels:  71%"
          }
        },
        "a7875591375d43dc8c3a1382a2854c77": {
          "model_module": "@jupyter-widgets/controls",
          "model_name": "FloatProgressModel",
          "model_module_version": "1.5.0",
          "state": {
            "_dom_classes": [],
            "_model_module": "@jupyter-widgets/controls",
            "_model_module_version": "1.5.0",
            "_model_name": "FloatProgressModel",
            "_view_count": null,
            "_view_module": "@jupyter-widgets/controls",
            "_view_module_version": "1.5.0",
            "_view_name": "ProgressView",
            "bar_style": "",
            "description": "",
            "description_tooltip": null,
            "layout": "IPY_MODEL_cc19462f5b614ed0b9107fbe372b89e3",
            "max": 36455,
            "min": 0,
            "orientation": "horizontal",
            "style": "IPY_MODEL_7753eeb8041b47e7b5cd66f80fb07e96",
            "value": 36455
          }
        },
        "ce9e9fd63f2343098076ae91c2a9a296": {
          "model_module": "@jupyter-widgets/controls",
          "model_name": "HTMLModel",
          "model_module_version": "1.5.0",
          "state": {
            "_dom_classes": [],
            "_model_module": "@jupyter-widgets/controls",
            "_model_module_version": "1.5.0",
            "_model_name": "HTMLModel",
            "_view_count": null,
            "_view_module": "@jupyter-widgets/controls",
            "_view_module_version": "1.5.0",
            "_view_name": "HTMLView",
            "description": "",
            "description_tooltip": null,
            "layout": "IPY_MODEL_68b1eae97862402c8da241cd50125dd4",
            "placeholder": "​",
            "style": "IPY_MODEL_98ef630a73984d2682afe96b5b81818a",
            "value": " 26000/36455 [00:00&lt;00:00, 214249.46 examples/s]"
          }
        },
        "04b5a507efd348fbbc4b6a2ab6696ed8": {
          "model_module": "@jupyter-widgets/base",
          "model_name": "LayoutModel",
          "model_module_version": "1.2.0",
          "state": {
            "_model_module": "@jupyter-widgets/base",
            "_model_module_version": "1.2.0",
            "_model_name": "LayoutModel",
            "_view_count": null,
            "_view_module": "@jupyter-widgets/base",
            "_view_module_version": "1.2.0",
            "_view_name": "LayoutView",
            "align_content": null,
            "align_items": null,
            "align_self": null,
            "border": null,
            "bottom": null,
            "display": null,
            "flex": null,
            "flex_flow": null,
            "grid_area": null,
            "grid_auto_columns": null,
            "grid_auto_flow": null,
            "grid_auto_rows": null,
            "grid_column": null,
            "grid_gap": null,
            "grid_row": null,
            "grid_template_areas": null,
            "grid_template_columns": null,
            "grid_template_rows": null,
            "height": null,
            "justify_content": null,
            "justify_items": null,
            "left": null,
            "margin": null,
            "max_height": null,
            "max_width": null,
            "min_height": null,
            "min_width": null,
            "object_fit": null,
            "object_position": null,
            "order": null,
            "overflow": null,
            "overflow_x": null,
            "overflow_y": null,
            "padding": null,
            "right": null,
            "top": null,
            "visibility": "hidden",
            "width": null
          }
        },
        "6fbd8e801a774b40a67ff74ab7089c4e": {
          "model_module": "@jupyter-widgets/base",
          "model_name": "LayoutModel",
          "model_module_version": "1.2.0",
          "state": {
            "_model_module": "@jupyter-widgets/base",
            "_model_module_version": "1.2.0",
            "_model_name": "LayoutModel",
            "_view_count": null,
            "_view_module": "@jupyter-widgets/base",
            "_view_module_version": "1.2.0",
            "_view_name": "LayoutView",
            "align_content": null,
            "align_items": null,
            "align_self": null,
            "border": null,
            "bottom": null,
            "display": null,
            "flex": null,
            "flex_flow": null,
            "grid_area": null,
            "grid_auto_columns": null,
            "grid_auto_flow": null,
            "grid_auto_rows": null,
            "grid_column": null,
            "grid_gap": null,
            "grid_row": null,
            "grid_template_areas": null,
            "grid_template_columns": null,
            "grid_template_rows": null,
            "height": null,
            "justify_content": null,
            "justify_items": null,
            "left": null,
            "margin": null,
            "max_height": null,
            "max_width": null,
            "min_height": null,
            "min_width": null,
            "object_fit": null,
            "object_position": null,
            "order": null,
            "overflow": null,
            "overflow_x": null,
            "overflow_y": null,
            "padding": null,
            "right": null,
            "top": null,
            "visibility": null,
            "width": null
          }
        },
        "2b787bc6ca334b1dae82fa7bb48413c7": {
          "model_module": "@jupyter-widgets/controls",
          "model_name": "DescriptionStyleModel",
          "model_module_version": "1.5.0",
          "state": {
            "_model_module": "@jupyter-widgets/controls",
            "_model_module_version": "1.5.0",
            "_model_name": "DescriptionStyleModel",
            "_view_count": null,
            "_view_module": "@jupyter-widgets/base",
            "_view_module_version": "1.2.0",
            "_view_name": "StyleView",
            "description_width": ""
          }
        },
        "cc19462f5b614ed0b9107fbe372b89e3": {
          "model_module": "@jupyter-widgets/base",
          "model_name": "LayoutModel",
          "model_module_version": "1.2.0",
          "state": {
            "_model_module": "@jupyter-widgets/base",
            "_model_module_version": "1.2.0",
            "_model_name": "LayoutModel",
            "_view_count": null,
            "_view_module": "@jupyter-widgets/base",
            "_view_module_version": "1.2.0",
            "_view_name": "LayoutView",
            "align_content": null,
            "align_items": null,
            "align_self": null,
            "border": null,
            "bottom": null,
            "display": null,
            "flex": null,
            "flex_flow": null,
            "grid_area": null,
            "grid_auto_columns": null,
            "grid_auto_flow": null,
            "grid_auto_rows": null,
            "grid_column": null,
            "grid_gap": null,
            "grid_row": null,
            "grid_template_areas": null,
            "grid_template_columns": null,
            "grid_template_rows": null,
            "height": null,
            "justify_content": null,
            "justify_items": null,
            "left": null,
            "margin": null,
            "max_height": null,
            "max_width": null,
            "min_height": null,
            "min_width": null,
            "object_fit": null,
            "object_position": null,
            "order": null,
            "overflow": null,
            "overflow_x": null,
            "overflow_y": null,
            "padding": null,
            "right": null,
            "top": null,
            "visibility": null,
            "width": null
          }
        },
        "7753eeb8041b47e7b5cd66f80fb07e96": {
          "model_module": "@jupyter-widgets/controls",
          "model_name": "ProgressStyleModel",
          "model_module_version": "1.5.0",
          "state": {
            "_model_module": "@jupyter-widgets/controls",
            "_model_module_version": "1.5.0",
            "_model_name": "ProgressStyleModel",
            "_view_count": null,
            "_view_module": "@jupyter-widgets/base",
            "_view_module_version": "1.2.0",
            "_view_name": "StyleView",
            "bar_color": null,
            "description_width": ""
          }
        },
        "68b1eae97862402c8da241cd50125dd4": {
          "model_module": "@jupyter-widgets/base",
          "model_name": "LayoutModel",
          "model_module_version": "1.2.0",
          "state": {
            "_model_module": "@jupyter-widgets/base",
            "_model_module_version": "1.2.0",
            "_model_name": "LayoutModel",
            "_view_count": null,
            "_view_module": "@jupyter-widgets/base",
            "_view_module_version": "1.2.0",
            "_view_name": "LayoutView",
            "align_content": null,
            "align_items": null,
            "align_self": null,
            "border": null,
            "bottom": null,
            "display": null,
            "flex": null,
            "flex_flow": null,
            "grid_area": null,
            "grid_auto_columns": null,
            "grid_auto_flow": null,
            "grid_auto_rows": null,
            "grid_column": null,
            "grid_gap": null,
            "grid_row": null,
            "grid_template_areas": null,
            "grid_template_columns": null,
            "grid_template_rows": null,
            "height": null,
            "justify_content": null,
            "justify_items": null,
            "left": null,
            "margin": null,
            "max_height": null,
            "max_width": null,
            "min_height": null,
            "min_width": null,
            "object_fit": null,
            "object_position": null,
            "order": null,
            "overflow": null,
            "overflow_x": null,
            "overflow_y": null,
            "padding": null,
            "right": null,
            "top": null,
            "visibility": null,
            "width": null
          }
        },
        "98ef630a73984d2682afe96b5b81818a": {
          "model_module": "@jupyter-widgets/controls",
          "model_name": "DescriptionStyleModel",
          "model_module_version": "1.5.0",
          "state": {
            "_model_module": "@jupyter-widgets/controls",
            "_model_module_version": "1.5.0",
            "_model_name": "DescriptionStyleModel",
            "_view_count": null,
            "_view_module": "@jupyter-widgets/base",
            "_view_module_version": "1.2.0",
            "_view_name": "StyleView",
            "description_width": ""
          }
        },
        "fa79a810ba7f4bb4a336245c3b3d6df4": {
          "model_module": "@jupyter-widgets/controls",
          "model_name": "HBoxModel",
          "model_module_version": "1.5.0",
          "state": {
            "_dom_classes": [],
            "_model_module": "@jupyter-widgets/controls",
            "_model_module_version": "1.5.0",
            "_model_name": "HBoxModel",
            "_view_count": null,
            "_view_module": "@jupyter-widgets/controls",
            "_view_module_version": "1.5.0",
            "_view_name": "HBoxView",
            "box_style": "",
            "children": [
              "IPY_MODEL_273c7e4163a44f0190c08785f68848c2",
              "IPY_MODEL_33b8290f9c834480b994358c30135342",
              "IPY_MODEL_0504fc9d41054047afffd4cd56ac88ee"
            ],
            "layout": "IPY_MODEL_692e14fa21e347a2abbc952f66f77bf4"
          }
        },
        "273c7e4163a44f0190c08785f68848c2": {
          "model_module": "@jupyter-widgets/controls",
          "model_name": "HTMLModel",
          "model_module_version": "1.5.0",
          "state": {
            "_dom_classes": [],
            "_model_module": "@jupyter-widgets/controls",
            "_model_module_version": "1.5.0",
            "_model_name": "HTMLModel",
            "_view_count": null,
            "_view_module": "@jupyter-widgets/controls",
            "_view_module_version": "1.5.0",
            "_view_name": "HTMLView",
            "description": "",
            "description_tooltip": null,
            "layout": "IPY_MODEL_db193d35660f438895b7117ca4821631",
            "placeholder": "​",
            "style": "IPY_MODEL_54061177e10a4c8ca3b72f494fb7579b",
            "value": "Map:  96%"
          }
        },
        "33b8290f9c834480b994358c30135342": {
          "model_module": "@jupyter-widgets/controls",
          "model_name": "FloatProgressModel",
          "model_module_version": "1.5.0",
          "state": {
            "_dom_classes": [],
            "_model_module": "@jupyter-widgets/controls",
            "_model_module_version": "1.5.0",
            "_model_name": "FloatProgressModel",
            "_view_count": null,
            "_view_module": "@jupyter-widgets/controls",
            "_view_module_version": "1.5.0",
            "_view_name": "ProgressView",
            "bar_style": "",
            "description": "",
            "description_tooltip": null,
            "layout": "IPY_MODEL_7de7b3e913ce4db08836fa6462c60560",
            "max": 29164,
            "min": 0,
            "orientation": "horizontal",
            "style": "IPY_MODEL_b0a55926d3ec49fa8e0707516d01467a",
            "value": 29164
          }
        },
        "0504fc9d41054047afffd4cd56ac88ee": {
          "model_module": "@jupyter-widgets/controls",
          "model_name": "HTMLModel",
          "model_module_version": "1.5.0",
          "state": {
            "_dom_classes": [],
            "_model_module": "@jupyter-widgets/controls",
            "_model_module_version": "1.5.0",
            "_model_name": "HTMLModel",
            "_view_count": null,
            "_view_module": "@jupyter-widgets/controls",
            "_view_module_version": "1.5.0",
            "_view_name": "HTMLView",
            "description": "",
            "description_tooltip": null,
            "layout": "IPY_MODEL_ddaf481a65af4ecd9978a948f696f951",
            "placeholder": "​",
            "style": "IPY_MODEL_57c09e8bb78343bfa249e8d6835d9114",
            "value": " 28000/29164 [00:02&lt;00:00, 12025.43 examples/s]"
          }
        },
        "692e14fa21e347a2abbc952f66f77bf4": {
          "model_module": "@jupyter-widgets/base",
          "model_name": "LayoutModel",
          "model_module_version": "1.2.0",
          "state": {
            "_model_module": "@jupyter-widgets/base",
            "_model_module_version": "1.2.0",
            "_model_name": "LayoutModel",
            "_view_count": null,
            "_view_module": "@jupyter-widgets/base",
            "_view_module_version": "1.2.0",
            "_view_name": "LayoutView",
            "align_content": null,
            "align_items": null,
            "align_self": null,
            "border": null,
            "bottom": null,
            "display": null,
            "flex": null,
            "flex_flow": null,
            "grid_area": null,
            "grid_auto_columns": null,
            "grid_auto_flow": null,
            "grid_auto_rows": null,
            "grid_column": null,
            "grid_gap": null,
            "grid_row": null,
            "grid_template_areas": null,
            "grid_template_columns": null,
            "grid_template_rows": null,
            "height": null,
            "justify_content": null,
            "justify_items": null,
            "left": null,
            "margin": null,
            "max_height": null,
            "max_width": null,
            "min_height": null,
            "min_width": null,
            "object_fit": null,
            "object_position": null,
            "order": null,
            "overflow": null,
            "overflow_x": null,
            "overflow_y": null,
            "padding": null,
            "right": null,
            "top": null,
            "visibility": "hidden",
            "width": null
          }
        },
        "db193d35660f438895b7117ca4821631": {
          "model_module": "@jupyter-widgets/base",
          "model_name": "LayoutModel",
          "model_module_version": "1.2.0",
          "state": {
            "_model_module": "@jupyter-widgets/base",
            "_model_module_version": "1.2.0",
            "_model_name": "LayoutModel",
            "_view_count": null,
            "_view_module": "@jupyter-widgets/base",
            "_view_module_version": "1.2.0",
            "_view_name": "LayoutView",
            "align_content": null,
            "align_items": null,
            "align_self": null,
            "border": null,
            "bottom": null,
            "display": null,
            "flex": null,
            "flex_flow": null,
            "grid_area": null,
            "grid_auto_columns": null,
            "grid_auto_flow": null,
            "grid_auto_rows": null,
            "grid_column": null,
            "grid_gap": null,
            "grid_row": null,
            "grid_template_areas": null,
            "grid_template_columns": null,
            "grid_template_rows": null,
            "height": null,
            "justify_content": null,
            "justify_items": null,
            "left": null,
            "margin": null,
            "max_height": null,
            "max_width": null,
            "min_height": null,
            "min_width": null,
            "object_fit": null,
            "object_position": null,
            "order": null,
            "overflow": null,
            "overflow_x": null,
            "overflow_y": null,
            "padding": null,
            "right": null,
            "top": null,
            "visibility": null,
            "width": null
          }
        },
        "54061177e10a4c8ca3b72f494fb7579b": {
          "model_module": "@jupyter-widgets/controls",
          "model_name": "DescriptionStyleModel",
          "model_module_version": "1.5.0",
          "state": {
            "_model_module": "@jupyter-widgets/controls",
            "_model_module_version": "1.5.0",
            "_model_name": "DescriptionStyleModel",
            "_view_count": null,
            "_view_module": "@jupyter-widgets/base",
            "_view_module_version": "1.2.0",
            "_view_name": "StyleView",
            "description_width": ""
          }
        },
        "7de7b3e913ce4db08836fa6462c60560": {
          "model_module": "@jupyter-widgets/base",
          "model_name": "LayoutModel",
          "model_module_version": "1.2.0",
          "state": {
            "_model_module": "@jupyter-widgets/base",
            "_model_module_version": "1.2.0",
            "_model_name": "LayoutModel",
            "_view_count": null,
            "_view_module": "@jupyter-widgets/base",
            "_view_module_version": "1.2.0",
            "_view_name": "LayoutView",
            "align_content": null,
            "align_items": null,
            "align_self": null,
            "border": null,
            "bottom": null,
            "display": null,
            "flex": null,
            "flex_flow": null,
            "grid_area": null,
            "grid_auto_columns": null,
            "grid_auto_flow": null,
            "grid_auto_rows": null,
            "grid_column": null,
            "grid_gap": null,
            "grid_row": null,
            "grid_template_areas": null,
            "grid_template_columns": null,
            "grid_template_rows": null,
            "height": null,
            "justify_content": null,
            "justify_items": null,
            "left": null,
            "margin": null,
            "max_height": null,
            "max_width": null,
            "min_height": null,
            "min_width": null,
            "object_fit": null,
            "object_position": null,
            "order": null,
            "overflow": null,
            "overflow_x": null,
            "overflow_y": null,
            "padding": null,
            "right": null,
            "top": null,
            "visibility": null,
            "width": null
          }
        },
        "b0a55926d3ec49fa8e0707516d01467a": {
          "model_module": "@jupyter-widgets/controls",
          "model_name": "ProgressStyleModel",
          "model_module_version": "1.5.0",
          "state": {
            "_model_module": "@jupyter-widgets/controls",
            "_model_module_version": "1.5.0",
            "_model_name": "ProgressStyleModel",
            "_view_count": null,
            "_view_module": "@jupyter-widgets/base",
            "_view_module_version": "1.2.0",
            "_view_name": "StyleView",
            "bar_color": null,
            "description_width": ""
          }
        },
        "ddaf481a65af4ecd9978a948f696f951": {
          "model_module": "@jupyter-widgets/base",
          "model_name": "LayoutModel",
          "model_module_version": "1.2.0",
          "state": {
            "_model_module": "@jupyter-widgets/base",
            "_model_module_version": "1.2.0",
            "_model_name": "LayoutModel",
            "_view_count": null,
            "_view_module": "@jupyter-widgets/base",
            "_view_module_version": "1.2.0",
            "_view_name": "LayoutView",
            "align_content": null,
            "align_items": null,
            "align_self": null,
            "border": null,
            "bottom": null,
            "display": null,
            "flex": null,
            "flex_flow": null,
            "grid_area": null,
            "grid_auto_columns": null,
            "grid_auto_flow": null,
            "grid_auto_rows": null,
            "grid_column": null,
            "grid_gap": null,
            "grid_row": null,
            "grid_template_areas": null,
            "grid_template_columns": null,
            "grid_template_rows": null,
            "height": null,
            "justify_content": null,
            "justify_items": null,
            "left": null,
            "margin": null,
            "max_height": null,
            "max_width": null,
            "min_height": null,
            "min_width": null,
            "object_fit": null,
            "object_position": null,
            "order": null,
            "overflow": null,
            "overflow_x": null,
            "overflow_y": null,
            "padding": null,
            "right": null,
            "top": null,
            "visibility": null,
            "width": null
          }
        },
        "57c09e8bb78343bfa249e8d6835d9114": {
          "model_module": "@jupyter-widgets/controls",
          "model_name": "DescriptionStyleModel",
          "model_module_version": "1.5.0",
          "state": {
            "_model_module": "@jupyter-widgets/controls",
            "_model_module_version": "1.5.0",
            "_model_name": "DescriptionStyleModel",
            "_view_count": null,
            "_view_module": "@jupyter-widgets/base",
            "_view_module_version": "1.2.0",
            "_view_name": "StyleView",
            "description_width": ""
          }
        },
        "d92e7ee98e10403985c12012ca0cc149": {
          "model_module": "@jupyter-widgets/controls",
          "model_name": "HBoxModel",
          "model_module_version": "1.5.0",
          "state": {
            "_dom_classes": [],
            "_model_module": "@jupyter-widgets/controls",
            "_model_module_version": "1.5.0",
            "_model_name": "HBoxModel",
            "_view_count": null,
            "_view_module": "@jupyter-widgets/controls",
            "_view_module_version": "1.5.0",
            "_view_name": "HBoxView",
            "box_style": "",
            "children": [
              "IPY_MODEL_75a77d0a17644c51b8d6503cd0463198",
              "IPY_MODEL_8f8b8afbd4cf4e5bb5fef248cc7e0566",
              "IPY_MODEL_756865f2edc6409a9bf18a82849ac1fd"
            ],
            "layout": "IPY_MODEL_1659fd1a1e8b4e14a534372a41f4fcc2"
          }
        },
        "75a77d0a17644c51b8d6503cd0463198": {
          "model_module": "@jupyter-widgets/controls",
          "model_name": "HTMLModel",
          "model_module_version": "1.5.0",
          "state": {
            "_dom_classes": [],
            "_model_module": "@jupyter-widgets/controls",
            "_model_module_version": "1.5.0",
            "_model_name": "HTMLModel",
            "_view_count": null,
            "_view_module": "@jupyter-widgets/controls",
            "_view_module_version": "1.5.0",
            "_view_name": "HTMLView",
            "description": "",
            "description_tooltip": null,
            "layout": "IPY_MODEL_2ebbb0b2573d4183ae0af7b3d690f603",
            "placeholder": "​",
            "style": "IPY_MODEL_4319e914912d47708cd6b73259868b66",
            "value": "Map: 100%"
          }
        },
        "8f8b8afbd4cf4e5bb5fef248cc7e0566": {
          "model_module": "@jupyter-widgets/controls",
          "model_name": "FloatProgressModel",
          "model_module_version": "1.5.0",
          "state": {
            "_dom_classes": [],
            "_model_module": "@jupyter-widgets/controls",
            "_model_module_version": "1.5.0",
            "_model_name": "FloatProgressModel",
            "_view_count": null,
            "_view_module": "@jupyter-widgets/controls",
            "_view_module_version": "1.5.0",
            "_view_name": "ProgressView",
            "bar_style": "",
            "description": "",
            "description_tooltip": null,
            "layout": "IPY_MODEL_22f8bced8b3d4a19b05dca620e9735be",
            "max": 7291,
            "min": 0,
            "orientation": "horizontal",
            "style": "IPY_MODEL_97493c3402f54b6cbfc1a0b8fecc4f51",
            "value": 7291
          }
        },
        "756865f2edc6409a9bf18a82849ac1fd": {
          "model_module": "@jupyter-widgets/controls",
          "model_name": "HTMLModel",
          "model_module_version": "1.5.0",
          "state": {
            "_dom_classes": [],
            "_model_module": "@jupyter-widgets/controls",
            "_model_module_version": "1.5.0",
            "_model_name": "HTMLModel",
            "_view_count": null,
            "_view_module": "@jupyter-widgets/controls",
            "_view_module_version": "1.5.0",
            "_view_name": "HTMLView",
            "description": "",
            "description_tooltip": null,
            "layout": "IPY_MODEL_6e546bd9d7084f9bab95d7366454e4fe",
            "placeholder": "​",
            "style": "IPY_MODEL_3c57970a0d844b85af90a2a107d77be3",
            "value": " 7291/7291 [00:00&lt;00:00, 9052.09 examples/s]"
          }
        },
        "1659fd1a1e8b4e14a534372a41f4fcc2": {
          "model_module": "@jupyter-widgets/base",
          "model_name": "LayoutModel",
          "model_module_version": "1.2.0",
          "state": {
            "_model_module": "@jupyter-widgets/base",
            "_model_module_version": "1.2.0",
            "_model_name": "LayoutModel",
            "_view_count": null,
            "_view_module": "@jupyter-widgets/base",
            "_view_module_version": "1.2.0",
            "_view_name": "LayoutView",
            "align_content": null,
            "align_items": null,
            "align_self": null,
            "border": null,
            "bottom": null,
            "display": null,
            "flex": null,
            "flex_flow": null,
            "grid_area": null,
            "grid_auto_columns": null,
            "grid_auto_flow": null,
            "grid_auto_rows": null,
            "grid_column": null,
            "grid_gap": null,
            "grid_row": null,
            "grid_template_areas": null,
            "grid_template_columns": null,
            "grid_template_rows": null,
            "height": null,
            "justify_content": null,
            "justify_items": null,
            "left": null,
            "margin": null,
            "max_height": null,
            "max_width": null,
            "min_height": null,
            "min_width": null,
            "object_fit": null,
            "object_position": null,
            "order": null,
            "overflow": null,
            "overflow_x": null,
            "overflow_y": null,
            "padding": null,
            "right": null,
            "top": null,
            "visibility": "hidden",
            "width": null
          }
        },
        "2ebbb0b2573d4183ae0af7b3d690f603": {
          "model_module": "@jupyter-widgets/base",
          "model_name": "LayoutModel",
          "model_module_version": "1.2.0",
          "state": {
            "_model_module": "@jupyter-widgets/base",
            "_model_module_version": "1.2.0",
            "_model_name": "LayoutModel",
            "_view_count": null,
            "_view_module": "@jupyter-widgets/base",
            "_view_module_version": "1.2.0",
            "_view_name": "LayoutView",
            "align_content": null,
            "align_items": null,
            "align_self": null,
            "border": null,
            "bottom": null,
            "display": null,
            "flex": null,
            "flex_flow": null,
            "grid_area": null,
            "grid_auto_columns": null,
            "grid_auto_flow": null,
            "grid_auto_rows": null,
            "grid_column": null,
            "grid_gap": null,
            "grid_row": null,
            "grid_template_areas": null,
            "grid_template_columns": null,
            "grid_template_rows": null,
            "height": null,
            "justify_content": null,
            "justify_items": null,
            "left": null,
            "margin": null,
            "max_height": null,
            "max_width": null,
            "min_height": null,
            "min_width": null,
            "object_fit": null,
            "object_position": null,
            "order": null,
            "overflow": null,
            "overflow_x": null,
            "overflow_y": null,
            "padding": null,
            "right": null,
            "top": null,
            "visibility": null,
            "width": null
          }
        },
        "4319e914912d47708cd6b73259868b66": {
          "model_module": "@jupyter-widgets/controls",
          "model_name": "DescriptionStyleModel",
          "model_module_version": "1.5.0",
          "state": {
            "_model_module": "@jupyter-widgets/controls",
            "_model_module_version": "1.5.0",
            "_model_name": "DescriptionStyleModel",
            "_view_count": null,
            "_view_module": "@jupyter-widgets/base",
            "_view_module_version": "1.2.0",
            "_view_name": "StyleView",
            "description_width": ""
          }
        },
        "22f8bced8b3d4a19b05dca620e9735be": {
          "model_module": "@jupyter-widgets/base",
          "model_name": "LayoutModel",
          "model_module_version": "1.2.0",
          "state": {
            "_model_module": "@jupyter-widgets/base",
            "_model_module_version": "1.2.0",
            "_model_name": "LayoutModel",
            "_view_count": null,
            "_view_module": "@jupyter-widgets/base",
            "_view_module_version": "1.2.0",
            "_view_name": "LayoutView",
            "align_content": null,
            "align_items": null,
            "align_self": null,
            "border": null,
            "bottom": null,
            "display": null,
            "flex": null,
            "flex_flow": null,
            "grid_area": null,
            "grid_auto_columns": null,
            "grid_auto_flow": null,
            "grid_auto_rows": null,
            "grid_column": null,
            "grid_gap": null,
            "grid_row": null,
            "grid_template_areas": null,
            "grid_template_columns": null,
            "grid_template_rows": null,
            "height": null,
            "justify_content": null,
            "justify_items": null,
            "left": null,
            "margin": null,
            "max_height": null,
            "max_width": null,
            "min_height": null,
            "min_width": null,
            "object_fit": null,
            "object_position": null,
            "order": null,
            "overflow": null,
            "overflow_x": null,
            "overflow_y": null,
            "padding": null,
            "right": null,
            "top": null,
            "visibility": null,
            "width": null
          }
        },
        "97493c3402f54b6cbfc1a0b8fecc4f51": {
          "model_module": "@jupyter-widgets/controls",
          "model_name": "ProgressStyleModel",
          "model_module_version": "1.5.0",
          "state": {
            "_model_module": "@jupyter-widgets/controls",
            "_model_module_version": "1.5.0",
            "_model_name": "ProgressStyleModel",
            "_view_count": null,
            "_view_module": "@jupyter-widgets/base",
            "_view_module_version": "1.2.0",
            "_view_name": "StyleView",
            "bar_color": null,
            "description_width": ""
          }
        },
        "6e546bd9d7084f9bab95d7366454e4fe": {
          "model_module": "@jupyter-widgets/base",
          "model_name": "LayoutModel",
          "model_module_version": "1.2.0",
          "state": {
            "_model_module": "@jupyter-widgets/base",
            "_model_module_version": "1.2.0",
            "_model_name": "LayoutModel",
            "_view_count": null,
            "_view_module": "@jupyter-widgets/base",
            "_view_module_version": "1.2.0",
            "_view_name": "LayoutView",
            "align_content": null,
            "align_items": null,
            "align_self": null,
            "border": null,
            "bottom": null,
            "display": null,
            "flex": null,
            "flex_flow": null,
            "grid_area": null,
            "grid_auto_columns": null,
            "grid_auto_flow": null,
            "grid_auto_rows": null,
            "grid_column": null,
            "grid_gap": null,
            "grid_row": null,
            "grid_template_areas": null,
            "grid_template_columns": null,
            "grid_template_rows": null,
            "height": null,
            "justify_content": null,
            "justify_items": null,
            "left": null,
            "margin": null,
            "max_height": null,
            "max_width": null,
            "min_height": null,
            "min_width": null,
            "object_fit": null,
            "object_position": null,
            "order": null,
            "overflow": null,
            "overflow_x": null,
            "overflow_y": null,
            "padding": null,
            "right": null,
            "top": null,
            "visibility": null,
            "width": null
          }
        },
        "3c57970a0d844b85af90a2a107d77be3": {
          "model_module": "@jupyter-widgets/controls",
          "model_name": "DescriptionStyleModel",
          "model_module_version": "1.5.0",
          "state": {
            "_model_module": "@jupyter-widgets/controls",
            "_model_module_version": "1.5.0",
            "_model_name": "DescriptionStyleModel",
            "_view_count": null,
            "_view_module": "@jupyter-widgets/base",
            "_view_module_version": "1.2.0",
            "_view_name": "StyleView",
            "description_width": ""
          }
        },
        "698b0c483eaf43cd8dd71fd7179fc439": {
          "model_module": "@jupyter-widgets/controls",
          "model_name": "HBoxModel",
          "model_module_version": "1.5.0",
          "state": {
            "_dom_classes": [],
            "_model_module": "@jupyter-widgets/controls",
            "_model_module_version": "1.5.0",
            "_model_name": "HBoxModel",
            "_view_count": null,
            "_view_module": "@jupyter-widgets/controls",
            "_view_module_version": "1.5.0",
            "_view_name": "HBoxView",
            "box_style": "",
            "children": [
              "IPY_MODEL_dff8f9725be540beb745a17fc6a203e5",
              "IPY_MODEL_79f8bf798f634b15acdaf29a665e0f4c",
              "IPY_MODEL_9d640ab92a224e2aaf2b7da732c96c82"
            ],
            "layout": "IPY_MODEL_3d859c26a9524c17ad28e96e2d5ae134"
          }
        },
        "dff8f9725be540beb745a17fc6a203e5": {
          "model_module": "@jupyter-widgets/controls",
          "model_name": "HTMLModel",
          "model_module_version": "1.5.0",
          "state": {
            "_dom_classes": [],
            "_model_module": "@jupyter-widgets/controls",
            "_model_module_version": "1.5.0",
            "_model_name": "HTMLModel",
            "_view_count": null,
            "_view_module": "@jupyter-widgets/controls",
            "_view_module_version": "1.5.0",
            "_view_name": "HTMLView",
            "description": "",
            "description_tooltip": null,
            "layout": "IPY_MODEL_854cd42728f3436393fed616d77dacd6",
            "placeholder": "​",
            "style": "IPY_MODEL_85f1686fcacb469eb54ea16026227ac8",
            "value": "100%"
          }
        },
        "79f8bf798f634b15acdaf29a665e0f4c": {
          "model_module": "@jupyter-widgets/controls",
          "model_name": "FloatProgressModel",
          "model_module_version": "1.5.0",
          "state": {
            "_dom_classes": [],
            "_model_module": "@jupyter-widgets/controls",
            "_model_module_version": "1.5.0",
            "_model_name": "FloatProgressModel",
            "_view_count": null,
            "_view_module": "@jupyter-widgets/controls",
            "_view_module_version": "1.5.0",
            "_view_name": "ProgressView",
            "bar_style": "",
            "description": "",
            "description_tooltip": null,
            "layout": "IPY_MODEL_e384bd36da054a7b84444457236bdb96",
            "max": 684,
            "min": 0,
            "orientation": "horizontal",
            "style": "IPY_MODEL_055ee05917914c1c86ae0e1d7610f547",
            "value": 684
          }
        },
        "9d640ab92a224e2aaf2b7da732c96c82": {
          "model_module": "@jupyter-widgets/controls",
          "model_name": "HTMLModel",
          "model_module_version": "1.5.0",
          "state": {
            "_dom_classes": [],
            "_model_module": "@jupyter-widgets/controls",
            "_model_module_version": "1.5.0",
            "_model_name": "HTMLModel",
            "_view_count": null,
            "_view_module": "@jupyter-widgets/controls",
            "_view_module_version": "1.5.0",
            "_view_name": "HTMLView",
            "description": "",
            "description_tooltip": null,
            "layout": "IPY_MODEL_6b066f8ca88d42f9bfe6f4a60935c15f",
            "placeholder": "​",
            "style": "IPY_MODEL_c292f0200d3c4d7d89d8a3f7b2492203",
            "value": " 684/684 [04:52&lt;00:00,  2.67it/s]"
          }
        },
        "3d859c26a9524c17ad28e96e2d5ae134": {
          "model_module": "@jupyter-widgets/base",
          "model_name": "LayoutModel",
          "model_module_version": "1.2.0",
          "state": {
            "_model_module": "@jupyter-widgets/base",
            "_model_module_version": "1.2.0",
            "_model_name": "LayoutModel",
            "_view_count": null,
            "_view_module": "@jupyter-widgets/base",
            "_view_module_version": "1.2.0",
            "_view_name": "LayoutView",
            "align_content": null,
            "align_items": null,
            "align_self": null,
            "border": null,
            "bottom": null,
            "display": null,
            "flex": null,
            "flex_flow": null,
            "grid_area": null,
            "grid_auto_columns": null,
            "grid_auto_flow": null,
            "grid_auto_rows": null,
            "grid_column": null,
            "grid_gap": null,
            "grid_row": null,
            "grid_template_areas": null,
            "grid_template_columns": null,
            "grid_template_rows": null,
            "height": null,
            "justify_content": null,
            "justify_items": null,
            "left": null,
            "margin": null,
            "max_height": null,
            "max_width": null,
            "min_height": null,
            "min_width": null,
            "object_fit": null,
            "object_position": null,
            "order": null,
            "overflow": null,
            "overflow_x": null,
            "overflow_y": null,
            "padding": null,
            "right": null,
            "top": null,
            "visibility": null,
            "width": null
          }
        },
        "854cd42728f3436393fed616d77dacd6": {
          "model_module": "@jupyter-widgets/base",
          "model_name": "LayoutModel",
          "model_module_version": "1.2.0",
          "state": {
            "_model_module": "@jupyter-widgets/base",
            "_model_module_version": "1.2.0",
            "_model_name": "LayoutModel",
            "_view_count": null,
            "_view_module": "@jupyter-widgets/base",
            "_view_module_version": "1.2.0",
            "_view_name": "LayoutView",
            "align_content": null,
            "align_items": null,
            "align_self": null,
            "border": null,
            "bottom": null,
            "display": null,
            "flex": null,
            "flex_flow": null,
            "grid_area": null,
            "grid_auto_columns": null,
            "grid_auto_flow": null,
            "grid_auto_rows": null,
            "grid_column": null,
            "grid_gap": null,
            "grid_row": null,
            "grid_template_areas": null,
            "grid_template_columns": null,
            "grid_template_rows": null,
            "height": null,
            "justify_content": null,
            "justify_items": null,
            "left": null,
            "margin": null,
            "max_height": null,
            "max_width": null,
            "min_height": null,
            "min_width": null,
            "object_fit": null,
            "object_position": null,
            "order": null,
            "overflow": null,
            "overflow_x": null,
            "overflow_y": null,
            "padding": null,
            "right": null,
            "top": null,
            "visibility": null,
            "width": null
          }
        },
        "85f1686fcacb469eb54ea16026227ac8": {
          "model_module": "@jupyter-widgets/controls",
          "model_name": "DescriptionStyleModel",
          "model_module_version": "1.5.0",
          "state": {
            "_model_module": "@jupyter-widgets/controls",
            "_model_module_version": "1.5.0",
            "_model_name": "DescriptionStyleModel",
            "_view_count": null,
            "_view_module": "@jupyter-widgets/base",
            "_view_module_version": "1.2.0",
            "_view_name": "StyleView",
            "description_width": ""
          }
        },
        "e384bd36da054a7b84444457236bdb96": {
          "model_module": "@jupyter-widgets/base",
          "model_name": "LayoutModel",
          "model_module_version": "1.2.0",
          "state": {
            "_model_module": "@jupyter-widgets/base",
            "_model_module_version": "1.2.0",
            "_model_name": "LayoutModel",
            "_view_count": null,
            "_view_module": "@jupyter-widgets/base",
            "_view_module_version": "1.2.0",
            "_view_name": "LayoutView",
            "align_content": null,
            "align_items": null,
            "align_self": null,
            "border": null,
            "bottom": null,
            "display": null,
            "flex": null,
            "flex_flow": null,
            "grid_area": null,
            "grid_auto_columns": null,
            "grid_auto_flow": null,
            "grid_auto_rows": null,
            "grid_column": null,
            "grid_gap": null,
            "grid_row": null,
            "grid_template_areas": null,
            "grid_template_columns": null,
            "grid_template_rows": null,
            "height": null,
            "justify_content": null,
            "justify_items": null,
            "left": null,
            "margin": null,
            "max_height": null,
            "max_width": null,
            "min_height": null,
            "min_width": null,
            "object_fit": null,
            "object_position": null,
            "order": null,
            "overflow": null,
            "overflow_x": null,
            "overflow_y": null,
            "padding": null,
            "right": null,
            "top": null,
            "visibility": null,
            "width": null
          }
        },
        "055ee05917914c1c86ae0e1d7610f547": {
          "model_module": "@jupyter-widgets/controls",
          "model_name": "ProgressStyleModel",
          "model_module_version": "1.5.0",
          "state": {
            "_model_module": "@jupyter-widgets/controls",
            "_model_module_version": "1.5.0",
            "_model_name": "ProgressStyleModel",
            "_view_count": null,
            "_view_module": "@jupyter-widgets/base",
            "_view_module_version": "1.2.0",
            "_view_name": "StyleView",
            "bar_color": null,
            "description_width": ""
          }
        },
        "6b066f8ca88d42f9bfe6f4a60935c15f": {
          "model_module": "@jupyter-widgets/base",
          "model_name": "LayoutModel",
          "model_module_version": "1.2.0",
          "state": {
            "_model_module": "@jupyter-widgets/base",
            "_model_module_version": "1.2.0",
            "_model_name": "LayoutModel",
            "_view_count": null,
            "_view_module": "@jupyter-widgets/base",
            "_view_module_version": "1.2.0",
            "_view_name": "LayoutView",
            "align_content": null,
            "align_items": null,
            "align_self": null,
            "border": null,
            "bottom": null,
            "display": null,
            "flex": null,
            "flex_flow": null,
            "grid_area": null,
            "grid_auto_columns": null,
            "grid_auto_flow": null,
            "grid_auto_rows": null,
            "grid_column": null,
            "grid_gap": null,
            "grid_row": null,
            "grid_template_areas": null,
            "grid_template_columns": null,
            "grid_template_rows": null,
            "height": null,
            "justify_content": null,
            "justify_items": null,
            "left": null,
            "margin": null,
            "max_height": null,
            "max_width": null,
            "min_height": null,
            "min_width": null,
            "object_fit": null,
            "object_position": null,
            "order": null,
            "overflow": null,
            "overflow_x": null,
            "overflow_y": null,
            "padding": null,
            "right": null,
            "top": null,
            "visibility": null,
            "width": null
          }
        },
        "c292f0200d3c4d7d89d8a3f7b2492203": {
          "model_module": "@jupyter-widgets/controls",
          "model_name": "DescriptionStyleModel",
          "model_module_version": "1.5.0",
          "state": {
            "_model_module": "@jupyter-widgets/controls",
            "_model_module_version": "1.5.0",
            "_model_name": "DescriptionStyleModel",
            "_view_count": null,
            "_view_module": "@jupyter-widgets/base",
            "_view_module_version": "1.2.0",
            "_view_name": "StyleView",
            "description_width": ""
          }
        }
      }
    }
  },
  "cells": [
    {
      "cell_type": "markdown",
      "metadata": {
        "id": "view-in-github",
        "colab_type": "text"
      },
      "source": [
        "<a href=\"https://colab.research.google.com/github/sjpark0605/NLP-FYP/blob/main/COMP0029.ipynb\" target=\"_parent\"><img src=\"https://colab.research.google.com/assets/colab-badge.svg\" alt=\"Open In Colab\"/></a>"
      ]
    },
    {
      "cell_type": "markdown",
      "source": [
        "# Section 1: BERT for Food Recipe Named Entity Recognition"
      ],
      "metadata": {
        "id": "LPKoo0gJPwJi"
      }
    },
    {
      "cell_type": "markdown",
      "source": [
        "## 1.1 Data Processing"
      ],
      "metadata": {
        "id": "sz8eorvGZeKR"
      }
    },
    {
      "cell_type": "code",
      "source": [
        "# FLAGS\n",
        "GENERATE_RECIPE_CSV = False"
      ],
      "metadata": {
        "id": "c5xZQivFGQe9"
      },
      "execution_count": null,
      "outputs": []
    },
    {
      "cell_type": "code",
      "source": [
        "# Load the Drive helper and mount\n",
        "from google.colab import drive\n",
        "drive.mount('/content/drive/')"
      ],
      "metadata": {
        "colab": {
          "base_uri": "https://localhost:8080/"
        },
        "id": "B0gHlN8-ZjHg",
        "outputId": "2d097c35-94fd-46fd-add9-ed4e18030372"
      },
      "execution_count": null,
      "outputs": [
        {
          "output_type": "stream",
          "name": "stdout",
          "text": [
            "Drive already mounted at /content/drive/; to attempt to forcibly remount, call drive.mount(\"/content/drive/\", force_remount=True).\n"
          ]
        }
      ]
    },
    {
      "cell_type": "code",
      "source": [
        "%%capture\n",
        "!pip install datasets evaluate transformers[sentencepiece] seqeval accelerate"
      ],
      "metadata": {
        "id": "ZiubTTE6rXvQ"
      },
      "execution_count": null,
      "outputs": []
    },
    {
      "cell_type": "markdown",
      "source": [],
      "metadata": {
        "id": "s7B9hBOoASqx"
      }
    },
    {
      "cell_type": "code",
      "source": [
        "# Imports for Data Processing\n",
        "import glob\n",
        "import csv\n",
        "import pandas as pd\n",
        "import torch\n",
        "from datasets import Dataset, ClassLabel, Sequence, DatasetDict"
      ],
      "metadata": {
        "id": "mdQksinBbX5R"
      },
      "execution_count": null,
      "outputs": []
    },
    {
      "cell_type": "code",
      "source": [
        "device = torch.device('cpu')\n",
        "if torch.cuda.is_available():\n",
        "  device = torch.device('cuda')"
      ],
      "metadata": {
        "id": "2j8Ihfyu5WIx"
      },
      "execution_count": null,
      "outputs": []
    },
    {
      "cell_type": "code",
      "source": [
        "project_dir = '/content/drive/MyDrive/COMP0029/'"
      ],
      "metadata": {
        "id": "Vvdw9_VTgEJn"
      },
      "execution_count": null,
      "outputs": []
    },
    {
      "cell_type": "code",
      "source": [
        "if GENERATE_RECIPE_CSV:\n",
        "  corpus_list = ['r-100', 'r-200', 'r-300']  \n",
        "  for target_corpus in corpus_list:\n",
        "    recipe_files = []\n",
        "    if target_corpus != 'r-300':\n",
        "      recipe_files += glob.glob(project_dir + target_corpus + '/*.list')\n",
        "    else:\n",
        "      recipe_files += glob.glob(project_dir + 'r-100/*.list')\n",
        "      recipe_files += glob.glob(project_dir + 'r-200/*.list')\n",
        "\n",
        "    recipe_ner_data_csv = open(project_dir + target_corpus + '-recipe-ner-data.csv', \"w\", encoding=\"utf8\")\n",
        "    writer = csv.writer(recipe_ner_data_csv)\n",
        "\n",
        "    header = ['Sentence Number', 'Word', 'POS', 'Label']\n",
        "    writer.writerow(header)\n",
        "\n",
        "    sentence_no = 1\n",
        "\n",
        "    for file in recipe_files:\n",
        "      recipe_data = open(file, \"r\", encoding=\"utf8\")\n",
        "      lines = recipe_data.readlines()\n",
        "\n",
        "      for line in lines:\n",
        "        items = line.split(\" \")\n",
        "        word = items[3]\n",
        "        pos = items[4]\n",
        "        label = items[5].replace(\"\\n\", \"\")\n",
        "\n",
        "        row = [\"Sentence_\" + str(sentence_no), word, pos, label]\n",
        "        writer.writerow(row)\n",
        "\n",
        "        if pos == '.':\n",
        "          sentence_no += 1\n",
        "        \n",
        "      recipe_data.close()\n",
        "\n",
        "    recipe_ner_data_csv.close()"
      ],
      "metadata": {
        "id": "27leJpyPa7je"
      },
      "execution_count": null,
      "outputs": []
    },
    {
      "cell_type": "code",
      "source": [
        "# R-100 Dataset\n",
        "df = pd.read_csv(project_dir + 'r-300-recipe-ner-data.csv')\n",
        "pos_list = df['POS'].unique()\n",
        "label_list = sorted(df['Label'].unique())\n",
        "label_list.remove('O')\n",
        "label_list.append('O')\n",
        "\n",
        "grouped = df.groupby('Sentence Number').agg({'Word': list, 'POS': list, 'Label': list}).reset_index()\n",
        "grouped.drop('Sentence Number', axis=1, inplace=True) \n",
        "grouped.rename(columns={\"Word\": \"tokens\", \"POS\": \"pos\", \"Label\": \"ner_tags\"}, inplace=True)\n",
        "\n",
        "dataset = Dataset.from_pandas(grouped)\n",
        "dataset = dataset.cast_column(\"pos\", Sequence(ClassLabel(names=list(pos_list))))\n",
        "dataset = dataset.cast_column(\"ner_tags\", Sequence(ClassLabel(names=list(label_list))))"
      ],
      "metadata": {
        "colab": {
          "base_uri": "https://localhost:8080/",
          "height": 17,
          "referenced_widgets": [
            "7e7a6b4c6dc0486297ff7689068a8d2d",
            "ff3ff4ec73fd47ffa30d8da6634e1243",
            "c3af006459024ad8aa958788fa765e57",
            "c693ceb76ddb4ae984de0e3a00de24f4",
            "ac26217d52ff409798bf3fd34816cc2f",
            "17351b8d3ef949ec9ccbcc2294824839",
            "6a6544a5b9c24beb8b8ad81a6325a5b9",
            "409b00059b0e4f4383ba5ad249e891e6",
            "1359d646023c42dcacee51c8872262f9",
            "67738f3440f046c389a10f350c28c465",
            "6fa2233ccc524084bff811755c5e9b7f",
            "5ef1d9ef49804e4ab00aab466d184f8b",
            "b907df724040491c9de32a8ec7eb0342",
            "8628b1cc88b84ad98952c49b78374556",
            "bdf1734cb8e142049bf3da2e56ceb0c5",
            "4637fde5142d4192bcbb98840b16a921",
            "3b48f4cfd4544cc5bf263306b5f15c80",
            "42351b2880f74e4aba664e05bd2899b5",
            "caf1d58dad8f40378cd4765dd2417a1b",
            "2ceadcd186ae487cb40c60f224c2daa2",
            "942947f1ecd54c3fb0e77fc601db569f",
            "87cf18672ef94a059f942997198322cd"
          ]
        },
        "id": "KsLEb5h3gRAp",
        "outputId": "ff1dac35-eb29-4227-9d15-8a96391caaf2"
      },
      "execution_count": null,
      "outputs": [
        {
          "output_type": "display_data",
          "data": {
            "text/plain": [
              "Casting the dataset:   0%|          | 0/2752 [00:00<?, ? examples/s]"
            ],
            "application/vnd.jupyter.widget-view+json": {
              "version_major": 2,
              "version_minor": 0,
              "model_id": "7e7a6b4c6dc0486297ff7689068a8d2d"
            }
          },
          "metadata": {}
        },
        {
          "output_type": "display_data",
          "data": {
            "text/plain": [
              "Casting the dataset:   0%|          | 0/2752 [00:00<?, ? examples/s]"
            ],
            "application/vnd.jupyter.widget-view+json": {
              "version_major": 2,
              "version_minor": 0,
              "model_id": "5ef1d9ef49804e4ab00aab466d184f8b"
            }
          },
          "metadata": {}
        }
      ]
    },
    {
      "cell_type": "code",
      "source": [
        "dataset = dataset.shuffle()\n",
        "split_dataset = dataset.train_test_split(test_size=0.2)\n",
        "\n",
        "corpus_datasets = DatasetDict({\n",
        "    \"train\": split_dataset[\"train\"],\n",
        "    \"valid\": split_dataset[\"test\"]\n",
        "})"
      ],
      "metadata": {
        "id": "T3r3_uZf7Cx9"
      },
      "execution_count": null,
      "outputs": []
    },
    {
      "cell_type": "code",
      "source": [
        "ner_feature = corpus_datasets[\"train\"].features[\"ner_tags\"]\n",
        "label_names = ner_feature.feature.names\n",
        "pure_label_names = list(set(label.replace(\"-B\", \"\").replace(\"-I\", \"\") for label in label_names))"
      ],
      "metadata": {
        "id": "s6XXnt6g6dFj"
      },
      "execution_count": null,
      "outputs": []
    },
    {
      "cell_type": "code",
      "source": [
        "from transformers import AutoTokenizer\n",
        "\n",
        "model_checkpoint = \"bert-base-cased\"\n",
        "tokenizer = AutoTokenizer.from_pretrained(model_checkpoint)"
      ],
      "metadata": {
        "id": "4y4HJg0WQeRZ"
      },
      "execution_count": null,
      "outputs": []
    },
    {
      "cell_type": "code",
      "source": [
        "inputs = tokenizer(corpus_datasets[\"train\"][0][\"tokens\"], is_split_into_words=True, truncation=True, max_length=75)"
      ],
      "metadata": {
        "id": "4YpLxP2w_NxA"
      },
      "execution_count": null,
      "outputs": []
    },
    {
      "cell_type": "code",
      "source": [
        "def align_labels_with_tokens(labels, word_ids):\n",
        "  new_labels = []\n",
        "  current_word = None\n",
        "  for word_id in word_ids:\n",
        "    if word_id != current_word:\n",
        "      # Start of a new word!\n",
        "      current_word = word_id\n",
        "      label = -100 if word_id is None else labels[word_id]\n",
        "      new_labels.append(label)\n",
        "    elif word_id is None:\n",
        "      # Special token\n",
        "      new_labels.append(-100)\n",
        "    else:\n",
        "      # Same word as previous token\n",
        "      label = labels[word_id]\n",
        "      # If the label is XXX-B we change it to XXX-I\n",
        "      if label % 2 == 0 and label != 20:\n",
        "        new_labels.append(-100)\n",
        "        # label += 1\n",
        "        # new_labels.append(label)\n",
        "\n",
        "  return new_labels"
      ],
      "metadata": {
        "id": "aDTLtqdnAk2_"
      },
      "execution_count": null,
      "outputs": []
    },
    {
      "cell_type": "code",
      "source": [
        "def tokenize_and_align_labels(examples):\n",
        "  tokenized_inputs = tokenizer(\n",
        "      examples[\"tokens\"], truncation=True, is_split_into_words=True, max_length=512\n",
        "  )\n",
        "  all_labels = examples[\"ner_tags\"]\n",
        "  new_labels = []\n",
        "  for i, labels in enumerate(all_labels):\n",
        "    word_ids = tokenized_inputs.word_ids(i)\n",
        "    new_labels.append(align_labels_with_tokens(labels, word_ids))\n",
        "\n",
        "  tokenized_inputs[\"labels\"] = new_labels\n",
        "  return tokenized_inputs"
      ],
      "metadata": {
        "id": "pC_TfbAMCxdD"
      },
      "execution_count": null,
      "outputs": []
    },
    {
      "cell_type": "code",
      "source": [
        "tokenized_datasets = corpus_datasets.map(\n",
        "  tokenize_and_align_labels,\n",
        "  batched=True,\n",
        "  remove_columns=corpus_datasets[\"train\"].column_names,\n",
        ")"
      ],
      "metadata": {
        "colab": {
          "base_uri": "https://localhost:8080/",
          "height": 17,
          "referenced_widgets": [
            "1fc76f84cd7c47fd8e76d4522ab89c5c",
            "3cfee73d06d8432d9b73b565b03e7541",
            "6e03593b423142ccb04276d13e982566",
            "e37be28129404fd2a9f53e256bdb093e",
            "0f3f4b451f4d439589121aed29978e54",
            "ef771842aac649b48741c30dec1fee3b",
            "2ee2fde0378847ab9ee4f73d01afc174",
            "0dede1c72ec04065ab646e8b16752e63",
            "f4d2d5729dc24aa39bc4c78889cf490d",
            "bada83b0e7a849e7ab5243809dcce2f0",
            "e3f80140dea84e4bb8b2702897c72d29",
            "af051b75293544b999d71a28f7877fa1",
            "0cea11a9fdef44e7b68e6271dd8c03b4",
            "d217dd594d72481cbe31623af50d06b1",
            "911804f79b3f4085961c2be39a9d20ab",
            "5401bb8335154633afb492e7611ea197",
            "3a239c24c3e543debaf20a5b517abac6",
            "1c366bd7417a448889c3fd0a31285314",
            "7dd9e93cd7f249c483e6530e42e26d29",
            "65a5f45898284217840bd7660270bb3b",
            "9a42adcc88294a95b6ddf7edc7bd1aa8",
            "1b181ed417f04960b4f26ecd3d2cd44e"
          ]
        },
        "id": "gQSZzQImDbRn",
        "outputId": "6163286a-c54e-493d-853f-b067fdd8e5fa"
      },
      "execution_count": null,
      "outputs": [
        {
          "output_type": "display_data",
          "data": {
            "text/plain": [
              "Map:   0%|          | 0/2201 [00:00<?, ? examples/s]"
            ],
            "application/vnd.jupyter.widget-view+json": {
              "version_major": 2,
              "version_minor": 0,
              "model_id": "1fc76f84cd7c47fd8e76d4522ab89c5c"
            }
          },
          "metadata": {}
        },
        {
          "output_type": "display_data",
          "data": {
            "text/plain": [
              "Map:   0%|          | 0/551 [00:00<?, ? examples/s]"
            ],
            "application/vnd.jupyter.widget-view+json": {
              "version_major": 2,
              "version_minor": 0,
              "model_id": "af051b75293544b999d71a28f7877fa1"
            }
          },
          "metadata": {}
        }
      ]
    },
    {
      "cell_type": "code",
      "source": [
        "from transformers import DataCollatorForTokenClassification\n",
        "\n",
        "data_collator = DataCollatorForTokenClassification(tokenizer=tokenizer)"
      ],
      "metadata": {
        "id": "MZi6M7EWFGvz"
      },
      "execution_count": null,
      "outputs": []
    },
    {
      "cell_type": "code",
      "source": [
        "import evaluate\n",
        "\n",
        "metric = evaluate.load(\"seqeval\")"
      ],
      "metadata": {
        "id": "QybwzLd9FnO0"
      },
      "execution_count": null,
      "outputs": []
    },
    {
      "cell_type": "code",
      "source": [
        "id2label = {i: label for i, label in enumerate(label_names)}\n",
        "label2id = {v: k for k, v in id2label.items()}"
      ],
      "metadata": {
        "id": "F_ULJOSnGugU"
      },
      "execution_count": null,
      "outputs": []
    },
    {
      "cell_type": "code",
      "source": [
        "from torch.utils.data import DataLoader\n",
        "\n",
        "train_dataloader = DataLoader(\n",
        "  tokenized_datasets[\"train\"],\n",
        "  shuffle=True,\n",
        "  collate_fn=data_collator,\n",
        "  batch_size=32,\n",
        ")\n",
        "eval_dataloader = DataLoader(\n",
        "  tokenized_datasets[\"valid\"], \n",
        "  collate_fn=data_collator, \n",
        "  batch_size=32,\n",
        ")"
      ],
      "metadata": {
        "id": "4T5pophiX7Zd"
      },
      "execution_count": null,
      "outputs": []
    },
    {
      "cell_type": "code",
      "source": [
        "from transformers import AutoModelForTokenClassification\n",
        "\n",
        "ner_model = AutoModelForTokenClassification.from_pretrained(\n",
        "  model_checkpoint,\n",
        "  id2label=id2label,\n",
        "  label2id=label2id,\n",
        ")"
      ],
      "metadata": {
        "colab": {
          "base_uri": "https://localhost:8080/"
        },
        "id": "obQ2bMlXYY3G",
        "outputId": "1a54f77a-fdc7-4f13-dc76-bbec5bc6221e"
      },
      "execution_count": null,
      "outputs": [
        {
          "output_type": "stream",
          "name": "stderr",
          "text": [
            "Some weights of the model checkpoint at bert-base-cased were not used when initializing BertForTokenClassification: ['cls.predictions.bias', 'cls.seq_relationship.bias', 'cls.predictions.transform.LayerNorm.bias', 'cls.predictions.transform.LayerNorm.weight', 'cls.predictions.transform.dense.weight', 'cls.seq_relationship.weight', 'cls.predictions.transform.dense.bias', 'cls.predictions.decoder.weight']\n",
            "- This IS expected if you are initializing BertForTokenClassification from the checkpoint of a model trained on another task or with another architecture (e.g. initializing a BertForSequenceClassification model from a BertForPreTraining model).\n",
            "- This IS NOT expected if you are initializing BertForTokenClassification from the checkpoint of a model that you expect to be exactly identical (initializing a BertForSequenceClassification model from a BertForSequenceClassification model).\n",
            "Some weights of BertForTokenClassification were not initialized from the model checkpoint at bert-base-cased and are newly initialized: ['classifier.bias', 'classifier.weight']\n",
            "You should probably TRAIN this model on a down-stream task to be able to use it for predictions and inference.\n"
          ]
        }
      ]
    },
    {
      "cell_type": "code",
      "source": [
        "from torch.optim import AdamW\n",
        "\n",
        "optimizer = AdamW(ner_model.parameters(), lr=3e-5, eps=1e-8, weight_decay=0.1)"
      ],
      "metadata": {
        "id": "7qJ1cuxlYrPa"
      },
      "execution_count": null,
      "outputs": []
    },
    {
      "cell_type": "code",
      "source": [
        "from accelerate import Accelerator\n",
        "\n",
        "accelerator = Accelerator()\n",
        "ner_model, optimizer, train_dataloader, eval_dataloader = accelerator.prepare(\n",
        "  ner_model, optimizer, train_dataloader, eval_dataloader\n",
        ")"
      ],
      "metadata": {
        "id": "Tz_NWjrxYtYb"
      },
      "execution_count": null,
      "outputs": []
    },
    {
      "cell_type": "code",
      "source": [
        "print(len(train_dataloader))"
      ],
      "metadata": {
        "colab": {
          "base_uri": "https://localhost:8080/"
        },
        "id": "riCAwqZWWaXB",
        "outputId": "45f02153-7f58-412b-84fc-e8e2ddecdd04"
      },
      "execution_count": null,
      "outputs": [
        {
          "output_type": "stream",
          "name": "stdout",
          "text": [
            "69\n"
          ]
        }
      ]
    },
    {
      "cell_type": "code",
      "source": [
        "from transformers import get_scheduler\n",
        "\n",
        "num_train_epochs = 20\n",
        "num_update_steps_per_epoch = len(train_dataloader)\n",
        "num_training_steps = num_train_epochs * num_update_steps_per_epoch\n",
        "\n",
        "lr_scheduler = get_scheduler(\n",
        "  \"linear\",\n",
        "  optimizer=optimizer,\n",
        "  num_warmup_steps=0,\n",
        "  num_training_steps=num_training_steps,\n",
        ")"
      ],
      "metadata": {
        "id": "Wk_YdXDFY8J5"
      },
      "execution_count": null,
      "outputs": []
    },
    {
      "cell_type": "code",
      "source": [
        "def postprocess(predictions, labels):\n",
        "    predictions = predictions.detach().cpu().clone().numpy()\n",
        "    labels = labels.detach().cpu().clone().numpy()\n",
        "\n",
        "    # Remove ignored index (special tokens) and convert to labels\n",
        "    true_labels = [[label_names[l] for l in label if l != -100] for label in labels]\n",
        "    true_predictions = [\n",
        "        [label_names[p] for (p, l) in zip(prediction, label) if l != -100]\n",
        "        for prediction, label in zip(predictions, labels)\n",
        "    ]\n",
        "    return true_predictions, true_labels"
      ],
      "metadata": {
        "id": "TeXmiiv6ZF2r"
      },
      "execution_count": null,
      "outputs": []
    },
    {
      "cell_type": "code",
      "source": [
        "print(df['Label'].value_counts())"
      ],
      "metadata": {
        "colab": {
          "base_uri": "https://localhost:8080/"
        },
        "id": "pu5zFOkn5AQi",
        "outputId": "fd7e0e17-cb93-474d-f93d-4bfec85aacdc"
      },
      "execution_count": null,
      "outputs": [
        {
          "output_type": "stream",
          "name": "stdout",
          "text": [
            "O        18569\n",
            "Ac-B      4956\n",
            "F-B       4850\n",
            "T-B       1860\n",
            "F-I       1225\n",
            "Sf-B      1033\n",
            "D-I       1014\n",
            "St-B       868\n",
            "Ac-I       671\n",
            "D-B        575\n",
            "T-I        554\n",
            "Q-B        494\n",
            "St-I       386\n",
            "Sf-I       310\n",
            "Af-B       265\n",
            "Q-I        175\n",
            "Ac2-B      173\n",
            "Ac2-I      145\n",
            "Af-I        77\n",
            "At-B        14\n",
            "At-I        10\n",
            "Name: Label, dtype: int64\n"
          ]
        }
      ]
    },
    {
      "cell_type": "code",
      "source": [
        "def obtain_weights():\n",
        "  weights = []\n",
        "\n",
        "  for label in label_names:\n",
        "    weights.append(float(1 / df['Label'].value_counts()[label]))\n",
        "  return torch.tensor(weights).to(torch.device('cuda'))\n"
      ],
      "metadata": {
        "id": "jA4K8G4s5S9x"
      },
      "execution_count": null,
      "outputs": []
    },
    {
      "cell_type": "code",
      "source": [
        "from tqdm.auto import tqdm\n",
        "from torch import nn\n",
        "import torch\n",
        "\n",
        "progress_bar = tqdm(range(num_training_steps))\n",
        "# loss_fct = nn.CrossEntropyLoss(weight=obtain_weights())\n",
        "\n",
        "for epoch in range(num_train_epochs):\n",
        "    \n",
        "    # Training\n",
        "    train_loss_val = 0\n",
        "\n",
        "    ner_model.train()\n",
        "    for batch in train_dataloader:\n",
        "        labels = batch.get(\"labels\")\n",
        "        outputs = ner_model(**batch)\n",
        "\n",
        "        logits = outputs.get(\"logits\")\n",
        "        loss = outputs.loss\n",
        "\n",
        "        train_loss_val += loss.item()\n",
        "\n",
        "        accelerator.backward(loss)\n",
        "\n",
        "        optimizer.step()\n",
        "        lr_scheduler.step()\n",
        "        optimizer.zero_grad()\n",
        "        progress_bar.update(1)\n",
        "\n",
        "    print(f\"Training Loss: {train_loss_val / len(train_dataloader)}\")\n",
        "\n",
        "    # Evaluation\n",
        "    eval_loss_val = 0\n",
        "\n",
        "    ner_model.eval()\n",
        "    for batch in eval_dataloader:\n",
        "        with torch.no_grad():\n",
        "            outputs = ner_model(**batch)\n",
        "            \n",
        "        eval_loss_val += outputs.get(\"loss\").item()\n",
        "\n",
        "        predictions = outputs.logits.argmax(dim=-1)\n",
        "        labels = batch[\"labels\"]\n",
        "\n",
        "        # Necessary to pad predictions and labels for being gathered\n",
        "        predictions = accelerator.pad_across_processes(predictions, dim=1, pad_index=-100)\n",
        "        labels = accelerator.pad_across_processes(labels, dim=1, pad_index=-100)\n",
        "\n",
        "        predictions_gathered = accelerator.gather(predictions)\n",
        "        labels_gathered = accelerator.gather(labels)\n",
        "\n",
        "        true_predictions, true_labels = postprocess(predictions_gathered, labels_gathered)\n",
        "        metric.add_batch(predictions=true_predictions, references=true_labels)\n",
        "\n",
        "\n",
        "    print(f\"Validation Loss: {eval_loss_val / len(eval_dataloader)}\")\n",
        "\n",
        "    results = metric.compute(suffix=True)\n",
        "    print(\n",
        "        f\"epoch {epoch}:\",\n",
        "        {\n",
        "            f\"overall_{key}\": results[f\"overall_{key}\"]\n",
        "            for key in [\"precision\", \"recall\", \"f1\", \"accuracy\"]\n",
        "        },\n",
        "        \"\\n\"\n",
        "    )"
      ],
      "metadata": {
        "colab": {
          "base_uri": "https://localhost:8080/",
          "height": 1000,
          "referenced_widgets": [
            "c586d9ade6664de4a85bdf9d290d799e",
            "df4bcd1ed7444cef895d10e5618acf1b",
            "f0d9728a324e4c44bc3e03efc38c624f",
            "732b8653ed4f4914be44ebe167e28825",
            "2ea3efe70f354f9fb8eb6bc0cf4dd13b",
            "48c76806dd5f4bfc96d76f6bc6f6ea4f",
            "b8e5c8fb8ff546818074d1996e131aa3",
            "70bb6eb5a2d74d3995fbff110a9d90cc",
            "fd335e8a54d84d21a08fb4a58ff35275",
            "bbdb9b652fe347b8b347909d2a97a8db",
            "ce5996344e5e4ec4bc4219eb16b12f41"
          ]
        },
        "id": "mmc8mLOyZJNQ",
        "outputId": "e3b6a1fe-bb1e-420a-ff31-86ba022a8903"
      },
      "execution_count": null,
      "outputs": [
        {
          "output_type": "display_data",
          "data": {
            "text/plain": [
              "  0%|          | 0/1380 [00:00<?, ?it/s]"
            ],
            "application/vnd.jupyter.widget-view+json": {
              "version_major": 2,
              "version_minor": 0,
              "model_id": "c586d9ade6664de4a85bdf9d290d799e"
            }
          },
          "metadata": {}
        },
        {
          "output_type": "stream",
          "name": "stderr",
          "text": [
            "You're using a BertTokenizerFast tokenizer. Please note that with a fast tokenizer, using the `__call__` method is faster than using a method to encode the text followed by a call to the `pad` method to get a padded encoding.\n"
          ]
        },
        {
          "output_type": "stream",
          "name": "stdout",
          "text": [
            "Training Loss: 1.2482141765995303\n",
            "Validation Loss: 0.6984691106610827\n"
          ]
        },
        {
          "output_type": "stream",
          "name": "stderr",
          "text": [
            "/usr/local/lib/python3.8/dist-packages/seqeval/metrics/v1.py:57: UndefinedMetricWarning: Precision and F-score are ill-defined and being set to 0.0 in labels with no predicted samples. Use `zero_division` parameter to control this behavior.\n",
            "  _warn_prf(average, modifier, msg_start, len(result))\n"
          ]
        },
        {
          "output_type": "stream",
          "name": "stdout",
          "text": [
            "epoch 0: {'overall_precision': 0.71724818959842, 'overall_recall': 0.7312080536912752, 'overall_f1': 0.7241608507809902, 'overall_accuracy': 0.8107631828656635} \n",
            "\n",
            "Training Loss: 0.6273804725944132\n",
            "Validation Loss: 0.5722763902611203\n",
            "epoch 1: {'overall_precision': 0.7633175994605529, 'overall_recall': 0.7597315436241611, 'overall_f1': 0.7615203498150016, 'overall_accuracy': 0.83529890199268} \n",
            "\n",
            "Training Loss: 0.4949020168919494\n",
            "Validation Loss: 0.5154689368274477\n",
            "epoch 2: {'overall_precision': 0.7762982689747004, 'overall_recall': 0.7825503355704698, 'overall_f1': 0.7794117647058825, 'overall_accuracy': 0.8456011928968415} \n",
            "\n",
            "Training Loss: 0.414391718480898\n",
            "Validation Loss: 0.49143221808804405\n",
            "epoch 3: {'overall_precision': 0.7802600866955652, 'overall_recall': 0.785234899328859, 'overall_f1': 0.78273958855996, 'overall_accuracy': 0.8485834350006778} \n",
            "\n",
            "Training Loss: 0.3417281940363456\n",
            "Validation Loss: 0.49222788876957363\n",
            "epoch 4: {'overall_precision': 0.7760078023407022, 'overall_recall': 0.8010067114093959, 'overall_f1': 0.7883091149273448, 'overall_accuracy': 0.8522434594008405} \n",
            "\n",
            "Training Loss: 0.27822702799154364\n",
            "Validation Loss: 0.5207920223474503\n",
            "epoch 5: {'overall_precision': 0.7845195145949492, 'overall_recall': 0.8026845637583893, 'overall_f1': 0.7934980925526622, 'overall_accuracy': 0.8580723871492476} \n",
            "\n",
            "Training Loss: 0.23452582555836526\n",
            "Validation Loss: 0.4997473690244887\n",
            "epoch 6: {'overall_precision': 0.7781036168132942, 'overall_recall': 0.8013422818791947, 'overall_f1': 0.7895519920648041, 'overall_accuracy': 0.8586146129863088} \n",
            "\n",
            "Training Loss: 0.19690276963123376\n",
            "Validation Loss: 0.5661089834239748\n",
            "epoch 7: {'overall_precision': 0.7850619699934769, 'overall_recall': 0.8077181208053691, 'overall_f1': 0.7962289116771418, 'overall_accuracy': 0.8618679680086756} \n",
            "\n",
            "Training Loss: 0.17079209849454355\n",
            "Validation Loss: 0.5502054923110538\n",
            "epoch 8: {'overall_precision': 0.7962163956189844, 'overall_recall': 0.8050335570469799, 'overall_f1': 0.8006007008176206, 'overall_accuracy': 0.8628168632235326} \n",
            "\n",
            "Training Loss: 0.14516187869552252\n",
            "Validation Loss: 0.5930488920874066\n",
            "epoch 9: {'overall_precision': 0.7914028657114295, 'overall_recall': 0.7969798657718121, 'overall_f1': 0.7941815749874603, 'overall_accuracy': 0.8628168632235326} \n",
            "\n",
            "Training Loss: 0.12551364270241364\n",
            "Validation Loss: 0.548196491267946\n",
            "epoch 10: {'overall_precision': 0.7948043406774088, 'overall_recall': 0.8110738255033557, 'overall_f1': 0.8028566683275203, 'overall_accuracy': 0.862545750305002} \n",
            "\n",
            "Training Loss: 0.11168136917378592\n",
            "Validation Loss: 0.594748424159156\n",
            "epoch 11: {'overall_precision': 0.7987295218990305, 'overall_recall': 0.8016778523489932, 'overall_f1': 0.8002009713615809, 'overall_accuracy': 0.865392435949573} \n",
            "\n",
            "Training Loss: 0.09706934476676195\n",
            "Validation Loss: 0.6353222164842818\n",
            "epoch 12: {'overall_precision': 0.800198478332782, 'overall_recall': 0.811744966442953, 'overall_f1': 0.8059303681492588, 'overall_accuracy': 0.8683746780534093} \n",
            "\n",
            "Training Loss: 0.08807215593971204\n",
            "Validation Loss: 0.6156363487243652\n",
            "epoch 13: {'overall_precision': 0.7967051070840198, 'overall_recall': 0.8114093959731543, 'overall_f1': 0.8039900249376557, 'overall_accuracy': 0.865392435949573} \n",
            "\n",
            "Training Loss: 0.07784344698639883\n",
            "Validation Loss: 0.6315063122246001\n",
            "epoch 14: {'overall_precision': 0.7994061365885846, 'overall_recall': 0.8130872483221476, 'overall_f1': 0.8061886541340875, 'overall_accuracy': 0.8685102345126745} \n",
            "\n",
            "Training Loss: 0.07099319580078557\n",
            "Validation Loss: 0.6677757716841168\n",
            "epoch 15: {'overall_precision': 0.7927986906710311, 'overall_recall': 0.812751677852349, 'overall_f1': 0.8026512013256006, 'overall_accuracy': 0.8670191134607564} \n",
            "\n",
            "Training Loss: 0.06470766366607901\n",
            "Validation Loss: 0.67347295416726\n",
            "epoch 16: {'overall_precision': 0.796828543111992, 'overall_recall': 0.8093959731543624, 'overall_f1': 0.8030630930580989, 'overall_accuracy': 0.8667480005422258} \n",
            "\n",
            "Training Loss: 0.06044227594806664\n",
            "Validation Loss: 0.68507738576995\n",
            "epoch 17: {'overall_precision': 0.7922546767312111, 'overall_recall': 0.8100671140939597, 'overall_f1': 0.8010618881699021, 'overall_accuracy': 0.8666124440829606} \n",
            "\n",
            "Training Loss: 0.05844740186264549\n",
            "Validation Loss: 0.6956558426221212\n",
            "epoch 18: {'overall_precision': 0.7994031830238727, 'overall_recall': 0.8090604026845638, 'overall_f1': 0.804202801867912, 'overall_accuracy': 0.868239121594144} \n",
            "\n",
            "Training Loss: 0.05625480440431747\n",
            "Validation Loss: 0.6955384314060211\n",
            "epoch 19: {'overall_precision': 0.7974892632969938, 'overall_recall': 0.8100671140939597, 'overall_f1': 0.8037289828533378, 'overall_accuracy': 0.8676968957570829} \n",
            "\n"
          ]
        }
      ]
    },
    {
      "cell_type": "code",
      "source": [
        "# Evaluation Metric of Final Iteration\n",
        "for label in pure_label_names:\n",
        "    if label != \"O\" and label != \"At\":\n",
        "      print(\n",
        "          f\"{label}:\",\n",
        "          {\n",
        "              key: results[label][key]\n",
        "              for key in [\"precision\", \"recall\", \"f1\"]\n",
        "          },\n",
        "      )"
      ],
      "metadata": {
        "colab": {
          "base_uri": "https://localhost:8080/"
        },
        "id": "HrAOfTozB9rV",
        "outputId": "3e98fd31-67e8-424e-988c-ac14cfe39f7a"
      },
      "execution_count": null,
      "outputs": [
        {
          "output_type": "stream",
          "name": "stdout",
          "text": [
            "Q: {'precision': 0.5833333333333334, 'recall': 0.7078651685393258, 'f1': 0.6395939086294417}\n",
            "Ac2: {'precision': 0.3269230769230769, 'recall': 0.4722222222222222, 'f1': 0.38636363636363635}\n",
            "Af: {'precision': 0.38636363636363635, 'recall': 0.2982456140350877, 'f1': 0.33663366336633666}\n",
            "Ac: {'precision': 0.8856848609680742, 'recall': 0.8775510204081632, 'f1': 0.8815991799077396}\n",
            "St: {'precision': 0.7877094972067039, 'recall': 0.8011363636363636, 'f1': 0.7943661971830986}\n",
            "D: {'precision': 0.7350427350427351, 'recall': 0.8037383177570093, 'f1': 0.7678571428571429}\n",
            "T: {'precision': 0.8403361344537815, 'recall': 0.8403361344537815, 'f1': 0.8403361344537815}\n",
            "F: {'precision': 0.8206686930091185, 'recall': 0.8376421923474664, 'f1': 0.8290685772773797}\n",
            "Sf: {'precision': 0.5639810426540285, 'recall': 0.5721153846153846, 'f1': 0.568019093078759}\n"
          ]
        }
      ]
    },
    {
      "cell_type": "markdown",
      "source": [
        "# Section 2: BERT for Food Recipe Edge Classification"
      ],
      "metadata": {
        "id": "VG2qoOi_P3Sf"
      }
    },
    {
      "cell_type": "markdown",
      "source": [
        "## 2.1 Data Processing"
      ],
      "metadata": {
        "id": "X3KzBTtMEJGx"
      }
    },
    {
      "cell_type": "markdown",
      "source": [
        "**Structure of List Files**:\n",
        "`Step, Sentence, Char, Word, POS, Entity`\n",
        "\n",
        "**Structure of Flow Files**:\n",
        "`Step, Sentence, Char, Label, Step, Sentence, Char`"
      ],
      "metadata": {
        "id": "oP639eal1ePM"
      }
    },
    {
      "cell_type": "code",
      "source": [
        "import numpy as np"
      ],
      "metadata": {
        "id": "QbhkKNYsrZgR"
      },
      "execution_count": null,
      "outputs": []
    },
    {
      "cell_type": "code",
      "source": [
        "def construct_key(items):\n",
        "  return items[0] + \";\" + items[1] + \";\" + items[2]"
      ],
      "metadata": {
        "id": "jkG5B3bOTFow"
      },
      "execution_count": null,
      "outputs": []
    },
    {
      "cell_type": "code",
      "source": [
        "def construct_word_dict(ner_lines):\n",
        "  word_dict = {}\n",
        "\n",
        "  for line in ner_lines:\n",
        "    items = line.split(\" \")\n",
        "    items[5] = items[5].replace(\"\\n\", \"\")\n",
        "\n",
        "    key = construct_key(items[:3]) \n",
        "    word = items[3]\n",
        "\n",
        "    word_dict[key] = word\n",
        "  \n",
        "  return word_dict"
      ],
      "metadata": {
        "id": "5isj3IA8Ir9K"
      },
      "execution_count": null,
      "outputs": []
    },
    {
      "cell_type": "code",
      "source": [
        "def construct_ner_dict(ner_lines):\n",
        "  ner_dict = {}\n",
        "\n",
        "  for line in ner_lines:\n",
        "    items = line.split(\" \")\n",
        "    items[5] = items[5].replace(\"\\n\", \"\")\n",
        "\n",
        "    key = construct_key(items[:3]) \n",
        "    ner_tag = items[5]\n",
        "\n",
        "    ner_dict[key] = ner_tag\n",
        "  \n",
        "  return ner_dict"
      ],
      "metadata": {
        "id": "HS80TTV6nELi"
      },
      "execution_count": null,
      "outputs": []
    },
    {
      "cell_type": "code",
      "source": [
        "def append_relation_set(flow_lines, ner_dict, relation_set):\n",
        "  for line in flow_lines:\n",
        "    items = line.split(\" \")\n",
        "    items[6] = items[6].replace(\"\\n\", \"\")\n",
        "\n",
        "    source_key = construct_key(items[:3])\n",
        "    dest_key = construct_key(items[4:])\n",
        "\n",
        "    relation = ner_dict[source_key] + \"->\" + ner_dict[dest_key]\n",
        "\n",
        "    relation_set.add(relation)"
      ],
      "metadata": {
        "id": "TrLQiIA0ngHh"
      },
      "execution_count": null,
      "outputs": []
    },
    {
      "cell_type": "code",
      "source": [
        "def construct_visited_dict(flow_lines):\n",
        "  visited_dict = {}\n",
        "  \n",
        "  for line in flow_lines:\n",
        "    items = line.split(\" \")\n",
        "    items[6] = items[6].replace(\"\\n\", \"\")\n",
        "\n",
        "    source_key = construct_key(items[:3])\n",
        "    dest_key = construct_key(items[4:])\n",
        "\n",
        "    visited_dict[source_key + '->' + dest_key] = items[3]\n",
        "\n",
        "  return visited_dict"
      ],
      "metadata": {
        "id": "aFU_TvEkJRZh"
      },
      "execution_count": null,
      "outputs": []
    },
    {
      "cell_type": "code",
      "source": [
        "def construct_sentence(ner_lines, position):\n",
        "  constructed = False\n",
        "  first_word = True\n",
        "\n",
        "  sentence = \"\"\n",
        "\n",
        "  for line in ner_lines:\n",
        "    items = line.split(\" \")\n",
        "    if position[0] == items[0] and position[1] == items[1]:\n",
        "      constructed = True\n",
        "\n",
        "      if not first_word:\n",
        "        sentence += \" \"\n",
        "      else:\n",
        "        first_word = False\n",
        "\n",
        "      sentence += items[3]\n",
        "\n",
        "    elif constructed:\n",
        "      break\n",
        "\n",
        "  return sentence"
      ],
      "metadata": {
        "id": "FB5V_2RKJ3CY"
      },
      "execution_count": null,
      "outputs": []
    },
    {
      "cell_type": "code",
      "source": [
        "def compute_potential_pairs(ner_lines, ner_dict, relation_set):\n",
        "  positions = []\n",
        "\n",
        "  for line in ner_lines:\n",
        "    items = line.split(\" \")\n",
        "    label = items[5].replace(\"\\n\", \"\")\n",
        "\n",
        "    if \"-I\" not in label and label != \"O\":\n",
        "      position = (items[0], items[1], items[2])\n",
        "      positions.append(position)\n",
        "\n",
        "  pairs = []\n",
        "  for i in range(len(positions)):\n",
        "    for j in range(len(positions)):\n",
        "      if i != j:\n",
        "        source_key = construct_key(positions[i])\n",
        "        dest_key = construct_key(positions[j])\n",
        "\n",
        "        source_ner = ner_dict[source_key]\n",
        "        dest_ner = ner_dict[dest_key]\n",
        "\n",
        "        potential_ner_pair = source_ner + \"->\" + dest_ner\n",
        "\n",
        "        if potential_ner_pair in relation_set:\n",
        "          pairs.append([positions[i], positions[j]])\n",
        "\n",
        "  return pairs"
      ],
      "metadata": {
        "id": "Vk2FUekBLdvF"
      },
      "execution_count": null,
      "outputs": []
    },
    {
      "cell_type": "code",
      "source": [
        "def append_word_pairs(pairs, word_dict, word_pairs):\n",
        "  for pair in pairs:\n",
        "    source_key = construct_key(pair[0])\n",
        "    dest_key = construct_key(pair[1])\n",
        "    word_pairs.append(word_dict[source_key] + \" \" + word_dict[dest_key])"
      ],
      "metadata": {
        "id": "AiAqsPoiS4k7"
      },
      "execution_count": null,
      "outputs": []
    },
    {
      "cell_type": "code",
      "source": [
        "def append_sentence_pairs(pairs, ner_lines, sentence_pairs):\n",
        "  for pair in pairs:\n",
        "    source_position = (pair[0][0], pair[0][1])\n",
        "    dest_position = (pair[1][0], pair[1][1])\n",
        "\n",
        "    sentence = \"\"\n",
        "\n",
        "    if source_position == dest_position:\n",
        "      sentence += construct_sentence(ner_lines, source_position)\n",
        "    else:\n",
        "      sentence += construct_sentence(ner_lines, source_position)\n",
        "      sentence += \" \"\n",
        "      sentence += construct_sentence(ner_lines, dest_position)\n",
        "\n",
        "    sentence_pairs.append(sentence)"
      ],
      "metadata": {
        "id": "V14HdMEvU_TL"
      },
      "execution_count": null,
      "outputs": []
    },
    {
      "cell_type": "code",
      "source": [
        "def append_labels(pairs, visited_dict, labels):\n",
        "  for pair in pairs:\n",
        "    source_key = construct_key(pair[0])\n",
        "    dest_key = construct_key(pair[1])\n",
        "    key = source_key + \"->\" + dest_key\n",
        "\n",
        "    if key in visited_dict:\n",
        "      labels.append(visited_dict[key])\n",
        "    else:\n",
        "      labels.append('x')"
      ],
      "metadata": {
        "id": "w863D0eRZd8n"
      },
      "execution_count": null,
      "outputs": []
    },
    {
      "cell_type": "code",
      "source": [
        "def construct_df(word_pairs, sentence_pairs, labels):\n",
        "  np_word_pairs = np.array(word_pairs)\n",
        "  np_sentence_pairs = np.array(sentence_pairs)\n",
        "  np_labels = np.array(labels)\n",
        "\n",
        "  data_matrix = np.column_stack((np_word_pairs, np_sentence_pairs, np_labels))\n",
        "\n",
        "  df = pd.DataFrame(data_matrix, columns=['Word Pairs', 'Sentence Pairs', 'Label'])\n",
        "\n",
        "  return df\n"
      ],
      "metadata": {
        "id": "RXQXq7Wnjx5X"
      },
      "execution_count": null,
      "outputs": []
    },
    {
      "cell_type": "code",
      "source": [
        "def construct_relation_set(target_corpus):\n",
        "  relation_set = set()\n",
        "\n",
        "  recipe_files = glob.glob(project_dir + target_corpus + '/*.flow')\n",
        "\n",
        "  for file in recipe_files:\n",
        "    recipe_ner_path = file.replace(\".flow\", \".list\")\n",
        "\n",
        "    recipe_flow_data = open(file, \"r\", encoding=\"utf8\")\n",
        "    flow_lines = recipe_flow_data.readlines()\n",
        "\n",
        "    recipe_ner_data = open(recipe_ner_path, \"r\", encoding=\"utf8\")\n",
        "    ner_lines = recipe_ner_data.readlines()\n",
        "\n",
        "    ner_dict = construct_ner_dict(ner_lines)\n",
        "    append_relation_set(flow_lines, ner_dict, relation_set)\n",
        "\n",
        "    recipe_flow_data.close()\n",
        "    recipe_ner_data.close()\n",
        "\n",
        "  return relation_set"
      ],
      "metadata": {
        "id": "mheq8pSUqv3I"
      },
      "execution_count": null,
      "outputs": []
    },
    {
      "cell_type": "code",
      "execution_count": null,
      "metadata": {
        "id": "Db6gXqPWPBt_"
      },
      "outputs": [],
      "source": [
        "# Extra Edge Label: \"s\" - used when an object is removed\n",
        "def construct_data(target_corpus, relation_set):\n",
        "  recipe_files = glob.glob(project_dir + target_corpus + '/*.flow')\n",
        "\n",
        "  word_pairs = []\n",
        "  sentence_pairs = []\n",
        "  labels = []\n",
        "\n",
        "  for file in recipe_files:\n",
        "    recipe_ner_path = file.replace(\".flow\", \".list\")\n",
        "\n",
        "    recipe_flow_data = open(file, \"r\", encoding=\"utf8\")\n",
        "    recipe_ner_data = open(recipe_ner_path, \"r\", encoding=\"utf8\")\n",
        "\n",
        "    flow_lines = recipe_flow_data.readlines()\n",
        "    ner_lines = recipe_ner_data.readlines()\n",
        "\n",
        "    word_dict = construct_word_dict(ner_lines)\n",
        "    ner_dict = construct_ner_dict(ner_lines)\n",
        "\n",
        "    visited_dict = construct_visited_dict(flow_lines)\n",
        "\n",
        "    pairs = compute_potential_pairs(ner_lines, ner_dict, relation_set)\n",
        "\n",
        "    append_word_pairs(pairs, word_dict, word_pairs)\n",
        "    append_sentence_pairs(pairs, ner_lines, sentence_pairs)\n",
        "    append_labels(pairs, visited_dict, labels) \n",
        "\n",
        "    recipe_flow_data.close()\n",
        "    recipe_ner_data.close()\n",
        "\n",
        "  df = construct_df(word_pairs, sentence_pairs, labels)\n",
        "  return df"
      ]
    },
    {
      "cell_type": "code",
      "source": [
        "def undersample(df):\n",
        "  # Get indices of rows that match the value\n",
        "  match_indices = df.index[df['Label'] == 'x']\n",
        "\n",
        "  # Randomly select half of the indices to delete\n",
        "  delete_indices = np.random.choice(match_indices, size=int(len(match_indices)/1.1), replace=False)\n",
        "\n",
        "  # Delete the selected rows\n",
        "  df = df.drop(delete_indices)\n",
        "\n",
        "  df = df.reset_index(drop=True)\n",
        "\n",
        "  # Print the resulting dataframe\n",
        "  return df\n"
      ],
      "metadata": {
        "id": "RKuV8pmTklnU"
      },
      "execution_count": null,
      "outputs": []
    },
    {
      "cell_type": "code",
      "source": [
        "target_corpus = 'r-100'\n",
        "\n",
        "relation_set = construct_relation_set(target_corpus)\n",
        "print(len(relation_set))\n",
        "df = construct_data(target_corpus, relation_set)"
      ],
      "metadata": {
        "colab": {
          "base_uri": "https://localhost:8080/"
        },
        "id": "aLIuXSXls7R5",
        "outputId": "aa3c5d44-9d74-469c-a03a-147a823778b4"
      },
      "execution_count": null,
      "outputs": [
        {
          "output_type": "stream",
          "name": "stdout",
          "text": [
            "65\n"
          ]
        }
      ]
    },
    {
      "cell_type": "code",
      "source": [
        "df.head()\n",
        "ratio = df['Label'].value_counts()['x'] / df['Label'].value_counts().sum()\n",
        "ratio"
      ],
      "metadata": {
        "colab": {
          "base_uri": "https://localhost:8080/"
        },
        "id": "NxTpfednwshH",
        "outputId": "a6f37f5b-6cc3-4292-b9d4-8c14f18108de"
      },
      "execution_count": null,
      "outputs": [
        {
          "output_type": "execute_result",
          "data": {
            "text/plain": [
              "0.9827075344489197"
            ]
          },
          "metadata": {},
          "execution_count": 288
        }
      ]
    },
    {
      "cell_type": "code",
      "source": [
        "df = undersample(df)\n",
        "df.head()\n",
        "ratio = df['Label'].value_counts()['x'] / df['Label'].value_counts().sum()\n",
        "ratio"
      ],
      "metadata": {
        "colab": {
          "base_uri": "https://localhost:8080/"
        },
        "id": "7SH6VUspkzr0",
        "outputId": "c845be36-0594-4206-b541-19f270fb414f"
      },
      "execution_count": null,
      "outputs": [
        {
          "output_type": "execute_result",
          "data": {
            "text/plain": [
              "0.8378274585104923"
            ]
          },
          "metadata": {},
          "execution_count": 289
        }
      ]
    },
    {
      "cell_type": "code",
      "source": [
        "edge_label_list = df['Label'].unique()\n",
        "edge_label_list"
      ],
      "metadata": {
        "colab": {
          "base_uri": "https://localhost:8080/"
        },
        "id": "opSHihoy_7FC",
        "outputId": "6a564d16-c023-491e-d0ed-8663874aa6ed"
      },
      "execution_count": null,
      "outputs": [
        {
          "output_type": "execute_result",
          "data": {
            "text/plain": [
              "array(['x', 't-comp', 't', 'o', 'a', 'v-tm', 'f-eq', 'd', 'f-part-of',\n",
              "       'f-comp', 't-eq', 'a-eq', 'v', 't-part-of', 's'], dtype=object)"
            ]
          },
          "metadata": {},
          "execution_count": 290
        }
      ]
    },
    {
      "cell_type": "code",
      "source": [
        "dataset = Dataset.from_pandas(df)\n",
        "ClassLabels = ClassLabel(num_classes=len(edge_label_list), names=list(edge_label_list))\n",
        "dataset = dataset.class_encode_column(\"Label\", ClassLabels)"
      ],
      "metadata": {
        "colab": {
          "base_uri": "https://localhost:8080/",
          "height": 17,
          "referenced_widgets": [
            "6ad24b22c8ea48d68b1a8b4d9fe455ad",
            "5310682a41154631bc1b6a24dcf06266",
            "a7875591375d43dc8c3a1382a2854c77",
            "ce9e9fd63f2343098076ae91c2a9a296",
            "04b5a507efd348fbbc4b6a2ab6696ed8",
            "6fbd8e801a774b40a67ff74ab7089c4e",
            "2b787bc6ca334b1dae82fa7bb48413c7",
            "cc19462f5b614ed0b9107fbe372b89e3",
            "7753eeb8041b47e7b5cd66f80fb07e96",
            "68b1eae97862402c8da241cd50125dd4",
            "98ef630a73984d2682afe96b5b81818a"
          ]
        },
        "id": "JtoTTp9t707A",
        "outputId": "20e3dd86-927a-4b00-9b8f-d50bc445b6d7"
      },
      "execution_count": null,
      "outputs": [
        {
          "output_type": "display_data",
          "data": {
            "text/plain": [
              "Casting to class labels:   0%|          | 0/36455 [00:00<?, ? examples/s]"
            ],
            "application/vnd.jupyter.widget-view+json": {
              "version_major": 2,
              "version_minor": 0,
              "model_id": "6ad24b22c8ea48d68b1a8b4d9fe455ad"
            }
          },
          "metadata": {}
        }
      ]
    },
    {
      "cell_type": "code",
      "source": [
        "dataset = dataset.shuffle()\n",
        "split_dataset = dataset.train_test_split(test_size=0.2, stratify_by_column=\"Label\")\n",
        "\n",
        "r_100_flow_datasets = DatasetDict({\n",
        "    \"train\": split_dataset[\"train\"],\n",
        "    \"valid\": split_dataset[\"test\"],\n",
        "})"
      ],
      "metadata": {
        "id": "3cVaF5o08umI"
      },
      "execution_count": null,
      "outputs": []
    },
    {
      "cell_type": "code",
      "source": [
        "def tokenize_function(data):\n",
        "    return tokenizer(data[\"Word Pairs\"], data[\"Sentence Pairs\"], truncation=True)"
      ],
      "metadata": {
        "id": "A-Bz2C8S9bcH"
      },
      "execution_count": null,
      "outputs": []
    },
    {
      "cell_type": "code",
      "source": [
        "from transformers import AutoTokenizer, DataCollatorWithPadding\n",
        "\n",
        "checkpoint = \"bert-base-uncased\"\n",
        "tokenizer = AutoTokenizer.from_pretrained(checkpoint)\n",
        "\n",
        "tokenized_datasets = r_100_flow_datasets.map(tokenize_function, batched=True)\n",
        "data_collator = DataCollatorWithPadding(tokenizer=tokenizer)"
      ],
      "metadata": {
        "colab": {
          "base_uri": "https://localhost:8080/",
          "height": 17,
          "referenced_widgets": [
            "fa79a810ba7f4bb4a336245c3b3d6df4",
            "273c7e4163a44f0190c08785f68848c2",
            "33b8290f9c834480b994358c30135342",
            "0504fc9d41054047afffd4cd56ac88ee",
            "692e14fa21e347a2abbc952f66f77bf4",
            "db193d35660f438895b7117ca4821631",
            "54061177e10a4c8ca3b72f494fb7579b",
            "7de7b3e913ce4db08836fa6462c60560",
            "b0a55926d3ec49fa8e0707516d01467a",
            "ddaf481a65af4ecd9978a948f696f951",
            "57c09e8bb78343bfa249e8d6835d9114",
            "d92e7ee98e10403985c12012ca0cc149",
            "75a77d0a17644c51b8d6503cd0463198",
            "8f8b8afbd4cf4e5bb5fef248cc7e0566",
            "756865f2edc6409a9bf18a82849ac1fd",
            "1659fd1a1e8b4e14a534372a41f4fcc2",
            "2ebbb0b2573d4183ae0af7b3d690f603",
            "4319e914912d47708cd6b73259868b66",
            "22f8bced8b3d4a19b05dca620e9735be",
            "97493c3402f54b6cbfc1a0b8fecc4f51",
            "6e546bd9d7084f9bab95d7366454e4fe",
            "3c57970a0d844b85af90a2a107d77be3"
          ]
        },
        "id": "0sW0QIXf9jqL",
        "outputId": "61e7694d-ef57-4ae7-c2a8-f8bc3f200a19"
      },
      "execution_count": null,
      "outputs": [
        {
          "output_type": "display_data",
          "data": {
            "text/plain": [
              "Map:   0%|          | 0/29164 [00:00<?, ? examples/s]"
            ],
            "application/vnd.jupyter.widget-view+json": {
              "version_major": 2,
              "version_minor": 0,
              "model_id": "fa79a810ba7f4bb4a336245c3b3d6df4"
            }
          },
          "metadata": {}
        },
        {
          "output_type": "display_data",
          "data": {
            "text/plain": [
              "Map:   0%|          | 0/7291 [00:00<?, ? examples/s]"
            ],
            "application/vnd.jupyter.widget-view+json": {
              "version_major": 2,
              "version_minor": 0,
              "model_id": "d92e7ee98e10403985c12012ca0cc149"
            }
          },
          "metadata": {}
        }
      ]
    },
    {
      "cell_type": "code",
      "source": [
        "tokenized_datasets = tokenized_datasets.remove_columns([\"Word Pairs\", \"Sentence Pairs\"])\n",
        "tokenized_datasets = tokenized_datasets.rename_column(\"Label\", \"labels\")\n",
        "tokenized_datasets.set_format(\"torch\")\n",
        "tokenized_datasets[\"train\"].column_names"
      ],
      "metadata": {
        "colab": {
          "base_uri": "https://localhost:8080/"
        },
        "id": "v_eM9E21-UoS",
        "outputId": "fb8ccc38-49d7-43dd-b87a-39d54580d48d"
      },
      "execution_count": null,
      "outputs": [
        {
          "output_type": "execute_result",
          "data": {
            "text/plain": [
              "['labels', 'input_ids', 'token_type_ids', 'attention_mask']"
            ]
          },
          "metadata": {},
          "execution_count": 295
        }
      ]
    },
    {
      "cell_type": "code",
      "source": [
        "from torch.utils.data import DataLoader\n",
        "\n",
        "train_dataloader = DataLoader(\n",
        "    tokenized_datasets[\"train\"], shuffle=True, batch_size=128, collate_fn=data_collator\n",
        ")\n",
        "eval_dataloader = DataLoader(\n",
        "    tokenized_datasets[\"valid\"], batch_size=128, collate_fn=data_collator\n",
        ")"
      ],
      "metadata": {
        "id": "Te7yKm-E9RLx"
      },
      "execution_count": null,
      "outputs": []
    },
    {
      "cell_type": "code",
      "source": [
        "from transformers import AutoModelForSequenceClassification\n",
        "\n",
        "flow_model = AutoModelForSequenceClassification.from_pretrained(checkpoint, num_labels=len(edge_label_list))"
      ],
      "metadata": {
        "colab": {
          "base_uri": "https://localhost:8080/"
        },
        "id": "OZXhVsnB-zZv",
        "outputId": "68e6a12e-d557-44e5-a89a-f159ae03d296"
      },
      "execution_count": null,
      "outputs": [
        {
          "output_type": "stream",
          "name": "stderr",
          "text": [
            "Some weights of the model checkpoint at bert-base-uncased were not used when initializing BertForSequenceClassification: ['cls.predictions.bias', 'cls.seq_relationship.bias', 'cls.predictions.transform.LayerNorm.bias', 'cls.predictions.transform.dense.weight', 'cls.predictions.transform.LayerNorm.weight', 'cls.seq_relationship.weight', 'cls.predictions.transform.dense.bias', 'cls.predictions.decoder.weight']\n",
            "- This IS expected if you are initializing BertForSequenceClassification from the checkpoint of a model trained on another task or with another architecture (e.g. initializing a BertForSequenceClassification model from a BertForPreTraining model).\n",
            "- This IS NOT expected if you are initializing BertForSequenceClassification from the checkpoint of a model that you expect to be exactly identical (initializing a BertForSequenceClassification model from a BertForSequenceClassification model).\n",
            "Some weights of BertForSequenceClassification were not initialized from the model checkpoint at bert-base-uncased and are newly initialized: ['classifier.bias', 'classifier.weight']\n",
            "You should probably TRAIN this model on a down-stream task to be able to use it for predictions and inference.\n"
          ]
        }
      ]
    },
    {
      "cell_type": "code",
      "source": [
        "label_names = tokenized_datasets[\"train\"].features[\"labels\"].names\n",
        "label_names"
      ],
      "metadata": {
        "colab": {
          "base_uri": "https://localhost:8080/"
        },
        "id": "pCcIrJRLflwA",
        "outputId": "48aa457d-d5e3-4047-976a-e31e435cad9e"
      },
      "execution_count": null,
      "outputs": [
        {
          "output_type": "execute_result",
          "data": {
            "text/plain": [
              "['a',\n",
              " 'a-eq',\n",
              " 'd',\n",
              " 'f-comp',\n",
              " 'f-eq',\n",
              " 'f-part-of',\n",
              " 'o',\n",
              " 's',\n",
              " 't',\n",
              " 't-comp',\n",
              " 't-eq',\n",
              " 't-part-of',\n",
              " 'v',\n",
              " 'v-tm',\n",
              " 'x']"
            ]
          },
          "metadata": {},
          "execution_count": 298
        }
      ]
    },
    {
      "cell_type": "code",
      "source": [
        "import evaluate\n",
        "\n",
        "metric = evaluate.load(\"seqeval\")"
      ],
      "metadata": {
        "id": "1l5mAtcthrZJ"
      },
      "execution_count": null,
      "outputs": []
    },
    {
      "cell_type": "code",
      "source": [
        "def postprocess(predictions, labels):\n",
        "    predictions = predictions.detach().cpu().clone().numpy()\n",
        "    labels = labels.detach().cpu().clone().numpy()\n",
        "\n",
        "    # Remove ignored index (special tokens) and convert to labels\n",
        "    true_predictions = [[label_names[prediction]] for prediction in predictions]\n",
        "    true_labels = [[label_names[label]] for label in labels]\n",
        "\n",
        "    return true_predictions, true_labels"
      ],
      "metadata": {
        "id": "1Y8rQssahaTt"
      },
      "execution_count": null,
      "outputs": []
    },
    {
      "cell_type": "code",
      "source": [
        "def evaluate(dataloader_val):\n",
        "\n",
        "    flow_model.eval()\n",
        "    \n",
        "    loss_val_total = 0\n",
        "    predictions, true_vals = [], []\n",
        "    \n",
        "    for batch in dataloader_val:\n",
        "        inputs = {\n",
        "                  'input_ids':      batch['input_ids'],\n",
        "                  'attention_mask': batch['attention_mask'],\n",
        "                  'labels':         batch['labels'],\n",
        "                 }\n",
        "\n",
        "        with torch.no_grad():        \n",
        "            outputs = flow_model(**inputs)\n",
        "            \n",
        "        loss = outputs[0]\n",
        "        logits = outputs[1]\n",
        "        loss_val_total += loss.item()\n",
        "\n",
        "        logits = logits.detach().cpu().numpy()\n",
        "        label_ids = inputs['labels'].cpu().numpy()\n",
        "        predictions.append(logits)\n",
        "        true_vals.append(label_ids)\n",
        "    \n",
        "    loss_val_avg = loss_val_total/len(dataloader_val) \n",
        "    \n",
        "    predictions = np.concatenate(predictions, axis=0)\n",
        "    true_vals = np.concatenate(true_vals, axis=0)\n",
        "            \n",
        "    return loss_val_avg, predictions, true_vals"
      ],
      "metadata": {
        "id": "DVFm1tFK5Abn"
      },
      "execution_count": null,
      "outputs": []
    },
    {
      "cell_type": "code",
      "source": [
        "from sklearn.metrics import f1_score\n",
        "\n",
        "def f1_score_func(preds, labels):\n",
        "    preds_flat = np.argmax(preds, axis=1).flatten()\n",
        "    labels_flat = labels.flatten()\n",
        "    return f1_score(labels_flat, preds_flat, average='weighted')\n",
        "\n",
        "def accuracy_per_class(preds, labels):\n",
        "    label_dict_inverse = {index: label for index, label in enumerate(label_names)}\n",
        "    \n",
        "    preds_flat = np.argmax(preds, axis=1).flatten()\n",
        "    labels_flat = labels.flatten()\n",
        "\n",
        "    for label in np.unique(labels_flat):\n",
        "        y_preds = preds_flat[labels_flat==label]\n",
        "        y_true = labels_flat[labels_flat==label]\n",
        "        print(f'Class: {label_dict_inverse[label]}')\n",
        "        print(f'Accuracy: {len(y_preds[y_preds==label])}/{len(y_true)}\\n')"
      ],
      "metadata": {
        "id": "GhK_xYSu0lVl"
      },
      "execution_count": null,
      "outputs": []
    },
    {
      "cell_type": "code",
      "source": [
        "from tqdm.auto import tqdm\n",
        "from accelerate import Accelerator\n",
        "from transformers import AdamW, AutoModelForSequenceClassification, get_scheduler\n",
        "from sklearn.metrics import f1_score\n",
        "\n",
        "accelerator = Accelerator()\n",
        "\n",
        "flow_model = AutoModelForSequenceClassification.from_pretrained(checkpoint, num_labels=len(edge_label_list))\n",
        "optimizer = AdamW(flow_model.parameters(), lr=3e-5)\n",
        "\n",
        "train_dl, eval_dl, flow_model, optimizer = accelerator.prepare(\n",
        "    train_dataloader, eval_dataloader, flow_model, optimizer\n",
        ")\n",
        "\n",
        "num_epochs = 3\n",
        "num_training_steps = num_epochs * len(train_dl)\n",
        "lr_scheduler = get_scheduler(\n",
        "    \"linear\",\n",
        "    optimizer=optimizer,\n",
        "    num_warmup_steps=0,\n",
        "    num_training_steps=num_training_steps,\n",
        ")\n",
        "\n",
        "progress_bar = tqdm(range(num_training_steps))\n",
        "\n",
        "for epoch in range(num_epochs):\n",
        "    flow_model.train()\n",
        "    for batch in train_dl:\n",
        "        outputs = flow_model(**batch)\n",
        "        loss = outputs.loss\n",
        "        accelerator.backward(loss)\n",
        "\n",
        "        optimizer.step()\n",
        "        lr_scheduler.step()\n",
        "        optimizer.zero_grad()\n",
        "        progress_bar.update(1)\n",
        "\n",
        "\n",
        "    val_loss, predictions, true_vals = evaluate(eval_dl)\n",
        "    val_f1 = f1_score_func(predictions, true_vals)\n",
        "    tqdm.write(f'Validation loss: {val_loss}')\n",
        "    tqdm.write(f'F1 Score (Weighted): {val_f1}')"
      ],
      "metadata": {
        "colab": {
          "base_uri": "https://localhost:8080/",
          "height": 319,
          "referenced_widgets": [
            "698b0c483eaf43cd8dd71fd7179fc439",
            "dff8f9725be540beb745a17fc6a203e5",
            "79f8bf798f634b15acdaf29a665e0f4c",
            "9d640ab92a224e2aaf2b7da732c96c82",
            "3d859c26a9524c17ad28e96e2d5ae134",
            "854cd42728f3436393fed616d77dacd6",
            "85f1686fcacb469eb54ea16026227ac8",
            "e384bd36da054a7b84444457236bdb96",
            "055ee05917914c1c86ae0e1d7610f547",
            "6b066f8ca88d42f9bfe6f4a60935c15f",
            "c292f0200d3c4d7d89d8a3f7b2492203"
          ]
        },
        "id": "bljiNCFLAOU_",
        "outputId": "f0fb8c01-ee64-4564-9c83-ea34a15623a5"
      },
      "execution_count": null,
      "outputs": [
        {
          "output_type": "stream",
          "name": "stderr",
          "text": [
            "Some weights of the model checkpoint at bert-base-uncased were not used when initializing BertForSequenceClassification: ['cls.predictions.bias', 'cls.seq_relationship.bias', 'cls.predictions.transform.LayerNorm.bias', 'cls.predictions.transform.dense.weight', 'cls.predictions.transform.LayerNorm.weight', 'cls.seq_relationship.weight', 'cls.predictions.transform.dense.bias', 'cls.predictions.decoder.weight']\n",
            "- This IS expected if you are initializing BertForSequenceClassification from the checkpoint of a model trained on another task or with another architecture (e.g. initializing a BertForSequenceClassification model from a BertForPreTraining model).\n",
            "- This IS NOT expected if you are initializing BertForSequenceClassification from the checkpoint of a model that you expect to be exactly identical (initializing a BertForSequenceClassification model from a BertForSequenceClassification model).\n",
            "Some weights of BertForSequenceClassification were not initialized from the model checkpoint at bert-base-uncased and are newly initialized: ['classifier.bias', 'classifier.weight']\n",
            "You should probably TRAIN this model on a down-stream task to be able to use it for predictions and inference.\n",
            "/usr/local/lib/python3.8/dist-packages/transformers/optimization.py:306: FutureWarning: This implementation of AdamW is deprecated and will be removed in a future version. Use the PyTorch implementation torch.optim.AdamW instead, or set `no_deprecation_warning=True` to disable this warning\n",
            "  warnings.warn(\n"
          ]
        },
        {
          "output_type": "display_data",
          "data": {
            "text/plain": [
              "  0%|          | 0/684 [00:00<?, ?it/s]"
            ],
            "application/vnd.jupyter.widget-view+json": {
              "version_major": 2,
              "version_minor": 0,
              "model_id": "698b0c483eaf43cd8dd71fd7179fc439"
            }
          },
          "metadata": {}
        },
        {
          "output_type": "stream",
          "name": "stderr",
          "text": [
            "You're using a BertTokenizerFast tokenizer. Please note that with a fast tokenizer, using the `__call__` method is faster than using a method to encode the text followed by a call to the `pad` method to get a padded encoding.\n"
          ]
        },
        {
          "output_type": "stream",
          "name": "stdout",
          "text": [
            "Validation loss: 0.455494365148377\n",
            "F1 Score (Weighted): 0.85451795169885\n",
            "Validation loss: 0.38150714050259504\n",
            "F1 Score (Weighted): 0.875600271104511\n",
            "Validation loss: 0.3592918371422249\n",
            "F1 Score (Weighted): 0.8795466965402874\n"
          ]
        }
      ]
    },
    {
      "cell_type": "code",
      "source": [
        "_, predictions, true_vals = evaluate(eval_dl)\n",
        "val_f1 = f1_score_func(predictions, true_vals)\n",
        "accuracy_per_class(predictions, true_vals)"
      ],
      "metadata": {
        "id": "Om0ZqWrotf9F",
        "colab": {
          "base_uri": "https://localhost:8080/"
        },
        "outputId": "c5f07fc8-3c86-4a66-9da5-64d43c98aa58"
      },
      "execution_count": null,
      "outputs": [
        {
          "output_type": "stream",
          "name": "stdout",
          "text": [
            "Class: a\n",
            "Accuracy: 32/68\n",
            "\n",
            "Class: a-eq\n",
            "Accuracy: 1/21\n",
            "\n",
            "Class: d\n",
            "Accuracy: 17/131\n",
            "\n",
            "Class: f-comp\n",
            "Accuracy: 0/19\n",
            "\n",
            "Class: f-eq\n",
            "Accuracy: 2/93\n",
            "\n",
            "Class: f-part-of\n",
            "Accuracy: 0/49\n",
            "\n",
            "Class: o\n",
            "Accuracy: 146/199\n",
            "\n",
            "Class: s\n",
            "Accuracy: 0/6\n",
            "\n",
            "Class: t\n",
            "Accuracy: 359/446\n",
            "\n",
            "Class: t-comp\n",
            "Accuracy: 18/65\n",
            "\n",
            "Class: t-eq\n",
            "Accuracy: 0/27\n",
            "\n",
            "Class: t-part-of\n",
            "Accuracy: 0/8\n",
            "\n",
            "Class: v\n",
            "Accuracy: 0/12\n",
            "\n",
            "Class: v-tm\n",
            "Accuracy: 17/38\n",
            "\n",
            "Class: x\n",
            "Accuracy: 5946/6109\n",
            "\n"
          ]
        }
      ]
    }
  ]
}