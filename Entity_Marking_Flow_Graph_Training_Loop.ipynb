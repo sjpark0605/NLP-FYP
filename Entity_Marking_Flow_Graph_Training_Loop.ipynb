{
  "cells": [
    {
      "cell_type": "markdown",
      "metadata": {
        "id": "view-in-github",
        "colab_type": "text"
      },
      "source": [
        "<a href=\"https://colab.research.google.com/github/sjpark0605/NLP-FYP/blob/main/Entity_Marking_Flow_Graph_Training_Loop.ipynb\" target=\"_parent\"><img src=\"https://colab.research.google.com/assets/colab-badge.svg\" alt=\"Open In Colab\"/></a>"
      ]
    },
    {
      "cell_type": "code",
      "execution_count": 1,
      "metadata": {
        "id": "wN3-DEysN7Mx"
      },
      "outputs": [],
      "source": [
        "%%capture\n",
        "!pip install datasets evaluate transformers[sentencepiece] accelerate"
      ]
    },
    {
      "cell_type": "code",
      "execution_count": 2,
      "metadata": {
        "id": "BRZ2cKCHN7tM"
      },
      "outputs": [],
      "source": [
        "# Imports for Data Processing\n",
        "import pandas as pd\n",
        "import numpy as np\n",
        "import torch\n",
        "\n",
        "from transformers import AutoModelForSequenceClassification, get_scheduler\n",
        "from datasets import load_from_disk\n",
        "from transformers import AutoTokenizer, DataCollatorWithPadding\n",
        "from accelerate import Accelerator\n",
        "\n",
        "from torch import nn\n",
        "from torch.utils.data import DataLoader\n",
        "\n",
        "from tqdm.auto import tqdm\n",
        "from matplotlib import pyplot as plt\n",
        "\n",
        "from sklearn.metrics import precision_score, recall_score, f1_score, accuracy_score\n",
        "from sklearn.metrics import classification_report\n",
        "\n",
        "from collections import defaultdict"
      ]
    },
    {
      "cell_type": "code",
      "execution_count": 3,
      "metadata": {
        "id": "JEnNzeY1N0Tt"
      },
      "outputs": [],
      "source": [
        "PROJECT_DIR = '/content/drive/MyDrive/COMP0029/'\n",
        "TARGET_CORPUS = 'r-100'\n",
        "MODEL_CHECKPOINT = \"bert-base-cased\"\n",
        "OUTPUT_DIR = PROJECT_DIR + 'outputs/entity-marker-flow/' + TARGET_CORPUS + '/' + MODEL_CHECKPOINT + '/'\n",
        "WEIGHTED_CROSS_ENTROPY = False"
      ]
    },
    {
      "cell_type": "code",
      "execution_count": 4,
      "metadata": {
        "id": "Y8K7Aau1r__u"
      },
      "outputs": [],
      "source": [
        "device = torch.device('cpu')\n",
        "\n",
        "if torch.cuda.is_available():\n",
        "  device = torch.device('cuda')"
      ]
    },
    {
      "cell_type": "code",
      "execution_count": 5,
      "metadata": {
        "id": "7UszZa5GNvPS"
      },
      "outputs": [],
      "source": [
        "corpus_datasets = load_from_disk(PROJECT_DIR + 'datasets/' + TARGET_CORPUS + '-entity-marked-flow')"
      ]
    },
    {
      "cell_type": "code",
      "source": [
        "tokenizer = AutoTokenizer.from_pretrained(MODEL_CHECKPOINT)\n",
        "tokenizer.add_tokens(['<e1>', '</e1>', '<e2>', '</e2>'], special_tokens=True)\n",
        "tokenizer.save_pretrained(OUTPUT_DIR + 'tokenizer/' + TARGET_CORPUS + '-' + MODEL_CHECKPOINT + '-tokenizer')"
      ],
      "metadata": {
        "colab": {
          "base_uri": "https://localhost:8080/"
        },
        "id": "WNr03VRZnV8T",
        "outputId": "e7e2babc-eca5-4748-9e67-22110321adc7"
      },
      "execution_count": 6,
      "outputs": [
        {
          "output_type": "execute_result",
          "data": {
            "text/plain": [
              "('/content/drive/MyDrive/COMP0029/outputs/entity-marker-flow/r-100/bert-base-cased/tokenizer/r-100-bert-base-cased-tokenizer/tokenizer_config.json',\n",
              " '/content/drive/MyDrive/COMP0029/outputs/entity-marker-flow/r-100/bert-base-cased/tokenizer/r-100-bert-base-cased-tokenizer/special_tokens_map.json',\n",
              " '/content/drive/MyDrive/COMP0029/outputs/entity-marker-flow/r-100/bert-base-cased/tokenizer/r-100-bert-base-cased-tokenizer/vocab.txt',\n",
              " '/content/drive/MyDrive/COMP0029/outputs/entity-marker-flow/r-100/bert-base-cased/tokenizer/r-100-bert-base-cased-tokenizer/added_tokens.json',\n",
              " '/content/drive/MyDrive/COMP0029/outputs/entity-marker-flow/r-100/bert-base-cased/tokenizer/r-100-bert-base-cased-tokenizer/tokenizer.json')"
            ]
          },
          "metadata": {},
          "execution_count": 6
        }
      ]
    },
    {
      "cell_type": "code",
      "execution_count": 7,
      "metadata": {
        "id": "PAY16LGkNWOz"
      },
      "outputs": [],
      "source": [
        "def tokenize_function(data):\n",
        "  if data[\"Second Sentence\"] is None:\n",
        "    return tokenizer(data[\"First Sentence\"], add_special_tokens=True, max_length=128, padding='max_length')\n",
        "  return tokenizer(data[\"First Sentence\"], data[\"Second Sentence\"], add_special_tokens=True, max_length=128, padding='max_length')"
      ]
    },
    {
      "cell_type": "code",
      "execution_count": 8,
      "metadata": {
        "colab": {
          "base_uri": "https://localhost:8080/"
        },
        "id": "9RJUeLizNbQn",
        "outputId": "bc1cd768-321e-4cb6-aa2e-5f4d44f9e1c2"
      },
      "outputs": [
        {
          "output_type": "stream",
          "name": "stderr",
          "text": [
            "WARNING:datasets.arrow_dataset:Loading cached processed dataset at /content/drive/MyDrive/COMP0029/datasets/r-100-entity-marked-flow/train/cache-138fdb06bcbbaf85.arrow\n",
            "WARNING:datasets.arrow_dataset:Loading cached processed dataset at /content/drive/MyDrive/COMP0029/datasets/r-100-entity-marked-flow/valid/cache-27f28245d782fedb.arrow\n"
          ]
        }
      ],
      "source": [
        "tokenized_datasets = corpus_datasets.map(tokenize_function, batched=False)\n",
        "data_collator = DataCollatorWithPadding(tokenizer=tokenizer)"
      ]
    },
    {
      "cell_type": "code",
      "execution_count": 9,
      "metadata": {
        "id": "TAVlYNK3NcuR"
      },
      "outputs": [],
      "source": [
        "tokenized_datasets = tokenized_datasets.remove_columns([\"First Sentence\", \"Second Sentence\"])\n",
        "tokenized_datasets = tokenized_datasets.rename_column(\"Label\", \"labels\")"
      ]
    },
    {
      "cell_type": "code",
      "execution_count": 10,
      "metadata": {
        "id": "mgcj3nAGNdz2"
      },
      "outputs": [],
      "source": [
        "train_dataloader = DataLoader(\n",
        "    tokenized_datasets[\"train\"], batch_size=64, collate_fn=data_collator\n",
        ")\n",
        "\n",
        "eval_dataloader = DataLoader(\n",
        "    tokenized_datasets[\"valid\"], batch_size=64, collate_fn=data_collator\n",
        ")\n"
      ]
    },
    {
      "cell_type": "code",
      "execution_count": 11,
      "metadata": {
        "id": "od5Rn2FtNgbR"
      },
      "outputs": [],
      "source": [
        "label_names = tokenized_datasets[\"train\"].features[\"labels\"].names"
      ]
    },
    {
      "cell_type": "code",
      "execution_count": 12,
      "metadata": {
        "id": "W5ABMSQMtkNZ"
      },
      "outputs": [],
      "source": [
        "id2label = {i: label for i, label in enumerate(label_names)}\n",
        "label2id = {v: k for k, v in id2label.items()}"
      ]
    },
    {
      "cell_type": "code",
      "execution_count": 13,
      "metadata": {
        "id": "aqUVymJjNixh"
      },
      "outputs": [],
      "source": [
        "def postprocess(predictions, labels):\n",
        "    predictions = predictions.detach().cpu().clone().numpy()\n",
        "    labels = labels.detach().cpu().clone().numpy()\n",
        "\n",
        "    true_predictions = [[label_names[prediction]] for prediction in predictions]\n",
        "    true_labels = [[label_names[label]] for label in labels]\n",
        "\n",
        "    return true_predictions, true_labels"
      ]
    },
    {
      "cell_type": "code",
      "execution_count": 14,
      "metadata": {
        "id": "k6jlIXgJNkDJ"
      },
      "outputs": [],
      "source": [
        "def evaluate(dataloader_val):\n",
        "    flow_model.eval()\n",
        "    \n",
        "    loss_val_total = 0\n",
        "    predictions, true_vals = [], []\n",
        "    \n",
        "    for batch in dataloader_val:\n",
        "        with torch.no_grad():        \n",
        "            outputs = flow_model(**batch)\n",
        "\n",
        "        loss = outputs.get(\"loss\")\n",
        "        logits = outputs.get(\"logits\")\n",
        "        loss_val_total += loss.item()\n",
        "\n",
        "        logits = logits.detach().cpu().numpy()\n",
        "        label_ids = batch.get('labels').cpu().numpy()\n",
        "        predictions.append(logits)\n",
        "        true_vals.append(label_ids)\n",
        "    \n",
        "    loss_val_avg = loss_val_total/len(dataloader_val) \n",
        "    \n",
        "    predictions = np.concatenate(predictions, axis=0)\n",
        "    true_vals = np.concatenate(true_vals, axis=0)\n",
        "            \n",
        "    return loss_val_avg, predictions, true_vals"
      ]
    },
    {
      "cell_type": "code",
      "execution_count": 15,
      "metadata": {
        "id": "XXqkhN3DNm7F"
      },
      "outputs": [],
      "source": [
        "def obtain_metrics(preds, labels):\n",
        "    preds_flat = np.argmax(preds, axis=1).flatten()\n",
        "    labels_flat = labels.flatten()\n",
        "    return {\n",
        "        \"overall_precision\": precision_score(labels_flat, preds_flat, average='weighted'),\n",
        "        \"overall_recall\": recall_score(labels_flat, preds_flat, average='weighted'),\n",
        "        \"overall_f1\": f1_score(labels_flat, preds_flat, average='weighted'),\n",
        "        \"overall_accuracy\": accuracy_score(labels_flat, preds_flat),\n",
        "    }"
      ]
    },
    {
      "cell_type": "code",
      "execution_count": 16,
      "metadata": {
        "id": "muTR16rfjYxi"
      },
      "outputs": [],
      "source": [
        "# Calculate Weights for Cross Entropy Loss\n",
        "\n",
        "weights = []\n",
        "\n",
        "if WEIGHTED_CROSS_ENTROPY:\n",
        "  num_labels = len(label_names)\n",
        "  frequencies = [0] * num_labels\n",
        "\n",
        "  for batch in train_dataloader:\n",
        "    for label in batch['labels']:\n",
        "        frequencies[label] += 1\n",
        "\n",
        "  weights = [1 / frequency for frequency in frequencies]\n",
        "  weights = torch.tensor(weights).to(device)"
      ]
    },
    {
      "cell_type": "code",
      "source": [
        "accelerator = Accelerator()\n",
        "\n",
        "flow_model = AutoModelForSequenceClassification.from_pretrained(\n",
        "    MODEL_CHECKPOINT, \n",
        "    id2label=id2label,\n",
        "    label2id=label2id,\n",
        "    num_labels=len(label_names)\n",
        ")\n",
        "\n",
        "flow_model.resize_token_embeddings(len(tokenizer))\n",
        "\n",
        "param_optimizer = list(flow_model.named_parameters())\n",
        "no_decay = ['bias', 'gamma', 'beta']\n",
        "optimizer_grouped_parameters = [\n",
        "    {'params': [p for n, p in param_optimizer if not any(nd in n for nd in no_decay)],\n",
        "    'weight_decay_rate': 0.01},\n",
        "    {'params': [p for n, p in param_optimizer if any(nd in n for nd in no_decay)],\n",
        "    'weight_decay_rate': 0.0}]\n",
        "\n",
        "optimizer = torch.optim.AdamW(optimizer_grouped_parameters, lr=3e-5)\n",
        "\n",
        "train_dl, eval_dl, flow_model, optimizer = accelerator.prepare(\n",
        "    train_dataloader, eval_dataloader, flow_model, optimizer\n",
        ")\n",
        "\n",
        "loss_fct = torch.nn.CrossEntropyLoss()\n",
        "\n",
        "if WEIGHTED_CROSS_ENTROPY:\n",
        "  loss_fct = torch.nn.CrossEntropyLoss(weight=weights)"
      ],
      "metadata": {
        "colab": {
          "base_uri": "https://localhost:8080/"
        },
        "id": "D_w7W5sa_fyl",
        "outputId": "4cc1bdd3-6872-439a-ae13-e49752332fca"
      },
      "execution_count": 17,
      "outputs": [
        {
          "output_type": "stream",
          "name": "stderr",
          "text": [
            "Some weights of the model checkpoint at bert-base-cased were not used when initializing BertForSequenceClassification: ['cls.predictions.transform.dense.weight', 'cls.seq_relationship.bias', 'cls.predictions.transform.LayerNorm.bias', 'cls.predictions.decoder.weight', 'cls.seq_relationship.weight', 'cls.predictions.transform.LayerNorm.weight', 'cls.predictions.transform.dense.bias', 'cls.predictions.bias']\n",
            "- This IS expected if you are initializing BertForSequenceClassification from the checkpoint of a model trained on another task or with another architecture (e.g. initializing a BertForSequenceClassification model from a BertForPreTraining model).\n",
            "- This IS NOT expected if you are initializing BertForSequenceClassification from the checkpoint of a model that you expect to be exactly identical (initializing a BertForSequenceClassification model from a BertForSequenceClassification model).\n",
            "Some weights of BertForSequenceClassification were not initialized from the model checkpoint at bert-base-cased and are newly initialized: ['classifier.weight', 'classifier.bias']\n",
            "You should probably TRAIN this model on a down-stream task to be able to use it for predictions and inference.\n"
          ]
        }
      ]
    },
    {
      "cell_type": "code",
      "execution_count": 18,
      "metadata": {
        "colab": {
          "base_uri": "https://localhost:8080/",
          "height": 123,
          "referenced_widgets": [
            "cc02bb4b793e4c019bd71791d058f9ec",
            "7a2807e1a56f4753a13c7feedd906323",
            "c9085aced61542669258e9f12f8cfe59",
            "5f1e8d27b602433bb145e397a619b2cd",
            "8d4a83b6791f4de98c7754f55b73573e",
            "67b70a684f224bfc95b7691e03acbbd9",
            "a2145b64b2444365b2049719d552d2f7",
            "5549f86d478a4e95bfb992de02d46a5f",
            "089028d4c1384e8293234c27ff6f19f7",
            "57c94d7f3b314c16900c8f8a64413692",
            "f5de2e2d7abb4227a2dd7a442295c3cb"
          ]
        },
        "id": "jqmj8aHuNoCU",
        "outputId": "3cf651a3-0570-4655-944b-9e6ad6bb6da2"
      },
      "outputs": [
        {
          "output_type": "display_data",
          "data": {
            "text/plain": [
              "  0%|          | 0/296 [00:00<?, ?it/s]"
            ],
            "application/vnd.jupyter.widget-view+json": {
              "version_major": 2,
              "version_minor": 0,
              "model_id": "cc02bb4b793e4c019bd71791d058f9ec"
            }
          },
          "metadata": {}
        },
        {
          "output_type": "stream",
          "name": "stderr",
          "text": [
            "You're using a BertTokenizerFast tokenizer. Please note that with a fast tokenizer, using the `__call__` method is faster than using a method to encode the text followed by a call to the `pad` method to get a padded encoding.\n",
            "/usr/local/lib/python3.9/dist-packages/sklearn/metrics/_classification.py:1344: UndefinedMetricWarning: Precision is ill-defined and being set to 0.0 in labels with no predicted samples. Use `zero_division` parameter to control this behavior.\n",
            "  _warn_prf(average, modifier, msg_start, len(result))\n"
          ]
        }
      ],
      "source": [
        "epochs = 10\n",
        "num_training_steps = epochs * len(train_dl)\n",
        "lr_scheduler = get_scheduler(\n",
        "    \"linear\",\n",
        "    optimizer=optimizer,\n",
        "    num_warmup_steps=0,\n",
        "    num_training_steps=num_training_steps,\n",
        ")\n",
        "\n",
        "progress_bar = tqdm(range(num_training_steps))\n",
        "\n",
        "overall_metrics = defaultdict(list)\n",
        "train_loss_vals, eval_loss_vals = [], []\n",
        "\n",
        "for epoch in range(epochs):\n",
        "    train_loss_sum = 0\n",
        "    flow_model.train()\n",
        "    for batch in train_dl:\n",
        "        labels = batch.get(\"labels\")\n",
        "        outputs = flow_model(**batch)\n",
        "        logits = outputs.get(\"logits\")\n",
        "\n",
        "        loss = loss_fct(logits.view(-1, flow_model.config.num_labels), labels.view(-1))\n",
        "        train_loss_sum += loss.item()\n",
        "\n",
        "        accelerator.backward(loss)\n",
        "\n",
        "        optimizer.step()\n",
        "        lr_scheduler.step()\n",
        "        optimizer.zero_grad()\n",
        "        progress_bar.update(1)\n",
        "    \n",
        "    train_loss = train_loss_sum / len(train_dl)\n",
        "    train_loss_vals.append(train_loss)\n",
        "\n",
        "    val_loss, predictions, true_vals = evaluate(eval_dl)\n",
        "    perf_metrics = obtain_metrics(predictions, true_vals)\n",
        "\n",
        "    for key in [\"precision\", \"recall\", \"f1\", \"accuracy\"]:\n",
        "        overall_metrics[key].append(perf_metrics[f\"overall_{key}\"] * 100)\n",
        "\n",
        "    eval_loss_vals.append(val_loss)"
      ]
    },
    {
      "cell_type": "code",
      "execution_count": 19,
      "metadata": {
        "id": "PCn4q14NIJKw"
      },
      "outputs": [],
      "source": [
        "flow_model.save_pretrained(OUTPUT_DIR + 'model/' + TARGET_CORPUS + '-' + MODEL_CHECKPOINT + '-model')"
      ]
    },
    {
      "cell_type": "code",
      "source": [
        "plt.plot(range(epochs), train_loss_vals, label='Training Loss')\n",
        "plt.plot(range(epochs), eval_loss_vals, label='Validation Loss')\n",
        "\n",
        "plt.title('Loss for ' + MODEL_CHECKPOINT + ' Model with ' + TARGET_CORPUS + ' Dataset')\n",
        "plt.xlabel('Epochs')\n",
        "plt.ylabel('Loss')\n",
        "plt.ylim(0, None)\n",
        "\n",
        "plt.legend()\n",
        "\n",
        "plt.savefig(OUTPUT_DIR + \"train_valid_losses.png\")"
      ],
      "metadata": {
        "colab": {
          "base_uri": "https://localhost:8080/",
          "height": 295
        },
        "id": "IUUntQWtCEfr",
        "outputId": "7ebb4e99-ba33-4041-b91e-ffddfec0c69b"
      },
      "execution_count": 20,
      "outputs": [
        {
          "output_type": "display_data",
          "data": {
            "text/plain": [
              "<Figure size 432x288 with 1 Axes>"
            ],
            "image/png": "[encoded data removed]"
          },
          "metadata": {
            "needs_background": "light"
          }
        }
      ]
    },
    {
      "cell_type": "code",
      "source": [
        "plt.clf()\n",
        "for key in [\"precision\", \"recall\", \"f1\", \"accuracy\"]:\n",
        "  plt.plot(range(epochs), overall_metrics[key], label = key + ' score')\n",
        "\n",
        "plt.title('Metrics for ' + MODEL_CHECKPOINT + ' Model with ' + TARGET_CORPUS + ' Dataset')\n",
        "plt.xlabel('Epochs')\n",
        "plt.ylabel('Score')\n",
        "plt.ylim(None, 100)\n",
        "\n",
        "plt.legend()\n",
        "plt.savefig(OUTPUT_DIR + \"metrics.png\")"
      ],
      "metadata": {
        "colab": {
          "base_uri": "https://localhost:8080/",
          "height": 295
        },
        "id": "Lx8P0dW2CHeL",
        "outputId": "bc5acfa3-8b3c-4b4e-d3a0-36a788cd7be6"
      },
      "execution_count": 21,
      "outputs": [
        {
          "output_type": "display_data",
          "data": {
            "text/plain": [
              "<Figure size 432x288 with 1 Axes>"
            ],
            "image/png": "[encoded data removed]"
          },
          "metadata": {
            "needs_background": "light"
          }
        }
      ]
    },
    {
      "cell_type": "code",
      "execution_count": 22,
      "metadata": {
        "id": "BYvuE40fNpcc"
      },
      "outputs": [],
      "source": [
        "_, predictions, true_vals = evaluate(eval_dl)"
      ]
    },
    {
      "cell_type": "code",
      "execution_count": 27,
      "metadata": {
        "id": "eDV6OliBJL0O",
        "colab": {
          "base_uri": "https://localhost:8080/"
        },
        "outputId": "b6feddcf-1bb4-44d0-fa6b-d6c6d248c885"
      },
      "outputs": [
        {
          "output_type": "stream",
          "name": "stderr",
          "text": [
            "/usr/local/lib/python3.9/dist-packages/sklearn/metrics/_classification.py:1344: UndefinedMetricWarning: Precision and F-score are ill-defined and being set to 0.0 in labels with no predicted samples. Use `zero_division` parameter to control this behavior.\n",
            "  _warn_prf(average, modifier, msg_start, len(result))\n",
            "/usr/local/lib/python3.9/dist-packages/sklearn/metrics/_classification.py:1344: UndefinedMetricWarning: Precision and F-score are ill-defined and being set to 0.0 in labels with no predicted samples. Use `zero_division` parameter to control this behavior.\n",
            "  _warn_prf(average, modifier, msg_start, len(result))\n",
            "/usr/local/lib/python3.9/dist-packages/sklearn/metrics/_classification.py:1344: UndefinedMetricWarning: Precision and F-score are ill-defined and being set to 0.0 in labels with no predicted samples. Use `zero_division` parameter to control this behavior.\n",
            "  _warn_prf(average, modifier, msg_start, len(result))\n"
          ]
        }
      ],
      "source": [
        "pred_vals = np.argmax(predictions, axis=1).flatten()\n",
        "\n",
        "labeled_preds = [label_names[pred_val] for pred_val in pred_vals]\n",
        "labeled_trues = [label_names[true_val] for true_val in true_vals]\n",
        "\n",
        "directional_report = classification_report(labeled_trues, labeled_preds, output_dict=True)"
      ]
    },
    {
      "cell_type": "code",
      "source": [
        "df = pd.DataFrame(directional_report).transpose()\n",
        "df.to_csv(OUTPUT_DIR + 'directional_classification_report.csv')"
      ],
      "metadata": {
        "id": "4OMvRXezCqEy"
      },
      "execution_count": 28,
      "outputs": []
    },
    {
      "cell_type": "code",
      "source": [
        "pred_vals = np.argmax(predictions, axis=1).flatten()\n",
        "\n",
        "labeled_preds = [label_names[pred_val].replace(\":LR\", \"\").replace(\":RL\", \"\") for pred_val in pred_vals]\n",
        "labeled_trues = [label_names[true_val].replace(\":LR\", \"\").replace(\":RL\", \"\") for true_val in true_vals]\n",
        "\n",
        "non_directional_report = classification_report(labeled_trues, labeled_preds, output_dict=True)"
      ],
      "metadata": {
        "colab": {
          "base_uri": "https://localhost:8080/"
        },
        "id": "GeEBPUjNpMFq",
        "outputId": "bea76f5a-82ef-4ece-91cd-d1a5e987a9a6"
      },
      "execution_count": 29,
      "outputs": [
        {
          "output_type": "stream",
          "name": "stderr",
          "text": [
            "/usr/local/lib/python3.9/dist-packages/sklearn/metrics/_classification.py:1344: UndefinedMetricWarning: Precision and F-score are ill-defined and being set to 0.0 in labels with no predicted samples. Use `zero_division` parameter to control this behavior.\n",
            "  _warn_prf(average, modifier, msg_start, len(result))\n",
            "/usr/local/lib/python3.9/dist-packages/sklearn/metrics/_classification.py:1344: UndefinedMetricWarning: Precision and F-score are ill-defined and being set to 0.0 in labels with no predicted samples. Use `zero_division` parameter to control this behavior.\n",
            "  _warn_prf(average, modifier, msg_start, len(result))\n",
            "/usr/local/lib/python3.9/dist-packages/sklearn/metrics/_classification.py:1344: UndefinedMetricWarning: Precision and F-score are ill-defined and being set to 0.0 in labels with no predicted samples. Use `zero_division` parameter to control this behavior.\n",
            "  _warn_prf(average, modifier, msg_start, len(result))\n"
          ]
        }
      ]
    },
    {
      "cell_type": "code",
      "source": [
        "df = pd.DataFrame(non_directional_report).transpose()\n",
        "df.to_csv(OUTPUT_DIR + 'non_directional_classification_report.csv')"
      ],
      "metadata": {
        "id": "5wCondQRCsE4"
      },
      "execution_count": 30,
      "outputs": []
    }
  ],
  "metadata": {
    "accelerator": "GPU",
    "colab": {
      "machine_shape": "hm",
      "provenance": [],
      "mount_file_id": "1znlCQDrrnmz-FmOW7EgHMIsNtCOg--_T",
      "authorship_tag": "ABX9TyOl76oqzYAOc7XakpphQRwt",
      "include_colab_link": true
    },
    "gpuClass": "premium",
    "kernelspec": {
      "display_name": "Python 3",
      "name": "python3"
    },
    "language_info": {
      "name": "python"
    },
    "widgets": {
      "application/vnd.jupyter.widget-state+json": {
        "cc02bb4b793e4c019bd71791d058f9ec": {
          "model_module": "@jupyter-widgets/controls",
          "model_name": "HBoxModel",
          "model_module_version": "1.5.0",
          "state": {
            "_dom_classes": [],
            "_model_module": "@jupyter-widgets/controls",
            "_model_module_version": "1.5.0",
            "_model_name": "HBoxModel",
            "_view_count": null,
            "_view_module": "@jupyter-widgets/controls",
            "_view_module_version": "1.5.0",
            "_view_name": "HBoxView",
            "box_style": "",
            "children": [
              "IPY_MODEL_7a2807e1a56f4753a13c7feedd906323",
              "IPY_MODEL_c9085aced61542669258e9f12f8cfe59",
              "IPY_MODEL_5f1e8d27b602433bb145e397a619b2cd"
            ],
            "layout": "IPY_MODEL_8d4a83b6791f4de98c7754f55b73573e"
          }
        },
        "7a2807e1a56f4753a13c7feedd906323": {
          "model_module": "@jupyter-widgets/controls",
          "model_name": "HTMLModel",
          "model_module_version": "1.5.0",
          "state": {
            "_dom_classes": [],
            "_model_module": "@jupyter-widgets/controls",
            "_model_module_version": "1.5.0",
            "_model_name": "HTMLModel",
            "_view_count": null,
            "_view_module": "@jupyter-widgets/controls",
            "_view_module_version": "1.5.0",
            "_view_name": "HTMLView",
            "description": "",
            "description_tooltip": null,
            "layout": "IPY_MODEL_67b70a684f224bfc95b7691e03acbbd9",
            "placeholder": "​",
            "style": "IPY_MODEL_a2145b64b2444365b2049719d552d2f7",
            "value": "100%"
          }
        },
        "c9085aced61542669258e9f12f8cfe59": {
          "model_module": "@jupyter-widgets/controls",
          "model_name": "FloatProgressModel",
          "model_module_version": "1.5.0",
          "state": {
            "_dom_classes": [],
            "_model_module": "@jupyter-widgets/controls",
            "_model_module_version": "1.5.0",
            "_model_name": "FloatProgressModel",
            "_view_count": null,
            "_view_module": "@jupyter-widgets/controls",
            "_view_module_version": "1.5.0",
            "_view_name": "ProgressView",
            "bar_style": "",
            "description": "",
            "description_tooltip": null,
            "layout": "IPY_MODEL_5549f86d478a4e95bfb992de02d46a5f",
            "max": 296,
            "min": 0,
            "orientation": "horizontal",
            "style": "IPY_MODEL_089028d4c1384e8293234c27ff6f19f7",
            "value": 296
          }
        },
        "5f1e8d27b602433bb145e397a619b2cd": {
          "model_module": "@jupyter-widgets/controls",
          "model_name": "HTMLModel",
          "model_module_version": "1.5.0",
          "state": {
            "_dom_classes": [],
            "_model_module": "@jupyter-widgets/controls",
            "_model_module_version": "1.5.0",
            "_model_name": "HTMLModel",
            "_view_count": null,
            "_view_module": "@jupyter-widgets/controls",
            "_view_module_version": "1.5.0",
            "_view_name": "HTMLView",
            "description": "",
            "description_tooltip": null,
            "layout": "IPY_MODEL_57c94d7f3b314c16900c8f8a64413692",
            "placeholder": "​",
            "style": "IPY_MODEL_f5de2e2d7abb4227a2dd7a442295c3cb",
            "value": " 296/296 [06:05&lt;00:00,  1.06s/it]"
          }
        },
        "8d4a83b6791f4de98c7754f55b73573e": {
          "model_module": "@jupyter-widgets/base",
          "model_name": "LayoutModel",
          "model_module_version": "1.2.0",
          "state": {
            "_model_module": "@jupyter-widgets/base",
            "_model_module_version": "1.2.0",
            "_model_name": "LayoutModel",
            "_view_count": null,
            "_view_module": "@jupyter-widgets/base",
            "_view_module_version": "1.2.0",
            "_view_name": "LayoutView",
            "align_content": null,
            "align_items": null,
            "align_self": null,
            "border": null,
            "bottom": null,
            "display": null,
            "flex": null,
            "flex_flow": null,
            "grid_area": null,
            "grid_auto_columns": null,
            "grid_auto_flow": null,
            "grid_auto_rows": null,
            "grid_column": null,
            "grid_gap": null,
            "grid_row": null,
            "grid_template_areas": null,
            "grid_template_columns": null,
            "grid_template_rows": null,
            "height": null,
            "justify_content": null,
            "justify_items": null,
            "left": null,
            "margin": null,
            "max_height": null,
            "max_width": null,
            "min_height": null,
            "min_width": null,
            "object_fit": null,
            "object_position": null,
            "order": null,
            "overflow": null,
            "overflow_x": null,
            "overflow_y": null,
            "padding": null,
            "right": null,
            "top": null,
            "visibility": null,
            "width": null
          }
        },
        "67b70a684f224bfc95b7691e03acbbd9": {
          "model_module": "@jupyter-widgets/base",
          "model_name": "LayoutModel",
          "model_module_version": "1.2.0",
          "state": {
            "_model_module": "@jupyter-widgets/base",
            "_model_module_version": "1.2.0",
            "_model_name": "LayoutModel",
            "_view_count": null,
            "_view_module": "@jupyter-widgets/base",
            "_view_module_version": "1.2.0",
            "_view_name": "LayoutView",
            "align_content": null,
            "align_items": null,
            "align_self": null,
            "border": null,
            "bottom": null,
            "display": null,
            "flex": null,
            "flex_flow": null,
            "grid_area": null,
            "grid_auto_columns": null,
            "grid_auto_flow": null,
            "grid_auto_rows": null,
            "grid_column": null,
            "grid_gap": null,
            "grid_row": null,
            "grid_template_areas": null,
            "grid_template_columns": null,
            "grid_template_rows": null,
            "height": null,
            "justify_content": null,
            "justify_items": null,
            "left": null,
            "margin": null,
            "max_height": null,
            "max_width": null,
            "min_height": null,
            "min_width": null,
            "object_fit": null,
            "object_position": null,
            "order": null,
            "overflow": null,
            "overflow_x": null,
            "overflow_y": null,
            "padding": null,
            "right": null,
            "top": null,
            "visibility": null,
            "width": null
          }
        },
        "a2145b64b2444365b2049719d552d2f7": {
          "model_module": "@jupyter-widgets/controls",
          "model_name": "DescriptionStyleModel",
          "model_module_version": "1.5.0",
          "state": {
            "_model_module": "@jupyter-widgets/controls",
            "_model_module_version": "1.5.0",
            "_model_name": "DescriptionStyleModel",
            "_view_count": null,
            "_view_module": "@jupyter-widgets/base",
            "_view_module_version": "1.2.0",
            "_view_name": "StyleView",
            "description_width": ""
          }
        },
        "5549f86d478a4e95bfb992de02d46a5f": {
          "model_module": "@jupyter-widgets/base",
          "model_name": "LayoutModel",
          "model_module_version": "1.2.0",
          "state": {
            "_model_module": "@jupyter-widgets/base",
            "_model_module_version": "1.2.0",
            "_model_name": "LayoutModel",
            "_view_count": null,
            "_view_module": "@jupyter-widgets/base",
            "_view_module_version": "1.2.0",
            "_view_name": "LayoutView",
            "align_content": null,
            "align_items": null,
            "align_self": null,
            "border": null,
            "bottom": null,
            "display": null,
            "flex": null,
            "flex_flow": null,
            "grid_area": null,
            "grid_auto_columns": null,
            "grid_auto_flow": null,
            "grid_auto_rows": null,
            "grid_column": null,
            "grid_gap": null,
            "grid_row": null,
            "grid_template_areas": null,
            "grid_template_columns": null,
            "grid_template_rows": null,
            "height": null,
            "justify_content": null,
            "justify_items": null,
            "left": null,
            "margin": null,
            "max_height": null,
            "max_width": null,
            "min_height": null,
            "min_width": null,
            "object_fit": null,
            "object_position": null,
            "order": null,
            "overflow": null,
            "overflow_x": null,
            "overflow_y": null,
            "padding": null,
            "right": null,
            "top": null,
            "visibility": null,
            "width": null
          }
        },
        "089028d4c1384e8293234c27ff6f19f7": {
          "model_module": "@jupyter-widgets/controls",
          "model_name": "ProgressStyleModel",
          "model_module_version": "1.5.0",
          "state": {
            "_model_module": "@jupyter-widgets/controls",
            "_model_module_version": "1.5.0",
            "_model_name": "ProgressStyleModel",
            "_view_count": null,
            "_view_module": "@jupyter-widgets/base",
            "_view_module_version": "1.2.0",
            "_view_name": "StyleView",
            "bar_color": null,
            "description_width": ""
          }
        },
        "57c94d7f3b314c16900c8f8a64413692": {
          "model_module": "@jupyter-widgets/base",
          "model_name": "LayoutModel",
          "model_module_version": "1.2.0",
          "state": {
            "_model_module": "@jupyter-widgets/base",
            "_model_module_version": "1.2.0",
            "_model_name": "LayoutModel",
            "_view_count": null,
            "_view_module": "@jupyter-widgets/base",
            "_view_module_version": "1.2.0",
            "_view_name": "LayoutView",
            "align_content": null,
            "align_items": null,
            "align_self": null,
            "border": null,
            "bottom": null,
            "display": null,
            "flex": null,
            "flex_flow": null,
            "grid_area": null,
            "grid_auto_columns": null,
            "grid_auto_flow": null,
            "grid_auto_rows": null,
            "grid_column": null,
            "grid_gap": null,
            "grid_row": null,
            "grid_template_areas": null,
            "grid_template_columns": null,
            "grid_template_rows": null,
            "height": null,
            "justify_content": null,
            "justify_items": null,
            "left": null,
            "margin": null,
            "max_height": null,
            "max_width": null,
            "min_height": null,
            "min_width": null,
            "object_fit": null,
            "object_position": null,
            "order": null,
            "overflow": null,
            "overflow_x": null,
            "overflow_y": null,
            "padding": null,
            "right": null,
            "top": null,
            "visibility": null,
            "width": null
          }
        },
        "f5de2e2d7abb4227a2dd7a442295c3cb": {
          "model_module": "@jupyter-widgets/controls",
          "model_name": "DescriptionStyleModel",
          "model_module_version": "1.5.0",
          "state": {
            "_model_module": "@jupyter-widgets/controls",
            "_model_module_version": "1.5.0",
            "_model_name": "DescriptionStyleModel",
            "_view_count": null,
            "_view_module": "@jupyter-widgets/base",
            "_view_module_version": "1.2.0",
            "_view_name": "StyleView",
            "description_width": ""
          }
        }
      }
    }
  },
  "nbformat": 4,
  "nbformat_minor": 0
}